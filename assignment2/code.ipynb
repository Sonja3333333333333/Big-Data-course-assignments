{
 "cells": [
  {
   "cell_type": "code",
   "execution_count": 29,
   "id": "031c65d0",
   "metadata": {},
   "outputs": [],
   "source": [
    "import pandas as pd\n",
    "import plotly.express as px\n",
    "import math\n",
    "import numpy as np"
   ]
  },
  {
   "cell_type": "code",
   "execution_count": 76,
   "id": "3a32f3f7",
   "metadata": {},
   "outputs": [
    {
     "data": {
      "text/html": [
       "<div>\n",
       "<style scoped>\n",
       "    .dataframe tbody tr th:only-of-type {\n",
       "        vertical-align: middle;\n",
       "    }\n",
       "\n",
       "    .dataframe tbody tr th {\n",
       "        vertical-align: top;\n",
       "    }\n",
       "\n",
       "    .dataframe thead th {\n",
       "        text-align: right;\n",
       "    }\n",
       "</style>\n",
       "<table border=\"1\" class=\"dataframe\">\n",
       "  <thead>\n",
       "    <tr style=\"text-align: right;\">\n",
       "      <th></th>\n",
       "      <th>Date</th>\n",
       "      <th>Open</th>\n",
       "      <th>High</th>\n",
       "      <th>Low</th>\n",
       "      <th>Close</th>\n",
       "      <th>Volume</th>\n",
       "    </tr>\n",
       "  </thead>\n",
       "  <tbody>\n",
       "    <tr>\n",
       "      <th>0</th>\n",
       "      <td>12/31/24</td>\n",
       "      <td>NaN</td>\n",
       "      <td>NaN</td>\n",
       "      <td>NaN</td>\n",
       "      <td>584.99</td>\n",
       "      <td>0</td>\n",
       "    </tr>\n",
       "    <tr>\n",
       "      <th>1</th>\n",
       "      <td>12/30/24</td>\n",
       "      <td>588.23</td>\n",
       "      <td>596.41</td>\n",
       "      <td>585.06</td>\n",
       "      <td>590.71</td>\n",
       "      <td>7018194</td>\n",
       "    </tr>\n",
       "    <tr>\n",
       "      <th>2</th>\n",
       "      <td>12/27/24</td>\n",
       "      <td>598.88</td>\n",
       "      <td>601.32</td>\n",
       "      <td>589.28</td>\n",
       "      <td>599.28</td>\n",
       "      <td>8091548</td>\n",
       "    </tr>\n",
       "    <tr>\n",
       "      <th>3</th>\n",
       "      <td>12/26/24</td>\n",
       "      <td>604.94</td>\n",
       "      <td>605.76</td>\n",
       "      <td>598.41</td>\n",
       "      <td>602.81</td>\n",
       "      <td>6115393</td>\n",
       "    </tr>\n",
       "    <tr>\n",
       "      <th>4</th>\n",
       "      <td>12/24/24</td>\n",
       "      <td>602.18</td>\n",
       "      <td>607.45</td>\n",
       "      <td>598.75</td>\n",
       "      <td>607.21</td>\n",
       "      <td>4731816</td>\n",
       "    </tr>\n",
       "    <tr>\n",
       "      <th>5</th>\n",
       "      <td>12/23/24</td>\n",
       "      <td>589.08</td>\n",
       "      <td>600.56</td>\n",
       "      <td>585.73</td>\n",
       "      <td>599.32</td>\n",
       "      <td>10203091</td>\n",
       "    </tr>\n",
       "    <tr>\n",
       "      <th>6</th>\n",
       "      <td>12/20/24</td>\n",
       "      <td>590.05</td>\n",
       "      <td>602.57</td>\n",
       "      <td>579.48</td>\n",
       "      <td>584.73</td>\n",
       "      <td>50434704</td>\n",
       "    </tr>\n",
       "    <tr>\n",
       "      <th>7</th>\n",
       "      <td>12/19/24</td>\n",
       "      <td>609.85</td>\n",
       "      <td>610.98</td>\n",
       "      <td>597.71</td>\n",
       "      <td>599.12</td>\n",
       "      <td>8682705</td>\n",
       "    </tr>\n",
       "    <tr>\n",
       "      <th>8</th>\n",
       "      <td>12/18/24</td>\n",
       "      <td>620.45</td>\n",
       "      <td>626.80</td>\n",
       "      <td>595.79</td>\n",
       "      <td>596.66</td>\n",
       "      <td>17048242</td>\n",
       "    </tr>\n",
       "    <tr>\n",
       "      <th>9</th>\n",
       "      <td>12/17/24</td>\n",
       "      <td>625.61</td>\n",
       "      <td>631.81</td>\n",
       "      <td>615.99</td>\n",
       "      <td>618.89</td>\n",
       "      <td>13299544</td>\n",
       "    </tr>\n",
       "  </tbody>\n",
       "</table>\n",
       "</div>"
      ],
      "text/plain": [
       "       Date    Open    High     Low   Close    Volume\n",
       "0  12/31/24     NaN     NaN     NaN  584.99         0\n",
       "1  12/30/24  588.23  596.41  585.06  590.71   7018194\n",
       "2  12/27/24  598.88  601.32  589.28  599.28   8091548\n",
       "3  12/26/24  604.94  605.76  598.41  602.81   6115393\n",
       "4  12/24/24  602.18  607.45  598.75  607.21   4731816\n",
       "5  12/23/24  589.08  600.56  585.73  599.32  10203091\n",
       "6  12/20/24  590.05  602.57  579.48  584.73  50434704\n",
       "7  12/19/24  609.85  610.98  597.71  599.12   8682705\n",
       "8  12/18/24  620.45  626.80  595.79  596.66  17048242\n",
       "9  12/17/24  625.61  631.81  615.99  618.89  13299544"
      ]
     },
     "execution_count": 76,
     "metadata": {},
     "output_type": "execute_result"
    }
   ],
   "source": [
    "meta = pd.read_csv(\"historical.csv\")\n",
    "meta = meta[[\"Date\", \"Open\", \"High\", \"Low\", \"Close\", \"Volume\"]]\n",
    "meta.head(10)"
   ]
  },
  {
   "cell_type": "code",
   "execution_count": 77,
   "id": "95a6469a",
   "metadata": {},
   "outputs": [
    {
     "data": {
      "text/html": [
       "<div>\n",
       "<style scoped>\n",
       "    .dataframe tbody tr th:only-of-type {\n",
       "        vertical-align: middle;\n",
       "    }\n",
       "\n",
       "    .dataframe tbody tr th {\n",
       "        vertical-align: top;\n",
       "    }\n",
       "\n",
       "    .dataframe thead th {\n",
       "        text-align: right;\n",
       "    }\n",
       "</style>\n",
       "<table border=\"1\" class=\"dataframe\">\n",
       "  <thead>\n",
       "    <tr style=\"text-align: right;\">\n",
       "      <th></th>\n",
       "      <th>Date</th>\n",
       "      <th>Open</th>\n",
       "      <th>High</th>\n",
       "      <th>Low</th>\n",
       "      <th>Close</th>\n",
       "      <th>Volume</th>\n",
       "    </tr>\n",
       "  </thead>\n",
       "  <tbody>\n",
       "    <tr>\n",
       "      <th>0</th>\n",
       "      <td>2019-01-02</td>\n",
       "      <td>3.26600</td>\n",
       "      <td>3.46200</td>\n",
       "      <td>3.25125</td>\n",
       "      <td>3.40550</td>\n",
       "      <td>508752000</td>\n",
       "    </tr>\n",
       "    <tr>\n",
       "      <th>1</th>\n",
       "      <td>2019-01-03</td>\n",
       "      <td>3.34475</td>\n",
       "      <td>3.37900</td>\n",
       "      <td>3.19225</td>\n",
       "      <td>3.19975</td>\n",
       "      <td>705552000</td>\n",
       "    </tr>\n",
       "    <tr>\n",
       "      <th>2</th>\n",
       "      <td>2019-01-04</td>\n",
       "      <td>3.27350</td>\n",
       "      <td>3.44325</td>\n",
       "      <td>3.24250</td>\n",
       "      <td>3.40475</td>\n",
       "      <td>585620000</td>\n",
       "    </tr>\n",
       "    <tr>\n",
       "      <th>3</th>\n",
       "      <td>2019-01-07</td>\n",
       "      <td>3.46250</td>\n",
       "      <td>3.62225</td>\n",
       "      <td>3.41075</td>\n",
       "      <td>3.58500</td>\n",
       "      <td>709160000</td>\n",
       "    </tr>\n",
       "    <tr>\n",
       "      <th>4</th>\n",
       "      <td>2019-01-08</td>\n",
       "      <td>3.66725</td>\n",
       "      <td>3.66950</td>\n",
       "      <td>3.42250</td>\n",
       "      <td>3.49575</td>\n",
       "      <td>786016000</td>\n",
       "    </tr>\n",
       "    <tr>\n",
       "      <th>5</th>\n",
       "      <td>2019-01-09</td>\n",
       "      <td>3.54750</td>\n",
       "      <td>3.61225</td>\n",
       "      <td>3.49650</td>\n",
       "      <td>3.56450</td>\n",
       "      <td>617260000</td>\n",
       "    </tr>\n",
       "    <tr>\n",
       "      <th>6</th>\n",
       "      <td>2019-01-10</td>\n",
       "      <td>3.54500</td>\n",
       "      <td>3.63950</td>\n",
       "      <td>3.48400</td>\n",
       "      <td>3.63075</td>\n",
       "      <td>523156000</td>\n",
       "    </tr>\n",
       "    <tr>\n",
       "      <th>7</th>\n",
       "      <td>2019-01-11</td>\n",
       "      <td>3.60825</td>\n",
       "      <td>3.74375</td>\n",
       "      <td>3.58025</td>\n",
       "      <td>3.72075</td>\n",
       "      <td>874764000</td>\n",
       "    </tr>\n",
       "    <tr>\n",
       "      <th>8</th>\n",
       "      <td>2019-01-14</td>\n",
       "      <td>3.66800</td>\n",
       "      <td>3.78650</td>\n",
       "      <td>3.64425</td>\n",
       "      <td>3.76100</td>\n",
       "      <td>730168000</td>\n",
       "    </tr>\n",
       "    <tr>\n",
       "      <th>9</th>\n",
       "      <td>2019-01-15</td>\n",
       "      <td>3.79400</td>\n",
       "      <td>3.83375</td>\n",
       "      <td>3.72825</td>\n",
       "      <td>3.74675</td>\n",
       "      <td>617012000</td>\n",
       "    </tr>\n",
       "  </tbody>\n",
       "</table>\n",
       "</div>"
      ],
      "text/plain": [
       "         Date     Open     High      Low    Close     Volume\n",
       "0  2019-01-02  3.26600  3.46200  3.25125  3.40550  508752000\n",
       "1  2019-01-03  3.34475  3.37900  3.19225  3.19975  705552000\n",
       "2  2019-01-04  3.27350  3.44325  3.24250  3.40475  585620000\n",
       "3  2019-01-07  3.46250  3.62225  3.41075  3.58500  709160000\n",
       "4  2019-01-08  3.66725  3.66950  3.42250  3.49575  786016000\n",
       "5  2019-01-09  3.54750  3.61225  3.49650  3.56450  617260000\n",
       "6  2019-01-10  3.54500  3.63950  3.48400  3.63075  523156000\n",
       "7  2019-01-11  3.60825  3.74375  3.58025  3.72075  874764000\n",
       "8  2019-01-14  3.66800  3.78650  3.64425  3.76100  730168000\n",
       "9  2019-01-15  3.79400  3.83375  3.72825  3.74675  617012000"
      ]
     },
     "execution_count": 77,
     "metadata": {},
     "output_type": "execute_result"
    }
   ],
   "source": [
    "nvidia = pd.read_csv(\"nvidia.csv\")\n",
    "nvidia = nvidia[[\"Date\", \"Open\", \"High\", \"Low\", \"Close\", \"Volume\"]]\n",
    "nvidia.head(10)"
   ]
  },
  {
   "cell_type": "code",
   "execution_count": 78,
   "id": "23405b59",
   "metadata": {},
   "outputs": [
    {
     "name": "stdout",
     "output_type": "stream",
     "text": [
      "<class 'pandas.core.frame.DataFrame'>\n",
      "RangeIndex: 251 entries, 0 to 250\n",
      "Data columns (total 6 columns):\n",
      " #   Column  Non-Null Count  Dtype  \n",
      "---  ------  --------------  -----  \n",
      " 0   Date    251 non-null    object \n",
      " 1   Open    250 non-null    float64\n",
      " 2   High    250 non-null    float64\n",
      " 3   Low     250 non-null    float64\n",
      " 4   Close   251 non-null    float64\n",
      " 5   Volume  251 non-null    int64  \n",
      "dtypes: float64(4), int64(1), object(1)\n",
      "memory usage: 11.9+ KB\n"
     ]
    }
   ],
   "source": [
    "meta.info()"
   ]
  },
  {
   "cell_type": "code",
   "execution_count": 56,
   "id": "e6b022c1",
   "metadata": {},
   "outputs": [
    {
     "name": "stdout",
     "output_type": "stream",
     "text": [
      "<class 'pandas.core.frame.DataFrame'>\n",
      "RangeIndex: 1428 entries, 0 to 1427\n",
      "Data columns (total 6 columns):\n",
      " #   Column  Non-Null Count  Dtype  \n",
      "---  ------  --------------  -----  \n",
      " 0   Date    1428 non-null   object \n",
      " 1   Open    1428 non-null   float64\n",
      " 2   High    1428 non-null   float64\n",
      " 3   Low     1428 non-null   float64\n",
      " 4   Close   1428 non-null   float64\n",
      " 5   Volume  1428 non-null   int64  \n",
      "dtypes: float64(4), int64(1), object(1)\n",
      "memory usage: 67.1+ KB\n"
     ]
    }
   ],
   "source": [
    "nvidia.info()"
   ]
  },
  {
   "cell_type": "markdown",
   "id": "3653ed93",
   "metadata": {},
   "source": [
    "| Назва      | Тип               | Пояснення                                                                          |\n",
    "| ---------- | ----------------- | ---------------------------------------------------------------------------------- |\n",
    "| **Date**   | object / datetime | Дата торгової сесії (наприклад, `\"2024-08-28\"`).                                   |\n",
    "| **Open**   | float64           | Ціна акції на початку торгового дня.                                               |\n",
    "| **High**   | float64           | Найвища ціна акції протягом цього дня.                                             |\n",
    "| **Low**    | float64           | Найнижча ціна акції протягом цього дня.                                            |\n",
    "| **Close**  | float64           | Ціна акції на момент закриття ринку. Це найважливіша ціна для аналізу.             |\n",
    "| **Volume** | int64             | Кількість акцій, які були куплені/продані протягом дня. Вимірює активність торгів. |\n"
   ]
  },
  {
   "cell_type": "code",
   "execution_count": 79,
   "id": "a0011e3c",
   "metadata": {},
   "outputs": [
    {
     "data": {
      "text/html": [
       "<div>\n",
       "<style scoped>\n",
       "    .dataframe tbody tr th:only-of-type {\n",
       "        vertical-align: middle;\n",
       "    }\n",
       "\n",
       "    .dataframe tbody tr th {\n",
       "        vertical-align: top;\n",
       "    }\n",
       "\n",
       "    .dataframe thead th {\n",
       "        text-align: right;\n",
       "    }\n",
       "</style>\n",
       "<table border=\"1\" class=\"dataframe\">\n",
       "  <thead>\n",
       "    <tr style=\"text-align: right;\">\n",
       "      <th></th>\n",
       "      <th>Date</th>\n",
       "      <th>Open</th>\n",
       "      <th>High</th>\n",
       "      <th>Low</th>\n",
       "      <th>Close</th>\n",
       "      <th>Volume</th>\n",
       "    </tr>\n",
       "  </thead>\n",
       "  <tbody>\n",
       "    <tr>\n",
       "      <th>0</th>\n",
       "      <td>2024-12-31</td>\n",
       "      <td>NaN</td>\n",
       "      <td>NaN</td>\n",
       "      <td>NaN</td>\n",
       "      <td>584.99</td>\n",
       "      <td>0</td>\n",
       "    </tr>\n",
       "    <tr>\n",
       "      <th>1</th>\n",
       "      <td>2024-12-30</td>\n",
       "      <td>588.23</td>\n",
       "      <td>596.41</td>\n",
       "      <td>585.06</td>\n",
       "      <td>590.71</td>\n",
       "      <td>7018194</td>\n",
       "    </tr>\n",
       "    <tr>\n",
       "      <th>2</th>\n",
       "      <td>2024-12-27</td>\n",
       "      <td>598.88</td>\n",
       "      <td>601.32</td>\n",
       "      <td>589.28</td>\n",
       "      <td>599.28</td>\n",
       "      <td>8091548</td>\n",
       "    </tr>\n",
       "    <tr>\n",
       "      <th>3</th>\n",
       "      <td>2024-12-26</td>\n",
       "      <td>604.94</td>\n",
       "      <td>605.76</td>\n",
       "      <td>598.41</td>\n",
       "      <td>602.81</td>\n",
       "      <td>6115393</td>\n",
       "    </tr>\n",
       "    <tr>\n",
       "      <th>4</th>\n",
       "      <td>2024-12-24</td>\n",
       "      <td>602.18</td>\n",
       "      <td>607.45</td>\n",
       "      <td>598.75</td>\n",
       "      <td>607.21</td>\n",
       "      <td>4731816</td>\n",
       "    </tr>\n",
       "    <tr>\n",
       "      <th>5</th>\n",
       "      <td>2024-12-23</td>\n",
       "      <td>589.08</td>\n",
       "      <td>600.56</td>\n",
       "      <td>585.73</td>\n",
       "      <td>599.32</td>\n",
       "      <td>10203091</td>\n",
       "    </tr>\n",
       "    <tr>\n",
       "      <th>6</th>\n",
       "      <td>2024-12-20</td>\n",
       "      <td>590.05</td>\n",
       "      <td>602.57</td>\n",
       "      <td>579.48</td>\n",
       "      <td>584.73</td>\n",
       "      <td>50434704</td>\n",
       "    </tr>\n",
       "    <tr>\n",
       "      <th>7</th>\n",
       "      <td>2024-12-19</td>\n",
       "      <td>609.85</td>\n",
       "      <td>610.98</td>\n",
       "      <td>597.71</td>\n",
       "      <td>599.12</td>\n",
       "      <td>8682705</td>\n",
       "    </tr>\n",
       "    <tr>\n",
       "      <th>8</th>\n",
       "      <td>2024-12-18</td>\n",
       "      <td>620.45</td>\n",
       "      <td>626.80</td>\n",
       "      <td>595.79</td>\n",
       "      <td>596.66</td>\n",
       "      <td>17048242</td>\n",
       "    </tr>\n",
       "    <tr>\n",
       "      <th>9</th>\n",
       "      <td>2024-12-17</td>\n",
       "      <td>625.61</td>\n",
       "      <td>631.81</td>\n",
       "      <td>615.99</td>\n",
       "      <td>618.89</td>\n",
       "      <td>13299544</td>\n",
       "    </tr>\n",
       "  </tbody>\n",
       "</table>\n",
       "</div>"
      ],
      "text/plain": [
       "        Date    Open    High     Low   Close    Volume\n",
       "0 2024-12-31     NaN     NaN     NaN  584.99         0\n",
       "1 2024-12-30  588.23  596.41  585.06  590.71   7018194\n",
       "2 2024-12-27  598.88  601.32  589.28  599.28   8091548\n",
       "3 2024-12-26  604.94  605.76  598.41  602.81   6115393\n",
       "4 2024-12-24  602.18  607.45  598.75  607.21   4731816\n",
       "5 2024-12-23  589.08  600.56  585.73  599.32  10203091\n",
       "6 2024-12-20  590.05  602.57  579.48  584.73  50434704\n",
       "7 2024-12-19  609.85  610.98  597.71  599.12   8682705\n",
       "8 2024-12-18  620.45  626.80  595.79  596.66  17048242\n",
       "9 2024-12-17  625.61  631.81  615.99  618.89  13299544"
      ]
     },
     "execution_count": 79,
     "metadata": {},
     "output_type": "execute_result"
    }
   ],
   "source": [
    "meta[\"Date\"] = pd.to_datetime(meta[\"Date\"], format=\"%m/%d/%y\")\n",
    "meta.head(10)"
   ]
  },
  {
   "cell_type": "code",
   "execution_count": 80,
   "id": "ac656eb9",
   "metadata": {},
   "outputs": [
    {
     "data": {
      "text/html": [
       "<div>\n",
       "<style scoped>\n",
       "    .dataframe tbody tr th:only-of-type {\n",
       "        vertical-align: middle;\n",
       "    }\n",
       "\n",
       "    .dataframe tbody tr th {\n",
       "        vertical-align: top;\n",
       "    }\n",
       "\n",
       "    .dataframe thead th {\n",
       "        text-align: right;\n",
       "    }\n",
       "</style>\n",
       "<table border=\"1\" class=\"dataframe\">\n",
       "  <thead>\n",
       "    <tr style=\"text-align: right;\">\n",
       "      <th></th>\n",
       "      <th>Date</th>\n",
       "      <th>Open</th>\n",
       "      <th>High</th>\n",
       "      <th>Low</th>\n",
       "      <th>Close</th>\n",
       "      <th>Volume</th>\n",
       "    </tr>\n",
       "  </thead>\n",
       "  <tbody>\n",
       "    <tr>\n",
       "      <th>0</th>\n",
       "      <td>2019-01-02</td>\n",
       "      <td>3.26600</td>\n",
       "      <td>3.46200</td>\n",
       "      <td>3.25125</td>\n",
       "      <td>3.40550</td>\n",
       "      <td>508752000</td>\n",
       "    </tr>\n",
       "    <tr>\n",
       "      <th>1</th>\n",
       "      <td>2019-01-03</td>\n",
       "      <td>3.34475</td>\n",
       "      <td>3.37900</td>\n",
       "      <td>3.19225</td>\n",
       "      <td>3.19975</td>\n",
       "      <td>705552000</td>\n",
       "    </tr>\n",
       "    <tr>\n",
       "      <th>2</th>\n",
       "      <td>2019-01-04</td>\n",
       "      <td>3.27350</td>\n",
       "      <td>3.44325</td>\n",
       "      <td>3.24250</td>\n",
       "      <td>3.40475</td>\n",
       "      <td>585620000</td>\n",
       "    </tr>\n",
       "    <tr>\n",
       "      <th>3</th>\n",
       "      <td>2019-01-07</td>\n",
       "      <td>3.46250</td>\n",
       "      <td>3.62225</td>\n",
       "      <td>3.41075</td>\n",
       "      <td>3.58500</td>\n",
       "      <td>709160000</td>\n",
       "    </tr>\n",
       "    <tr>\n",
       "      <th>4</th>\n",
       "      <td>2019-01-08</td>\n",
       "      <td>3.66725</td>\n",
       "      <td>3.66950</td>\n",
       "      <td>3.42250</td>\n",
       "      <td>3.49575</td>\n",
       "      <td>786016000</td>\n",
       "    </tr>\n",
       "    <tr>\n",
       "      <th>5</th>\n",
       "      <td>2019-01-09</td>\n",
       "      <td>3.54750</td>\n",
       "      <td>3.61225</td>\n",
       "      <td>3.49650</td>\n",
       "      <td>3.56450</td>\n",
       "      <td>617260000</td>\n",
       "    </tr>\n",
       "    <tr>\n",
       "      <th>6</th>\n",
       "      <td>2019-01-10</td>\n",
       "      <td>3.54500</td>\n",
       "      <td>3.63950</td>\n",
       "      <td>3.48400</td>\n",
       "      <td>3.63075</td>\n",
       "      <td>523156000</td>\n",
       "    </tr>\n",
       "    <tr>\n",
       "      <th>7</th>\n",
       "      <td>2019-01-11</td>\n",
       "      <td>3.60825</td>\n",
       "      <td>3.74375</td>\n",
       "      <td>3.58025</td>\n",
       "      <td>3.72075</td>\n",
       "      <td>874764000</td>\n",
       "    </tr>\n",
       "    <tr>\n",
       "      <th>8</th>\n",
       "      <td>2019-01-14</td>\n",
       "      <td>3.66800</td>\n",
       "      <td>3.78650</td>\n",
       "      <td>3.64425</td>\n",
       "      <td>3.76100</td>\n",
       "      <td>730168000</td>\n",
       "    </tr>\n",
       "    <tr>\n",
       "      <th>9</th>\n",
       "      <td>2019-01-15</td>\n",
       "      <td>3.79400</td>\n",
       "      <td>3.83375</td>\n",
       "      <td>3.72825</td>\n",
       "      <td>3.74675</td>\n",
       "      <td>617012000</td>\n",
       "    </tr>\n",
       "  </tbody>\n",
       "</table>\n",
       "</div>"
      ],
      "text/plain": [
       "        Date     Open     High      Low    Close     Volume\n",
       "0 2019-01-02  3.26600  3.46200  3.25125  3.40550  508752000\n",
       "1 2019-01-03  3.34475  3.37900  3.19225  3.19975  705552000\n",
       "2 2019-01-04  3.27350  3.44325  3.24250  3.40475  585620000\n",
       "3 2019-01-07  3.46250  3.62225  3.41075  3.58500  709160000\n",
       "4 2019-01-08  3.66725  3.66950  3.42250  3.49575  786016000\n",
       "5 2019-01-09  3.54750  3.61225  3.49650  3.56450  617260000\n",
       "6 2019-01-10  3.54500  3.63950  3.48400  3.63075  523156000\n",
       "7 2019-01-11  3.60825  3.74375  3.58025  3.72075  874764000\n",
       "8 2019-01-14  3.66800  3.78650  3.64425  3.76100  730168000\n",
       "9 2019-01-15  3.79400  3.83375  3.72825  3.74675  617012000"
      ]
     },
     "execution_count": 80,
     "metadata": {},
     "output_type": "execute_result"
    }
   ],
   "source": [
    "nvidia[\"Date\"] = pd.to_datetime(nvidia[\"Date\"])\n",
    "nvidia.head(10)"
   ]
  },
  {
   "cell_type": "code",
   "execution_count": 81,
   "id": "f7fad5fd",
   "metadata": {},
   "outputs": [
    {
     "data": {
      "text/plain": [
       "pandas._libs.tslibs.timestamps.Timestamp"
      ]
     },
     "execution_count": 81,
     "metadata": {},
     "output_type": "execute_result"
    }
   ],
   "source": [
    "type(nvidia[\"Date\"][0])"
   ]
  },
  {
   "cell_type": "code",
   "execution_count": 82,
   "id": "c658e333",
   "metadata": {},
   "outputs": [],
   "source": [
    "meta_start = meta[\"Date\"].min()"
   ]
  },
  {
   "cell_type": "code",
   "execution_count": 83,
   "id": "02630f60",
   "metadata": {},
   "outputs": [
    {
     "data": {
      "text/html": [
       "<div>\n",
       "<style scoped>\n",
       "    .dataframe tbody tr th:only-of-type {\n",
       "        vertical-align: middle;\n",
       "    }\n",
       "\n",
       "    .dataframe tbody tr th {\n",
       "        vertical-align: top;\n",
       "    }\n",
       "\n",
       "    .dataframe thead th {\n",
       "        text-align: right;\n",
       "    }\n",
       "</style>\n",
       "<table border=\"1\" class=\"dataframe\">\n",
       "  <thead>\n",
       "    <tr style=\"text-align: right;\">\n",
       "      <th></th>\n",
       "      <th>Date</th>\n",
       "      <th>Open</th>\n",
       "      <th>High</th>\n",
       "      <th>Low</th>\n",
       "      <th>Close</th>\n",
       "      <th>Volume</th>\n",
       "    </tr>\n",
       "  </thead>\n",
       "  <tbody>\n",
       "    <tr>\n",
       "      <th>0</th>\n",
       "      <td>2024-09-04</td>\n",
       "      <td>105.410004</td>\n",
       "      <td>113.269997</td>\n",
       "      <td>104.120003</td>\n",
       "      <td>106.209999</td>\n",
       "      <td>372470300</td>\n",
       "    </tr>\n",
       "    <tr>\n",
       "      <th>1</th>\n",
       "      <td>2024-09-03</td>\n",
       "      <td>116.010002</td>\n",
       "      <td>116.209999</td>\n",
       "      <td>107.290001</td>\n",
       "      <td>108.000000</td>\n",
       "      <td>477155100</td>\n",
       "    </tr>\n",
       "    <tr>\n",
       "      <th>2</th>\n",
       "      <td>2024-08-30</td>\n",
       "      <td>119.529999</td>\n",
       "      <td>121.750000</td>\n",
       "      <td>117.220001</td>\n",
       "      <td>119.370003</td>\n",
       "      <td>333751600</td>\n",
       "    </tr>\n",
       "    <tr>\n",
       "      <th>3</th>\n",
       "      <td>2024-08-29</td>\n",
       "      <td>121.360001</td>\n",
       "      <td>124.430000</td>\n",
       "      <td>116.709999</td>\n",
       "      <td>117.589996</td>\n",
       "      <td>453023300</td>\n",
       "    </tr>\n",
       "    <tr>\n",
       "      <th>4</th>\n",
       "      <td>2024-08-28</td>\n",
       "      <td>128.119995</td>\n",
       "      <td>128.330002</td>\n",
       "      <td>122.639999</td>\n",
       "      <td>125.610001</td>\n",
       "      <td>448101100</td>\n",
       "    </tr>\n",
       "    <tr>\n",
       "      <th>5</th>\n",
       "      <td>2024-08-27</td>\n",
       "      <td>125.050003</td>\n",
       "      <td>129.199997</td>\n",
       "      <td>123.879997</td>\n",
       "      <td>128.300003</td>\n",
       "      <td>303134600</td>\n",
       "    </tr>\n",
       "    <tr>\n",
       "      <th>6</th>\n",
       "      <td>2024-08-26</td>\n",
       "      <td>129.570007</td>\n",
       "      <td>131.259995</td>\n",
       "      <td>124.370003</td>\n",
       "      <td>126.459999</td>\n",
       "      <td>331964700</td>\n",
       "    </tr>\n",
       "    <tr>\n",
       "      <th>7</th>\n",
       "      <td>2024-08-23</td>\n",
       "      <td>125.860001</td>\n",
       "      <td>129.600006</td>\n",
       "      <td>125.220001</td>\n",
       "      <td>129.369995</td>\n",
       "      <td>323230300</td>\n",
       "    </tr>\n",
       "    <tr>\n",
       "      <th>8</th>\n",
       "      <td>2024-08-22</td>\n",
       "      <td>130.020004</td>\n",
       "      <td>130.750000</td>\n",
       "      <td>123.099998</td>\n",
       "      <td>123.739998</td>\n",
       "      <td>376189100</td>\n",
       "    </tr>\n",
       "    <tr>\n",
       "      <th>9</th>\n",
       "      <td>2024-08-21</td>\n",
       "      <td>127.320000</td>\n",
       "      <td>129.350006</td>\n",
       "      <td>126.660004</td>\n",
       "      <td>128.500000</td>\n",
       "      <td>257883600</td>\n",
       "    </tr>\n",
       "  </tbody>\n",
       "</table>\n",
       "</div>"
      ],
      "text/plain": [
       "        Date        Open        High         Low       Close     Volume\n",
       "0 2024-09-04  105.410004  113.269997  104.120003  106.209999  372470300\n",
       "1 2024-09-03  116.010002  116.209999  107.290001  108.000000  477155100\n",
       "2 2024-08-30  119.529999  121.750000  117.220001  119.370003  333751600\n",
       "3 2024-08-29  121.360001  124.430000  116.709999  117.589996  453023300\n",
       "4 2024-08-28  128.119995  128.330002  122.639999  125.610001  448101100\n",
       "5 2024-08-27  125.050003  129.199997  123.879997  128.300003  303134600\n",
       "6 2024-08-26  129.570007  131.259995  124.370003  126.459999  331964700\n",
       "7 2024-08-23  125.860001  129.600006  125.220001  129.369995  323230300\n",
       "8 2024-08-22  130.020004  130.750000  123.099998  123.739998  376189100\n",
       "9 2024-08-21  127.320000  129.350006  126.660004  128.500000  257883600"
      ]
     },
     "execution_count": 83,
     "metadata": {},
     "output_type": "execute_result"
    }
   ],
   "source": [
    "\n",
    "nvidia = nvidia[meta_start <= nvidia[\"Date\"]]\n",
    "\n",
    "if \"index\" in nvidia.columns:\n",
    "    nvidia = nvidia.drop(columns=[\"index\"])\n",
    "elif \"Index\" in nvidia.columns:\n",
    "    nvidia = nvidia.drop(columns=[\"Index\"])\n",
    "\n",
    "nvidia = nvidia.sort_values(ascending=False, by=\"Date\").reset_index(drop=True)\n",
    "nvidia.head(10)"
   ]
  },
  {
   "cell_type": "code",
   "execution_count": 84,
   "id": "055357e2",
   "metadata": {},
   "outputs": [
    {
     "data": {
      "text/plain": [
       "Timestamp('2024-09-04 00:00:00')"
      ]
     },
     "execution_count": 84,
     "metadata": {},
     "output_type": "execute_result"
    }
   ],
   "source": [
    "nvidia_end = nvidia[\"Date\"].max()\n",
    "nvidia_end"
   ]
  },
  {
   "cell_type": "code",
   "execution_count": 85,
   "id": "bedd1633",
   "metadata": {},
   "outputs": [
    {
     "data": {
      "text/html": [
       "<div>\n",
       "<style scoped>\n",
       "    .dataframe tbody tr th:only-of-type {\n",
       "        vertical-align: middle;\n",
       "    }\n",
       "\n",
       "    .dataframe tbody tr th {\n",
       "        vertical-align: top;\n",
       "    }\n",
       "\n",
       "    .dataframe thead th {\n",
       "        text-align: right;\n",
       "    }\n",
       "</style>\n",
       "<table border=\"1\" class=\"dataframe\">\n",
       "  <thead>\n",
       "    <tr style=\"text-align: right;\">\n",
       "      <th></th>\n",
       "      <th>Date</th>\n",
       "      <th>Open</th>\n",
       "      <th>High</th>\n",
       "      <th>Low</th>\n",
       "      <th>Close</th>\n",
       "      <th>Volume</th>\n",
       "    </tr>\n",
       "  </thead>\n",
       "  <tbody>\n",
       "    <tr>\n",
       "      <th>0</th>\n",
       "      <td>2024-09-04</td>\n",
       "      <td>504.73</td>\n",
       "      <td>515.22</td>\n",
       "      <td>502.74</td>\n",
       "      <td>511.38</td>\n",
       "      <td>8351014</td>\n",
       "    </tr>\n",
       "    <tr>\n",
       "      <th>1</th>\n",
       "      <td>2024-09-03</td>\n",
       "      <td>518.26</td>\n",
       "      <td>524.10</td>\n",
       "      <td>507.27</td>\n",
       "      <td>510.41</td>\n",
       "      <td>12486732</td>\n",
       "    </tr>\n",
       "    <tr>\n",
       "      <th>2</th>\n",
       "      <td>2024-08-30</td>\n",
       "      <td>519.97</td>\n",
       "      <td>522.15</td>\n",
       "      <td>513.84</td>\n",
       "      <td>519.93</td>\n",
       "      <td>9181918</td>\n",
       "    </tr>\n",
       "    <tr>\n",
       "      <th>3</th>\n",
       "      <td>2024-08-29</td>\n",
       "      <td>517.68</td>\n",
       "      <td>525.80</td>\n",
       "      <td>514.32</td>\n",
       "      <td>516.85</td>\n",
       "      <td>8335229</td>\n",
       "    </tr>\n",
       "    <tr>\n",
       "      <th>4</th>\n",
       "      <td>2024-08-28</td>\n",
       "      <td>516.30</td>\n",
       "      <td>519.71</td>\n",
       "      <td>511.09</td>\n",
       "      <td>515.41</td>\n",
       "      <td>9120514</td>\n",
       "    </tr>\n",
       "    <tr>\n",
       "      <th>5</th>\n",
       "      <td>2024-08-27</td>\n",
       "      <td>517.61</td>\n",
       "      <td>522.62</td>\n",
       "      <td>513.95</td>\n",
       "      <td>517.73</td>\n",
       "      <td>6296752</td>\n",
       "    </tr>\n",
       "    <tr>\n",
       "      <th>6</th>\n",
       "      <td>2024-08-26</td>\n",
       "      <td>526.20</td>\n",
       "      <td>526.60</td>\n",
       "      <td>513.59</td>\n",
       "      <td>519.74</td>\n",
       "      <td>9605716</td>\n",
       "    </tr>\n",
       "    <tr>\n",
       "      <th>7</th>\n",
       "      <td>2024-08-23</td>\n",
       "      <td>535.50</td>\n",
       "      <td>538.44</td>\n",
       "      <td>523.67</td>\n",
       "      <td>526.60</td>\n",
       "      <td>11354111</td>\n",
       "    </tr>\n",
       "    <tr>\n",
       "      <th>8</th>\n",
       "      <td>2024-08-22</td>\n",
       "      <td>535.58</td>\n",
       "      <td>542.79</td>\n",
       "      <td>527.19</td>\n",
       "      <td>530.52</td>\n",
       "      <td>15745838</td>\n",
       "    </tr>\n",
       "    <tr>\n",
       "      <th>9</th>\n",
       "      <td>2024-08-21</td>\n",
       "      <td>525.75</td>\n",
       "      <td>537.97</td>\n",
       "      <td>525.54</td>\n",
       "      <td>533.74</td>\n",
       "      <td>13453274</td>\n",
       "    </tr>\n",
       "  </tbody>\n",
       "</table>\n",
       "</div>"
      ],
      "text/plain": [
       "        Date    Open    High     Low   Close    Volume\n",
       "0 2024-09-04  504.73  515.22  502.74  511.38   8351014\n",
       "1 2024-09-03  518.26  524.10  507.27  510.41  12486732\n",
       "2 2024-08-30  519.97  522.15  513.84  519.93   9181918\n",
       "3 2024-08-29  517.68  525.80  514.32  516.85   8335229\n",
       "4 2024-08-28  516.30  519.71  511.09  515.41   9120514\n",
       "5 2024-08-27  517.61  522.62  513.95  517.73   6296752\n",
       "6 2024-08-26  526.20  526.60  513.59  519.74   9605716\n",
       "7 2024-08-23  535.50  538.44  523.67  526.60  11354111\n",
       "8 2024-08-22  535.58  542.79  527.19  530.52  15745838\n",
       "9 2024-08-21  525.75  537.97  525.54  533.74  13453274"
      ]
     },
     "execution_count": 85,
     "metadata": {},
     "output_type": "execute_result"
    }
   ],
   "source": [
    "meta = meta[meta[\"Date\"] <= nvidia_end].sort_values(ascending=False, by=\"Date\").reset_index(drop=True)\n",
    "meta.head(10)"
   ]
  },
  {
   "cell_type": "code",
   "execution_count": 86,
   "id": "76923cd0",
   "metadata": {},
   "outputs": [
    {
     "data": {
      "text/plain": [
       "169"
      ]
     },
     "execution_count": 86,
     "metadata": {},
     "output_type": "execute_result"
    }
   ],
   "source": [
    "len(meta)"
   ]
  },
  {
   "cell_type": "code",
   "execution_count": 87,
   "id": "d64e8d88",
   "metadata": {},
   "outputs": [
    {
     "data": {
      "text/plain": [
       "169"
      ]
     },
     "execution_count": 87,
     "metadata": {},
     "output_type": "execute_result"
    }
   ],
   "source": [
    "len(nvidia)"
   ]
  },
  {
   "cell_type": "markdown",
   "id": "07cf6575",
   "metadata": {},
   "source": [
    "### Обчислюємо дохідності за кожний період (день)"
   ]
  },
  {
   "cell_type": "markdown",
   "id": "89975499",
   "metadata": {},
   "source": [
    "Доходність — це відсоткова зміна ціни. \n",
    "\n",
    "Функція pct_change() в Pandas означає \"percent change\" — відсоткова зміна значення порівняно з попереднім.\n",
    "\n",
    "$$\\frac{\\text{поточне значення} - \\text{попереднє значення}}{\\text{попереднє значення}}$$"
   ]
  },
  {
   "cell_type": "code",
   "execution_count": 88,
   "id": "dbc48284",
   "metadata": {},
   "outputs": [
    {
     "data": {
      "text/html": [
       "<div>\n",
       "<style scoped>\n",
       "    .dataframe tbody tr th:only-of-type {\n",
       "        vertical-align: middle;\n",
       "    }\n",
       "\n",
       "    .dataframe tbody tr th {\n",
       "        vertical-align: top;\n",
       "    }\n",
       "\n",
       "    .dataframe thead th {\n",
       "        text-align: right;\n",
       "    }\n",
       "</style>\n",
       "<table border=\"1\" class=\"dataframe\">\n",
       "  <thead>\n",
       "    <tr style=\"text-align: right;\">\n",
       "      <th></th>\n",
       "      <th>Date</th>\n",
       "      <th>Open</th>\n",
       "      <th>High</th>\n",
       "      <th>Low</th>\n",
       "      <th>Close</th>\n",
       "      <th>Volume</th>\n",
       "      <th>Return</th>\n",
       "    </tr>\n",
       "  </thead>\n",
       "  <tbody>\n",
       "    <tr>\n",
       "      <th>0</th>\n",
       "      <td>2024-09-04</td>\n",
       "      <td>504.73</td>\n",
       "      <td>515.22</td>\n",
       "      <td>502.74</td>\n",
       "      <td>511.38</td>\n",
       "      <td>8351014</td>\n",
       "      <td>NaN</td>\n",
       "    </tr>\n",
       "    <tr>\n",
       "      <th>1</th>\n",
       "      <td>2024-09-03</td>\n",
       "      <td>518.26</td>\n",
       "      <td>524.10</td>\n",
       "      <td>507.27</td>\n",
       "      <td>510.41</td>\n",
       "      <td>12486732</td>\n",
       "      <td>-0.001897</td>\n",
       "    </tr>\n",
       "    <tr>\n",
       "      <th>2</th>\n",
       "      <td>2024-08-30</td>\n",
       "      <td>519.97</td>\n",
       "      <td>522.15</td>\n",
       "      <td>513.84</td>\n",
       "      <td>519.93</td>\n",
       "      <td>9181918</td>\n",
       "      <td>0.018652</td>\n",
       "    </tr>\n",
       "    <tr>\n",
       "      <th>3</th>\n",
       "      <td>2024-08-29</td>\n",
       "      <td>517.68</td>\n",
       "      <td>525.80</td>\n",
       "      <td>514.32</td>\n",
       "      <td>516.85</td>\n",
       "      <td>8335229</td>\n",
       "      <td>-0.005924</td>\n",
       "    </tr>\n",
       "    <tr>\n",
       "      <th>4</th>\n",
       "      <td>2024-08-28</td>\n",
       "      <td>516.30</td>\n",
       "      <td>519.71</td>\n",
       "      <td>511.09</td>\n",
       "      <td>515.41</td>\n",
       "      <td>9120514</td>\n",
       "      <td>-0.002786</td>\n",
       "    </tr>\n",
       "    <tr>\n",
       "      <th>5</th>\n",
       "      <td>2024-08-27</td>\n",
       "      <td>517.61</td>\n",
       "      <td>522.62</td>\n",
       "      <td>513.95</td>\n",
       "      <td>517.73</td>\n",
       "      <td>6296752</td>\n",
       "      <td>0.004501</td>\n",
       "    </tr>\n",
       "    <tr>\n",
       "      <th>6</th>\n",
       "      <td>2024-08-26</td>\n",
       "      <td>526.20</td>\n",
       "      <td>526.60</td>\n",
       "      <td>513.59</td>\n",
       "      <td>519.74</td>\n",
       "      <td>9605716</td>\n",
       "      <td>0.003882</td>\n",
       "    </tr>\n",
       "    <tr>\n",
       "      <th>7</th>\n",
       "      <td>2024-08-23</td>\n",
       "      <td>535.50</td>\n",
       "      <td>538.44</td>\n",
       "      <td>523.67</td>\n",
       "      <td>526.60</td>\n",
       "      <td>11354111</td>\n",
       "      <td>0.013199</td>\n",
       "    </tr>\n",
       "    <tr>\n",
       "      <th>8</th>\n",
       "      <td>2024-08-22</td>\n",
       "      <td>535.58</td>\n",
       "      <td>542.79</td>\n",
       "      <td>527.19</td>\n",
       "      <td>530.52</td>\n",
       "      <td>15745838</td>\n",
       "      <td>0.007444</td>\n",
       "    </tr>\n",
       "    <tr>\n",
       "      <th>9</th>\n",
       "      <td>2024-08-21</td>\n",
       "      <td>525.75</td>\n",
       "      <td>537.97</td>\n",
       "      <td>525.54</td>\n",
       "      <td>533.74</td>\n",
       "      <td>13453274</td>\n",
       "      <td>0.006070</td>\n",
       "    </tr>\n",
       "  </tbody>\n",
       "</table>\n",
       "</div>"
      ],
      "text/plain": [
       "        Date    Open    High     Low   Close    Volume    Return\n",
       "0 2024-09-04  504.73  515.22  502.74  511.38   8351014       NaN\n",
       "1 2024-09-03  518.26  524.10  507.27  510.41  12486732 -0.001897\n",
       "2 2024-08-30  519.97  522.15  513.84  519.93   9181918  0.018652\n",
       "3 2024-08-29  517.68  525.80  514.32  516.85   8335229 -0.005924\n",
       "4 2024-08-28  516.30  519.71  511.09  515.41   9120514 -0.002786\n",
       "5 2024-08-27  517.61  522.62  513.95  517.73   6296752  0.004501\n",
       "6 2024-08-26  526.20  526.60  513.59  519.74   9605716  0.003882\n",
       "7 2024-08-23  535.50  538.44  523.67  526.60  11354111  0.013199\n",
       "8 2024-08-22  535.58  542.79  527.19  530.52  15745838  0.007444\n",
       "9 2024-08-21  525.75  537.97  525.54  533.74  13453274  0.006070"
      ]
     },
     "execution_count": 88,
     "metadata": {},
     "output_type": "execute_result"
    }
   ],
   "source": [
    "meta[\"Return\"] = meta[\"Close\"].pct_change()\n",
    "meta.head(10)"
   ]
  },
  {
   "cell_type": "code",
   "execution_count": 90,
   "id": "c3db5c28",
   "metadata": {},
   "outputs": [
    {
     "data": {
      "application/vnd.plotly.v1+json": {
       "config": {
        "plotlyServerURL": "https://plot.ly"
       },
       "data": [
        {
         "hovertemplate": "Date=%{x}<br>Return=%{y}<extra></extra>",
         "legendgroup": "",
         "line": {
          "color": "#F8766D",
          "dash": "solid"
         },
         "marker": {
          "symbol": "circle"
         },
         "mode": "lines",
         "name": "",
         "orientation": "v",
         "showlegend": false,
         "type": "scatter",
         "x": [
          "2024-09-04T00:00:00.000000000",
          "2024-09-03T00:00:00.000000000",
          "2024-08-30T00:00:00.000000000",
          "2024-08-29T00:00:00.000000000",
          "2024-08-28T00:00:00.000000000",
          "2024-08-27T00:00:00.000000000",
          "2024-08-26T00:00:00.000000000",
          "2024-08-23T00:00:00.000000000",
          "2024-08-22T00:00:00.000000000",
          "2024-08-21T00:00:00.000000000",
          "2024-08-20T00:00:00.000000000",
          "2024-08-19T00:00:00.000000000",
          "2024-08-16T00:00:00.000000000",
          "2024-08-15T00:00:00.000000000",
          "2024-08-14T00:00:00.000000000",
          "2024-08-13T00:00:00.000000000",
          "2024-08-12T00:00:00.000000000",
          "2024-08-09T00:00:00.000000000",
          "2024-08-08T00:00:00.000000000",
          "2024-08-07T00:00:00.000000000",
          "2024-08-06T00:00:00.000000000",
          "2024-08-05T00:00:00.000000000",
          "2024-08-02T00:00:00.000000000",
          "2024-08-01T00:00:00.000000000",
          "2024-07-31T00:00:00.000000000",
          "2024-07-30T00:00:00.000000000",
          "2024-07-29T00:00:00.000000000",
          "2024-07-26T00:00:00.000000000",
          "2024-07-25T00:00:00.000000000",
          "2024-07-24T00:00:00.000000000",
          "2024-07-23T00:00:00.000000000",
          "2024-07-22T00:00:00.000000000",
          "2024-07-19T00:00:00.000000000",
          "2024-07-18T00:00:00.000000000",
          "2024-07-17T00:00:00.000000000",
          "2024-07-16T00:00:00.000000000",
          "2024-07-15T00:00:00.000000000",
          "2024-07-12T00:00:00.000000000",
          "2024-07-11T00:00:00.000000000",
          "2024-07-10T00:00:00.000000000",
          "2024-07-09T00:00:00.000000000",
          "2024-07-08T00:00:00.000000000",
          "2024-07-05T00:00:00.000000000",
          "2024-07-03T00:00:00.000000000",
          "2024-07-02T00:00:00.000000000",
          "2024-07-01T00:00:00.000000000",
          "2024-06-28T00:00:00.000000000",
          "2024-06-27T00:00:00.000000000",
          "2024-06-26T00:00:00.000000000",
          "2024-06-25T00:00:00.000000000",
          "2024-06-24T00:00:00.000000000",
          "2024-06-21T00:00:00.000000000",
          "2024-06-20T00:00:00.000000000",
          "2024-06-18T00:00:00.000000000",
          "2024-06-17T00:00:00.000000000",
          "2024-06-14T00:00:00.000000000",
          "2024-06-13T00:00:00.000000000",
          "2024-06-12T00:00:00.000000000",
          "2024-06-11T00:00:00.000000000",
          "2024-06-10T00:00:00.000000000",
          "2024-06-07T00:00:00.000000000",
          "2024-06-06T00:00:00.000000000",
          "2024-06-05T00:00:00.000000000",
          "2024-06-04T00:00:00.000000000",
          "2024-06-03T00:00:00.000000000",
          "2024-05-31T00:00:00.000000000",
          "2024-05-30T00:00:00.000000000",
          "2024-05-29T00:00:00.000000000",
          "2024-05-28T00:00:00.000000000",
          "2024-05-24T00:00:00.000000000",
          "2024-05-23T00:00:00.000000000",
          "2024-05-22T00:00:00.000000000",
          "2024-05-21T00:00:00.000000000",
          "2024-05-20T00:00:00.000000000",
          "2024-05-17T00:00:00.000000000",
          "2024-05-16T00:00:00.000000000",
          "2024-05-15T00:00:00.000000000",
          "2024-05-14T00:00:00.000000000",
          "2024-05-13T00:00:00.000000000",
          "2024-05-10T00:00:00.000000000",
          "2024-05-09T00:00:00.000000000",
          "2024-05-08T00:00:00.000000000",
          "2024-05-07T00:00:00.000000000",
          "2024-05-06T00:00:00.000000000",
          "2024-05-03T00:00:00.000000000",
          "2024-05-02T00:00:00.000000000",
          "2024-05-01T00:00:00.000000000",
          "2024-04-30T00:00:00.000000000",
          "2024-04-29T00:00:00.000000000",
          "2024-04-26T00:00:00.000000000",
          "2024-04-25T00:00:00.000000000",
          "2024-04-24T00:00:00.000000000",
          "2024-04-23T00:00:00.000000000",
          "2024-04-22T00:00:00.000000000",
          "2024-04-19T00:00:00.000000000",
          "2024-04-18T00:00:00.000000000",
          "2024-04-17T00:00:00.000000000",
          "2024-04-16T00:00:00.000000000",
          "2024-04-15T00:00:00.000000000",
          "2024-04-12T00:00:00.000000000",
          "2024-04-11T00:00:00.000000000",
          "2024-04-10T00:00:00.000000000",
          "2024-04-09T00:00:00.000000000",
          "2024-04-08T00:00:00.000000000",
          "2024-04-05T00:00:00.000000000",
          "2024-04-04T00:00:00.000000000",
          "2024-04-03T00:00:00.000000000",
          "2024-04-02T00:00:00.000000000",
          "2024-04-01T00:00:00.000000000",
          "2024-03-28T00:00:00.000000000",
          "2024-03-27T00:00:00.000000000",
          "2024-03-26T00:00:00.000000000",
          "2024-03-25T00:00:00.000000000",
          "2024-03-22T00:00:00.000000000",
          "2024-03-21T00:00:00.000000000",
          "2024-03-20T00:00:00.000000000",
          "2024-03-19T00:00:00.000000000",
          "2024-03-18T00:00:00.000000000",
          "2024-03-15T00:00:00.000000000",
          "2024-03-14T00:00:00.000000000",
          "2024-03-13T00:00:00.000000000",
          "2024-03-12T00:00:00.000000000",
          "2024-03-11T00:00:00.000000000",
          "2024-03-08T00:00:00.000000000",
          "2024-03-07T00:00:00.000000000",
          "2024-03-06T00:00:00.000000000",
          "2024-03-05T00:00:00.000000000",
          "2024-03-04T00:00:00.000000000",
          "2024-03-01T00:00:00.000000000",
          "2024-02-29T00:00:00.000000000",
          "2024-02-28T00:00:00.000000000",
          "2024-02-27T00:00:00.000000000",
          "2024-02-26T00:00:00.000000000",
          "2024-02-23T00:00:00.000000000",
          "2024-02-22T00:00:00.000000000",
          "2024-02-21T00:00:00.000000000",
          "2024-02-20T00:00:00.000000000",
          "2024-02-16T00:00:00.000000000",
          "2024-02-15T00:00:00.000000000",
          "2024-02-14T00:00:00.000000000",
          "2024-02-13T00:00:00.000000000",
          "2024-02-12T00:00:00.000000000",
          "2024-02-09T00:00:00.000000000",
          "2024-02-08T00:00:00.000000000",
          "2024-02-07T00:00:00.000000000",
          "2024-02-06T00:00:00.000000000",
          "2024-02-05T00:00:00.000000000",
          "2024-02-02T00:00:00.000000000",
          "2024-02-01T00:00:00.000000000",
          "2024-01-31T00:00:00.000000000",
          "2024-01-30T00:00:00.000000000",
          "2024-01-29T00:00:00.000000000",
          "2024-01-26T00:00:00.000000000",
          "2024-01-25T00:00:00.000000000",
          "2024-01-24T00:00:00.000000000",
          "2024-01-23T00:00:00.000000000",
          "2024-01-22T00:00:00.000000000",
          "2024-01-19T00:00:00.000000000",
          "2024-01-18T00:00:00.000000000",
          "2024-01-17T00:00:00.000000000",
          "2024-01-16T00:00:00.000000000",
          "2024-01-12T00:00:00.000000000",
          "2024-01-11T00:00:00.000000000",
          "2024-01-10T00:00:00.000000000",
          "2024-01-09T00:00:00.000000000",
          "2024-01-08T00:00:00.000000000",
          "2024-01-05T00:00:00.000000000",
          "2024-01-04T00:00:00.000000000",
          "2024-01-03T00:00:00.000000000"
         ],
         "xaxis": "x",
         "y": {
          "bdata": "AAAAAAAA+H8ATs7C3xNfvwD2M4hsGZM/AGLM6qFDeL8AQxtt5NJmvwAySbDsb3I/AHpxYtfNbz8Ap0ZUBwiLPwCmqDuUfX4/AJK0e1nceD/A8lpJnx2QvwDwt8XTzXM/ANoYu1/dbL8AP5bEt0CTP8DAAVe2I5S/AMYdMmuZaz+g95rZDGGYvwDeIBBy0Gw/wAQxNAQakL/ARE4RF82kv4AMY9cnoYU/UD0UnC4Go78AH/aw7reaPwDUyn/1IJQ/MFB9IjCRp79gnenwshqZvwCXZS0AWHY/AAAiskST9r6AQlPidwebv8B2dprPwJE/AKD3/Dxwrj8AqZ6Ahq5lv2DTpQB3SZa/AKMjJIcxYL+AD7eFmdGdv0C/zThQza4/AHM0aBSqij8AvM85PVl2PwCnblqIYZw/AFWFhFP1pT8Atb6OV++BvwD8yq6fE1W/gFzHq6x7lD/Qxp9lsGasvwBUJZffok2/QESlpXBYg78A6Bb3J/JNv4BsH5NLIp8/gC7+16xfib8AG+IG5BZ0v4BOynwocpe/AM6FmA71gL+ADMyJ6qKMP4CkeaBSAnK/gJVCW0lFjT+AUdmy+/BzvwBe03wuP1K/gPGMGek+gz8Aa6ji+CJmv0BklR8RpYO/INcJ92yhk78AkBAZI1paPwAMQrG0pWU/wP5HWBGvor8AHPl/Y+RQP6BQNZS/25a/APBammP/Pj/ADRqApgqQPwCQ2vdiAYg/AFXNy64fbb9A6JqLlKCavwDcw95AkHE/gOINokyYe7+AVCKgk5SCPwA7YMQ/vno/AOTxX37/Zj+ASzohaPuRP8AF6gT1nZS/wMCTWg6kgL8A88z0R+uRPwBUo6cu71q/AGGNUE9MeL8ALpEFQOCCv4C35URGY3a/AETnvD4rnr+A7c2Q0E6XvwCrOi03FXe/QG1qEJYDlb8A9Nv+WlF3PwC102GoQJk/AN0kFbiecb/wwXxUmzq+PwA+T8Qyk3U/AGLHTWGqnb8A6uqGaIdWvyDasZWPEaY/QKYBifsrj7+AaqiYEyuHPwBoh8/p7U4/QBYD1+vklz8AQljsvGKWPwApBPeiinm/AArvk5MXd78ADjLzN5xyP4BOFJXu548/ABa7X2Din7/Ay3orcbyAv8BL0pZT8ZK/gPRvHtPLiL+A+uqC4w2Iv0BIwFEedpE/AG3aAOrlcD8AmvXW8G2NP4CDIo1nuYo/AHa//2ldbb8AWOpHBA5yv4CqvNQGyZK/AJArgYswWD+AoLlbOoiav0CHQF3TWJA/ADHYol0tfz8Aw1AHHUGBPyByUGEQjqC/wJbJhtGspz+AlgvC90SJP6An2F6tF6C/gHgy8wc9iL/ABxydXqWQPwBrlMnz34A/oIMDL2fMmL9ACU/JKoqJvwB+wL1fpnk/gOVgJDlThr8AqAD71nRzPwDR1TgvwHE/0P0R4RIPo78AIdmA6TF8PwDI/0OUN2s/AORXI8Qrlz8g2YI/R76Wv8DdWBAgepy/wEKPQeyKkz8AHsWw2btbvwAyvjehnXA/AIgw2SK4TL+Qv8L0azagv4AhqkY5FoU/YDg/NPxdoT+8sdbYL53Fv4AiY9B7FIi/gGT4HSIHmj8AprWdK8BjP2CC+nvjkpG/APkGZKDWY7+AqT/iPdp5v8CbS2VT3Iy/wIoW8IQpgr8A4P30veRxP+A/UjJqiJO/QKULTcEklb8AFt3m7Rtkv8DHGmkUkpM/wFw23bBRir8AAJG8xZZhPyD8BRL8BaK/AJ59sN5SbD+AxpTTYCmTv8AyymILH4y/ALE5foFMf78=",
          "dtype": "f8"
         },
         "yaxis": "y"
        }
       ],
       "layout": {
        "legend": {
         "tracegroupgap": 0
        },
        "template": {
         "data": {
          "bar": [
           {
            "error_x": {
             "color": "rgb(51,51,51)"
            },
            "error_y": {
             "color": "rgb(51,51,51)"
            },
            "marker": {
             "line": {
              "color": "rgb(237,237,237)",
              "width": 0.5
             },
             "pattern": {
              "fillmode": "overlay",
              "size": 10,
              "solidity": 0.2
             }
            },
            "type": "bar"
           }
          ],
          "barpolar": [
           {
            "marker": {
             "line": {
              "color": "rgb(237,237,237)",
              "width": 0.5
             },
             "pattern": {
              "fillmode": "overlay",
              "size": 10,
              "solidity": 0.2
             }
            },
            "type": "barpolar"
           }
          ],
          "carpet": [
           {
            "aaxis": {
             "endlinecolor": "rgb(51,51,51)",
             "gridcolor": "white",
             "linecolor": "white",
             "minorgridcolor": "white",
             "startlinecolor": "rgb(51,51,51)"
            },
            "baxis": {
             "endlinecolor": "rgb(51,51,51)",
             "gridcolor": "white",
             "linecolor": "white",
             "minorgridcolor": "white",
             "startlinecolor": "rgb(51,51,51)"
            },
            "type": "carpet"
           }
          ],
          "choropleth": [
           {
            "colorbar": {
             "outlinewidth": 0,
             "tickcolor": "rgb(237,237,237)",
             "ticklen": 6,
             "ticks": "inside"
            },
            "type": "choropleth"
           }
          ],
          "contour": [
           {
            "colorbar": {
             "outlinewidth": 0,
             "tickcolor": "rgb(237,237,237)",
             "ticklen": 6,
             "ticks": "inside"
            },
            "colorscale": [
             [
              0,
              "rgb(20,44,66)"
             ],
             [
              1,
              "rgb(90,179,244)"
             ]
            ],
            "type": "contour"
           }
          ],
          "contourcarpet": [
           {
            "colorbar": {
             "outlinewidth": 0,
             "tickcolor": "rgb(237,237,237)",
             "ticklen": 6,
             "ticks": "inside"
            },
            "type": "contourcarpet"
           }
          ],
          "heatmap": [
           {
            "colorbar": {
             "outlinewidth": 0,
             "tickcolor": "rgb(237,237,237)",
             "ticklen": 6,
             "ticks": "inside"
            },
            "colorscale": [
             [
              0,
              "rgb(20,44,66)"
             ],
             [
              1,
              "rgb(90,179,244)"
             ]
            ],
            "type": "heatmap"
           }
          ],
          "histogram": [
           {
            "marker": {
             "pattern": {
              "fillmode": "overlay",
              "size": 10,
              "solidity": 0.2
             }
            },
            "type": "histogram"
           }
          ],
          "histogram2d": [
           {
            "colorbar": {
             "outlinewidth": 0,
             "tickcolor": "rgb(237,237,237)",
             "ticklen": 6,
             "ticks": "inside"
            },
            "colorscale": [
             [
              0,
              "rgb(20,44,66)"
             ],
             [
              1,
              "rgb(90,179,244)"
             ]
            ],
            "type": "histogram2d"
           }
          ],
          "histogram2dcontour": [
           {
            "colorbar": {
             "outlinewidth": 0,
             "tickcolor": "rgb(237,237,237)",
             "ticklen": 6,
             "ticks": "inside"
            },
            "colorscale": [
             [
              0,
              "rgb(20,44,66)"
             ],
             [
              1,
              "rgb(90,179,244)"
             ]
            ],
            "type": "histogram2dcontour"
           }
          ],
          "mesh3d": [
           {
            "colorbar": {
             "outlinewidth": 0,
             "tickcolor": "rgb(237,237,237)",
             "ticklen": 6,
             "ticks": "inside"
            },
            "type": "mesh3d"
           }
          ],
          "parcoords": [
           {
            "line": {
             "colorbar": {
              "outlinewidth": 0,
              "tickcolor": "rgb(237,237,237)",
              "ticklen": 6,
              "ticks": "inside"
             }
            },
            "type": "parcoords"
           }
          ],
          "pie": [
           {
            "automargin": true,
            "type": "pie"
           }
          ],
          "scatter": [
           {
            "fillpattern": {
             "fillmode": "overlay",
             "size": 10,
             "solidity": 0.2
            },
            "type": "scatter"
           }
          ],
          "scatter3d": [
           {
            "line": {
             "colorbar": {
              "outlinewidth": 0,
              "tickcolor": "rgb(237,237,237)",
              "ticklen": 6,
              "ticks": "inside"
             }
            },
            "marker": {
             "colorbar": {
              "outlinewidth": 0,
              "tickcolor": "rgb(237,237,237)",
              "ticklen": 6,
              "ticks": "inside"
             }
            },
            "type": "scatter3d"
           }
          ],
          "scattercarpet": [
           {
            "marker": {
             "colorbar": {
              "outlinewidth": 0,
              "tickcolor": "rgb(237,237,237)",
              "ticklen": 6,
              "ticks": "inside"
             }
            },
            "type": "scattercarpet"
           }
          ],
          "scattergeo": [
           {
            "marker": {
             "colorbar": {
              "outlinewidth": 0,
              "tickcolor": "rgb(237,237,237)",
              "ticklen": 6,
              "ticks": "inside"
             }
            },
            "type": "scattergeo"
           }
          ],
          "scattergl": [
           {
            "marker": {
             "colorbar": {
              "outlinewidth": 0,
              "tickcolor": "rgb(237,237,237)",
              "ticklen": 6,
              "ticks": "inside"
             }
            },
            "type": "scattergl"
           }
          ],
          "scattermap": [
           {
            "marker": {
             "colorbar": {
              "outlinewidth": 0,
              "tickcolor": "rgb(237,237,237)",
              "ticklen": 6,
              "ticks": "inside"
             }
            },
            "type": "scattermap"
           }
          ],
          "scattermapbox": [
           {
            "marker": {
             "colorbar": {
              "outlinewidth": 0,
              "tickcolor": "rgb(237,237,237)",
              "ticklen": 6,
              "ticks": "inside"
             }
            },
            "type": "scattermapbox"
           }
          ],
          "scatterpolar": [
           {
            "marker": {
             "colorbar": {
              "outlinewidth": 0,
              "tickcolor": "rgb(237,237,237)",
              "ticklen": 6,
              "ticks": "inside"
             }
            },
            "type": "scatterpolar"
           }
          ],
          "scatterpolargl": [
           {
            "marker": {
             "colorbar": {
              "outlinewidth": 0,
              "tickcolor": "rgb(237,237,237)",
              "ticklen": 6,
              "ticks": "inside"
             }
            },
            "type": "scatterpolargl"
           }
          ],
          "scatterternary": [
           {
            "marker": {
             "colorbar": {
              "outlinewidth": 0,
              "tickcolor": "rgb(237,237,237)",
              "ticklen": 6,
              "ticks": "inside"
             }
            },
            "type": "scatterternary"
           }
          ],
          "surface": [
           {
            "colorbar": {
             "outlinewidth": 0,
             "tickcolor": "rgb(237,237,237)",
             "ticklen": 6,
             "ticks": "inside"
            },
            "colorscale": [
             [
              0,
              "rgb(20,44,66)"
             ],
             [
              1,
              "rgb(90,179,244)"
             ]
            ],
            "type": "surface"
           }
          ],
          "table": [
           {
            "cells": {
             "fill": {
              "color": "rgb(237,237,237)"
             },
             "line": {
              "color": "white"
             }
            },
            "header": {
             "fill": {
              "color": "rgb(217,217,217)"
             },
             "line": {
              "color": "white"
             }
            },
            "type": "table"
           }
          ]
         },
         "layout": {
          "annotationdefaults": {
           "arrowhead": 0,
           "arrowwidth": 1
          },
          "autotypenumbers": "strict",
          "coloraxis": {
           "colorbar": {
            "outlinewidth": 0,
            "tickcolor": "rgb(237,237,237)",
            "ticklen": 6,
            "ticks": "inside"
           }
          },
          "colorscale": {
           "sequential": [
            [
             0,
             "rgb(20,44,66)"
            ],
            [
             1,
             "rgb(90,179,244)"
            ]
           ],
           "sequentialminus": [
            [
             0,
             "rgb(20,44,66)"
            ],
            [
             1,
             "rgb(90,179,244)"
            ]
           ]
          },
          "colorway": [
           "#F8766D",
           "#A3A500",
           "#00BF7D",
           "#00B0F6",
           "#E76BF3"
          ],
          "font": {
           "color": "rgb(51,51,51)"
          },
          "geo": {
           "bgcolor": "white",
           "lakecolor": "white",
           "landcolor": "rgb(237,237,237)",
           "showlakes": true,
           "showland": true,
           "subunitcolor": "white"
          },
          "hoverlabel": {
           "align": "left"
          },
          "hovermode": "closest",
          "paper_bgcolor": "white",
          "plot_bgcolor": "rgb(237,237,237)",
          "polar": {
           "angularaxis": {
            "gridcolor": "white",
            "linecolor": "white",
            "showgrid": true,
            "tickcolor": "rgb(51,51,51)",
            "ticks": "outside"
           },
           "bgcolor": "rgb(237,237,237)",
           "radialaxis": {
            "gridcolor": "white",
            "linecolor": "white",
            "showgrid": true,
            "tickcolor": "rgb(51,51,51)",
            "ticks": "outside"
           }
          },
          "scene": {
           "xaxis": {
            "backgroundcolor": "rgb(237,237,237)",
            "gridcolor": "white",
            "gridwidth": 2,
            "linecolor": "white",
            "showbackground": true,
            "showgrid": true,
            "tickcolor": "rgb(51,51,51)",
            "ticks": "outside",
            "zerolinecolor": "white"
           },
           "yaxis": {
            "backgroundcolor": "rgb(237,237,237)",
            "gridcolor": "white",
            "gridwidth": 2,
            "linecolor": "white",
            "showbackground": true,
            "showgrid": true,
            "tickcolor": "rgb(51,51,51)",
            "ticks": "outside",
            "zerolinecolor": "white"
           },
           "zaxis": {
            "backgroundcolor": "rgb(237,237,237)",
            "gridcolor": "white",
            "gridwidth": 2,
            "linecolor": "white",
            "showbackground": true,
            "showgrid": true,
            "tickcolor": "rgb(51,51,51)",
            "ticks": "outside",
            "zerolinecolor": "white"
           }
          },
          "shapedefaults": {
           "fillcolor": "black",
           "line": {
            "width": 0
           },
           "opacity": 0.3
          },
          "ternary": {
           "aaxis": {
            "gridcolor": "white",
            "linecolor": "white",
            "showgrid": true,
            "tickcolor": "rgb(51,51,51)",
            "ticks": "outside"
           },
           "baxis": {
            "gridcolor": "white",
            "linecolor": "white",
            "showgrid": true,
            "tickcolor": "rgb(51,51,51)",
            "ticks": "outside"
           },
           "bgcolor": "rgb(237,237,237)",
           "caxis": {
            "gridcolor": "white",
            "linecolor": "white",
            "showgrid": true,
            "tickcolor": "rgb(51,51,51)",
            "ticks": "outside"
           }
          },
          "xaxis": {
           "automargin": true,
           "gridcolor": "white",
           "linecolor": "white",
           "showgrid": true,
           "tickcolor": "rgb(51,51,51)",
           "ticks": "outside",
           "title": {
            "standoff": 15
           },
           "zerolinecolor": "white"
          },
          "yaxis": {
           "automargin": true,
           "gridcolor": "white",
           "linecolor": "white",
           "showgrid": true,
           "tickcolor": "rgb(51,51,51)",
           "ticks": "outside",
           "title": {
            "standoff": 15
           },
           "zerolinecolor": "white"
          }
         }
        },
        "title": {
         "text": "Daily Return META"
        },
        "xaxis": {
         "anchor": "y",
         "domain": [
          0,
          1
         ],
         "title": {
          "text": "Date"
         }
        },
        "yaxis": {
         "anchor": "x",
         "domain": [
          0,
          1
         ],
         "title": {
          "text": "Return"
         }
        }
       }
      }
     },
     "metadata": {},
     "output_type": "display_data"
    }
   ],
   "source": [
    "fig = px.line(\n",
    "    meta, x = \"Date\", y =\"Return\", title= \"Daily Return META\", template=\"ggplot2\"\n",
    ")\n",
    "\n",
    "fig.show()"
   ]
  },
  {
   "cell_type": "code",
   "execution_count": 92,
   "id": "428c681b",
   "metadata": {},
   "outputs": [
    {
     "data": {
      "text/html": [
       "<div>\n",
       "<style scoped>\n",
       "    .dataframe tbody tr th:only-of-type {\n",
       "        vertical-align: middle;\n",
       "    }\n",
       "\n",
       "    .dataframe tbody tr th {\n",
       "        vertical-align: top;\n",
       "    }\n",
       "\n",
       "    .dataframe thead th {\n",
       "        text-align: right;\n",
       "    }\n",
       "</style>\n",
       "<table border=\"1\" class=\"dataframe\">\n",
       "  <thead>\n",
       "    <tr style=\"text-align: right;\">\n",
       "      <th></th>\n",
       "      <th>Date</th>\n",
       "      <th>Open</th>\n",
       "      <th>High</th>\n",
       "      <th>Low</th>\n",
       "      <th>Close</th>\n",
       "      <th>Volume</th>\n",
       "      <th>Return</th>\n",
       "    </tr>\n",
       "  </thead>\n",
       "  <tbody>\n",
       "    <tr>\n",
       "      <th>0</th>\n",
       "      <td>2024-09-04</td>\n",
       "      <td>105.410004</td>\n",
       "      <td>113.269997</td>\n",
       "      <td>104.120003</td>\n",
       "      <td>106.209999</td>\n",
       "      <td>372470300</td>\n",
       "      <td>NaN</td>\n",
       "    </tr>\n",
       "    <tr>\n",
       "      <th>1</th>\n",
       "      <td>2024-09-03</td>\n",
       "      <td>116.010002</td>\n",
       "      <td>116.209999</td>\n",
       "      <td>107.290001</td>\n",
       "      <td>108.000000</td>\n",
       "      <td>477155100</td>\n",
       "      <td>0.016853</td>\n",
       "    </tr>\n",
       "    <tr>\n",
       "      <th>2</th>\n",
       "      <td>2024-08-30</td>\n",
       "      <td>119.529999</td>\n",
       "      <td>121.750000</td>\n",
       "      <td>117.220001</td>\n",
       "      <td>119.370003</td>\n",
       "      <td>333751600</td>\n",
       "      <td>0.105278</td>\n",
       "    </tr>\n",
       "    <tr>\n",
       "      <th>3</th>\n",
       "      <td>2024-08-29</td>\n",
       "      <td>121.360001</td>\n",
       "      <td>124.430000</td>\n",
       "      <td>116.709999</td>\n",
       "      <td>117.589996</td>\n",
       "      <td>453023300</td>\n",
       "      <td>-0.014912</td>\n",
       "    </tr>\n",
       "    <tr>\n",
       "      <th>4</th>\n",
       "      <td>2024-08-28</td>\n",
       "      <td>128.119995</td>\n",
       "      <td>128.330002</td>\n",
       "      <td>122.639999</td>\n",
       "      <td>125.610001</td>\n",
       "      <td>448101100</td>\n",
       "      <td>0.068203</td>\n",
       "    </tr>\n",
       "    <tr>\n",
       "      <th>5</th>\n",
       "      <td>2024-08-27</td>\n",
       "      <td>125.050003</td>\n",
       "      <td>129.199997</td>\n",
       "      <td>123.879997</td>\n",
       "      <td>128.300003</td>\n",
       "      <td>303134600</td>\n",
       "      <td>0.021416</td>\n",
       "    </tr>\n",
       "    <tr>\n",
       "      <th>6</th>\n",
       "      <td>2024-08-26</td>\n",
       "      <td>129.570007</td>\n",
       "      <td>131.259995</td>\n",
       "      <td>124.370003</td>\n",
       "      <td>126.459999</td>\n",
       "      <td>331964700</td>\n",
       "      <td>-0.014341</td>\n",
       "    </tr>\n",
       "    <tr>\n",
       "      <th>7</th>\n",
       "      <td>2024-08-23</td>\n",
       "      <td>125.860001</td>\n",
       "      <td>129.600006</td>\n",
       "      <td>125.220001</td>\n",
       "      <td>129.369995</td>\n",
       "      <td>323230300</td>\n",
       "      <td>0.023011</td>\n",
       "    </tr>\n",
       "    <tr>\n",
       "      <th>8</th>\n",
       "      <td>2024-08-22</td>\n",
       "      <td>130.020004</td>\n",
       "      <td>130.750000</td>\n",
       "      <td>123.099998</td>\n",
       "      <td>123.739998</td>\n",
       "      <td>376189100</td>\n",
       "      <td>-0.043519</td>\n",
       "    </tr>\n",
       "    <tr>\n",
       "      <th>9</th>\n",
       "      <td>2024-08-21</td>\n",
       "      <td>127.320000</td>\n",
       "      <td>129.350006</td>\n",
       "      <td>126.660004</td>\n",
       "      <td>128.500000</td>\n",
       "      <td>257883600</td>\n",
       "      <td>0.038468</td>\n",
       "    </tr>\n",
       "  </tbody>\n",
       "</table>\n",
       "</div>"
      ],
      "text/plain": [
       "        Date        Open        High         Low       Close     Volume  \\\n",
       "0 2024-09-04  105.410004  113.269997  104.120003  106.209999  372470300   \n",
       "1 2024-09-03  116.010002  116.209999  107.290001  108.000000  477155100   \n",
       "2 2024-08-30  119.529999  121.750000  117.220001  119.370003  333751600   \n",
       "3 2024-08-29  121.360001  124.430000  116.709999  117.589996  453023300   \n",
       "4 2024-08-28  128.119995  128.330002  122.639999  125.610001  448101100   \n",
       "5 2024-08-27  125.050003  129.199997  123.879997  128.300003  303134600   \n",
       "6 2024-08-26  129.570007  131.259995  124.370003  126.459999  331964700   \n",
       "7 2024-08-23  125.860001  129.600006  125.220001  129.369995  323230300   \n",
       "8 2024-08-22  130.020004  130.750000  123.099998  123.739998  376189100   \n",
       "9 2024-08-21  127.320000  129.350006  126.660004  128.500000  257883600   \n",
       "\n",
       "     Return  \n",
       "0       NaN  \n",
       "1  0.016853  \n",
       "2  0.105278  \n",
       "3 -0.014912  \n",
       "4  0.068203  \n",
       "5  0.021416  \n",
       "6 -0.014341  \n",
       "7  0.023011  \n",
       "8 -0.043519  \n",
       "9  0.038468  "
      ]
     },
     "execution_count": 92,
     "metadata": {},
     "output_type": "execute_result"
    }
   ],
   "source": [
    "nvidia[\"Return\"] = nvidia[\"Close\"].pct_change()\n",
    "nvidia.head(10)"
   ]
  },
  {
   "cell_type": "code",
   "execution_count": 93,
   "id": "d4486e1e",
   "metadata": {},
   "outputs": [
    {
     "data": {
      "application/vnd.plotly.v1+json": {
       "config": {
        "plotlyServerURL": "https://plot.ly"
       },
       "data": [
        {
         "hovertemplate": "Date=%{x}<br>Return=%{y}<extra></extra>",
         "legendgroup": "",
         "line": {
          "color": "#F8766D",
          "dash": "solid"
         },
         "marker": {
          "symbol": "circle"
         },
         "mode": "lines",
         "name": "",
         "orientation": "v",
         "showlegend": false,
         "type": "scatter",
         "x": [
          "2024-09-04T00:00:00.000000000",
          "2024-09-03T00:00:00.000000000",
          "2024-08-30T00:00:00.000000000",
          "2024-08-29T00:00:00.000000000",
          "2024-08-28T00:00:00.000000000",
          "2024-08-27T00:00:00.000000000",
          "2024-08-26T00:00:00.000000000",
          "2024-08-23T00:00:00.000000000",
          "2024-08-22T00:00:00.000000000",
          "2024-08-21T00:00:00.000000000",
          "2024-08-20T00:00:00.000000000",
          "2024-08-19T00:00:00.000000000",
          "2024-08-16T00:00:00.000000000",
          "2024-08-15T00:00:00.000000000",
          "2024-08-14T00:00:00.000000000",
          "2024-08-13T00:00:00.000000000",
          "2024-08-12T00:00:00.000000000",
          "2024-08-09T00:00:00.000000000",
          "2024-08-08T00:00:00.000000000",
          "2024-08-07T00:00:00.000000000",
          "2024-08-06T00:00:00.000000000",
          "2024-08-05T00:00:00.000000000",
          "2024-08-02T00:00:00.000000000",
          "2024-08-01T00:00:00.000000000",
          "2024-07-31T00:00:00.000000000",
          "2024-07-30T00:00:00.000000000",
          "2024-07-29T00:00:00.000000000",
          "2024-07-26T00:00:00.000000000",
          "2024-07-25T00:00:00.000000000",
          "2024-07-24T00:00:00.000000000",
          "2024-07-23T00:00:00.000000000",
          "2024-07-22T00:00:00.000000000",
          "2024-07-19T00:00:00.000000000",
          "2024-07-18T00:00:00.000000000",
          "2024-07-17T00:00:00.000000000",
          "2024-07-16T00:00:00.000000000",
          "2024-07-15T00:00:00.000000000",
          "2024-07-12T00:00:00.000000000",
          "2024-07-11T00:00:00.000000000",
          "2024-07-10T00:00:00.000000000",
          "2024-07-09T00:00:00.000000000",
          "2024-07-08T00:00:00.000000000",
          "2024-07-05T00:00:00.000000000",
          "2024-07-03T00:00:00.000000000",
          "2024-07-02T00:00:00.000000000",
          "2024-07-01T00:00:00.000000000",
          "2024-06-28T00:00:00.000000000",
          "2024-06-27T00:00:00.000000000",
          "2024-06-26T00:00:00.000000000",
          "2024-06-25T00:00:00.000000000",
          "2024-06-24T00:00:00.000000000",
          "2024-06-21T00:00:00.000000000",
          "2024-06-20T00:00:00.000000000",
          "2024-06-18T00:00:00.000000000",
          "2024-06-17T00:00:00.000000000",
          "2024-06-14T00:00:00.000000000",
          "2024-06-13T00:00:00.000000000",
          "2024-06-12T00:00:00.000000000",
          "2024-06-11T00:00:00.000000000",
          "2024-06-10T00:00:00.000000000",
          "2024-06-07T00:00:00.000000000",
          "2024-06-06T00:00:00.000000000",
          "2024-06-05T00:00:00.000000000",
          "2024-06-04T00:00:00.000000000",
          "2024-06-03T00:00:00.000000000",
          "2024-05-31T00:00:00.000000000",
          "2024-05-30T00:00:00.000000000",
          "2024-05-29T00:00:00.000000000",
          "2024-05-28T00:00:00.000000000",
          "2024-05-24T00:00:00.000000000",
          "2024-05-23T00:00:00.000000000",
          "2024-05-22T00:00:00.000000000",
          "2024-05-21T00:00:00.000000000",
          "2024-05-20T00:00:00.000000000",
          "2024-05-17T00:00:00.000000000",
          "2024-05-16T00:00:00.000000000",
          "2024-05-15T00:00:00.000000000",
          "2024-05-14T00:00:00.000000000",
          "2024-05-13T00:00:00.000000000",
          "2024-05-10T00:00:00.000000000",
          "2024-05-09T00:00:00.000000000",
          "2024-05-08T00:00:00.000000000",
          "2024-05-07T00:00:00.000000000",
          "2024-05-06T00:00:00.000000000",
          "2024-05-03T00:00:00.000000000",
          "2024-05-02T00:00:00.000000000",
          "2024-05-01T00:00:00.000000000",
          "2024-04-30T00:00:00.000000000",
          "2024-04-29T00:00:00.000000000",
          "2024-04-26T00:00:00.000000000",
          "2024-04-25T00:00:00.000000000",
          "2024-04-24T00:00:00.000000000",
          "2024-04-23T00:00:00.000000000",
          "2024-04-22T00:00:00.000000000",
          "2024-04-19T00:00:00.000000000",
          "2024-04-18T00:00:00.000000000",
          "2024-04-17T00:00:00.000000000",
          "2024-04-16T00:00:00.000000000",
          "2024-04-15T00:00:00.000000000",
          "2024-04-12T00:00:00.000000000",
          "2024-04-11T00:00:00.000000000",
          "2024-04-10T00:00:00.000000000",
          "2024-04-09T00:00:00.000000000",
          "2024-04-08T00:00:00.000000000",
          "2024-04-05T00:00:00.000000000",
          "2024-04-04T00:00:00.000000000",
          "2024-04-03T00:00:00.000000000",
          "2024-04-02T00:00:00.000000000",
          "2024-04-01T00:00:00.000000000",
          "2024-03-28T00:00:00.000000000",
          "2024-03-27T00:00:00.000000000",
          "2024-03-26T00:00:00.000000000",
          "2024-03-25T00:00:00.000000000",
          "2024-03-22T00:00:00.000000000",
          "2024-03-21T00:00:00.000000000",
          "2024-03-20T00:00:00.000000000",
          "2024-03-19T00:00:00.000000000",
          "2024-03-18T00:00:00.000000000",
          "2024-03-15T00:00:00.000000000",
          "2024-03-14T00:00:00.000000000",
          "2024-03-13T00:00:00.000000000",
          "2024-03-12T00:00:00.000000000",
          "2024-03-11T00:00:00.000000000",
          "2024-03-08T00:00:00.000000000",
          "2024-03-07T00:00:00.000000000",
          "2024-03-06T00:00:00.000000000",
          "2024-03-05T00:00:00.000000000",
          "2024-03-04T00:00:00.000000000",
          "2024-03-01T00:00:00.000000000",
          "2024-02-29T00:00:00.000000000",
          "2024-02-28T00:00:00.000000000",
          "2024-02-27T00:00:00.000000000",
          "2024-02-26T00:00:00.000000000",
          "2024-02-23T00:00:00.000000000",
          "2024-02-22T00:00:00.000000000",
          "2024-02-21T00:00:00.000000000",
          "2024-02-20T00:00:00.000000000",
          "2024-02-16T00:00:00.000000000",
          "2024-02-15T00:00:00.000000000",
          "2024-02-14T00:00:00.000000000",
          "2024-02-13T00:00:00.000000000",
          "2024-02-12T00:00:00.000000000",
          "2024-02-09T00:00:00.000000000",
          "2024-02-08T00:00:00.000000000",
          "2024-02-07T00:00:00.000000000",
          "2024-02-06T00:00:00.000000000",
          "2024-02-05T00:00:00.000000000",
          "2024-02-02T00:00:00.000000000",
          "2024-02-01T00:00:00.000000000",
          "2024-01-31T00:00:00.000000000",
          "2024-01-30T00:00:00.000000000",
          "2024-01-29T00:00:00.000000000",
          "2024-01-26T00:00:00.000000000",
          "2024-01-25T00:00:00.000000000",
          "2024-01-24T00:00:00.000000000",
          "2024-01-23T00:00:00.000000000",
          "2024-01-22T00:00:00.000000000",
          "2024-01-19T00:00:00.000000000",
          "2024-01-18T00:00:00.000000000",
          "2024-01-17T00:00:00.000000000",
          "2024-01-16T00:00:00.000000000",
          "2024-01-12T00:00:00.000000000",
          "2024-01-11T00:00:00.000000000",
          "2024-01-10T00:00:00.000000000",
          "2024-01-09T00:00:00.000000000",
          "2024-01-08T00:00:00.000000000",
          "2024-01-05T00:00:00.000000000",
          "2024-01-04T00:00:00.000000000",
          "2024-01-03T00:00:00.000000000"
         ],
         "xaxis": "x",
         "y": {
          "bdata": "AAAAAAAA+H9AE1RcBUKRP4Acx3F887o/wF/k0wKKjr9w0clswnWxP0AuBary7ZU/ACa7iAhfjb+A2UBVP5CXP7BrJ+oQSKa/ICMYRQyyoz8A7BPsE+yDvwAIsMoxIZY/ULETO7FYpb+AxKaDh0aMv/BNSs5+66O/YBKuFunSkL9A59kIamOvvzCiU6a1DaS/ACKYTYs0YT8Q3YG84o6tv8AUW0hfpKs/gNocMbCpor/gSO1AiGGxP0C+WCrvhJI/0Cq2tbZOsj/wihwM8RK9vzA36JnlZbM/gAd0pJH6ij+A4O4eG0J8v0ANhhdu95E/4PDChPuvsj8A9dAd4r1/PxBUmxwIQKe/APpwG0lwmz8AhBpUFzeavwAWZisCKbI/ALMkoCHbkD8AGPeILIN5P4ARmVdYKI2/gAhwunUurj9g/+Z9Jsuav0CMQAYbyZi/YOTyji3ukr9A7r3hH/CTP6BYewkaZKa/ALND6Zc2iz8AOXNOQwt5vwDSniPr1m0/gOIdcVDnkz8Acrrrahdkv6gYUgymM7C/QHfgsThWsj9gIwbgvgehP0AMG2i4yqI/QDFjmQ5fob8Ae2h7ISV8P0BlHlcxoJG/UH7Cmr9rob8QD7+8MouhvwC63eCoz30/gGlOLvVVfr8AOE1rHdFNPwAxiUY8aIg/UB3Xfzcaqb+A4yy4c0aJv6CtBs8R5ae/gHsVBikygD/AMM6mMAqkPwAZnSXxeoC/2K3/STO0sL+gBGpD+K2Zv6AO5owI07W/AJSWXf/Ocj+AdfAuxgV6v8DjCg0m3Ji/gEkkox/RlD8AJH9u9IZnP6B/GTTPtqG/wJQtKy90hb+APPdOV5t3v4BpCAl6xYm/QK8WUyM2kz8ACDincbtZP8CBDiZL75E/sDtm8uWeor8wRkKbUiOhvwCuL+Hnj6C/IPwehQG5pD9ASOPaFQ+QPwBwvU+GbjC/IIYuqqPHrb+Al1mIQ0+iv8AAzaBGpaE/ICKDEKILor+ANyIUKl2lv4CfJGuBdbw/AMuNHjrEfr9Atp/w4pekPyAOu99ekJC/wFSFoDMEmj+ATI6AezecP2DQSgv3NaS/gE5TuuXSk79A8WdOyVeVP4DzgGr2kIQ/oAzJ4hZ4mL8AbnqBWjuiPwCjT1zmd3Y/APTlxHHbhD8AwANFwUsUvwBoa/ufOFO/gEr/2J44mj+AvJjWNgGbPwCS0xqlvX6/wMA68MD+nr+A3rYgN8+Hv8DjBYKZEoa/gNUGoV6ahb8ASEGwB558vwCoUNh29VM/oPcSKr8joT+Ao+1LuhiHPyi2ZBU+GbG/AEpVQZnwlD8gJUuTkxKuP1DzrC3M7aW/oBbDuPmVn79AivIY51GBv4DbDI+fxKG/sPC1LBe1o7/g9vrHXsGSv4AAm/NMX4s/ACKrSZdZdD8Aid7fwntsvwAKGnWT/2y/9DcjlwIJwr/AxO/swgyeP6DyWKSHTac/AFh2d2hORD8AU1NiDIGRPyA9d57KjZi/APDL0kJCWz8Aam2RHRRav+D6ytYwsKG/APmMfw3wej+gr2oHiWebv8CFCEtKpZA/4LgXWqdsp7/QtTQ76D6ov+CP65fZXpi/gF/GMQDBlD8AWVQIgCl0v2B1ApQCgpe/AIbXlhCqgz8AMD1DhPNwv2AAIbci2Zi/AH/MPOf2bb8AwteVPmJmv0Bfcut9hKS/QCTxxUTmkr8A2t07iAp4P0CZ96TYXZ6/ALiRqy7FYD/AMW5R9KGBv0BNw+UizJa/QCwhN6YXkb9AHS16iuyuv4BsSOfk65a/gDpJSgdOgr8=",
          "dtype": "f8"
         },
         "yaxis": "y"
        }
       ],
       "layout": {
        "legend": {
         "tracegroupgap": 0
        },
        "template": {
         "data": {
          "bar": [
           {
            "error_x": {
             "color": "rgb(51,51,51)"
            },
            "error_y": {
             "color": "rgb(51,51,51)"
            },
            "marker": {
             "line": {
              "color": "rgb(237,237,237)",
              "width": 0.5
             },
             "pattern": {
              "fillmode": "overlay",
              "size": 10,
              "solidity": 0.2
             }
            },
            "type": "bar"
           }
          ],
          "barpolar": [
           {
            "marker": {
             "line": {
              "color": "rgb(237,237,237)",
              "width": 0.5
             },
             "pattern": {
              "fillmode": "overlay",
              "size": 10,
              "solidity": 0.2
             }
            },
            "type": "barpolar"
           }
          ],
          "carpet": [
           {
            "aaxis": {
             "endlinecolor": "rgb(51,51,51)",
             "gridcolor": "white",
             "linecolor": "white",
             "minorgridcolor": "white",
             "startlinecolor": "rgb(51,51,51)"
            },
            "baxis": {
             "endlinecolor": "rgb(51,51,51)",
             "gridcolor": "white",
             "linecolor": "white",
             "minorgridcolor": "white",
             "startlinecolor": "rgb(51,51,51)"
            },
            "type": "carpet"
           }
          ],
          "choropleth": [
           {
            "colorbar": {
             "outlinewidth": 0,
             "tickcolor": "rgb(237,237,237)",
             "ticklen": 6,
             "ticks": "inside"
            },
            "type": "choropleth"
           }
          ],
          "contour": [
           {
            "colorbar": {
             "outlinewidth": 0,
             "tickcolor": "rgb(237,237,237)",
             "ticklen": 6,
             "ticks": "inside"
            },
            "colorscale": [
             [
              0,
              "rgb(20,44,66)"
             ],
             [
              1,
              "rgb(90,179,244)"
             ]
            ],
            "type": "contour"
           }
          ],
          "contourcarpet": [
           {
            "colorbar": {
             "outlinewidth": 0,
             "tickcolor": "rgb(237,237,237)",
             "ticklen": 6,
             "ticks": "inside"
            },
            "type": "contourcarpet"
           }
          ],
          "heatmap": [
           {
            "colorbar": {
             "outlinewidth": 0,
             "tickcolor": "rgb(237,237,237)",
             "ticklen": 6,
             "ticks": "inside"
            },
            "colorscale": [
             [
              0,
              "rgb(20,44,66)"
             ],
             [
              1,
              "rgb(90,179,244)"
             ]
            ],
            "type": "heatmap"
           }
          ],
          "histogram": [
           {
            "marker": {
             "pattern": {
              "fillmode": "overlay",
              "size": 10,
              "solidity": 0.2
             }
            },
            "type": "histogram"
           }
          ],
          "histogram2d": [
           {
            "colorbar": {
             "outlinewidth": 0,
             "tickcolor": "rgb(237,237,237)",
             "ticklen": 6,
             "ticks": "inside"
            },
            "colorscale": [
             [
              0,
              "rgb(20,44,66)"
             ],
             [
              1,
              "rgb(90,179,244)"
             ]
            ],
            "type": "histogram2d"
           }
          ],
          "histogram2dcontour": [
           {
            "colorbar": {
             "outlinewidth": 0,
             "tickcolor": "rgb(237,237,237)",
             "ticklen": 6,
             "ticks": "inside"
            },
            "colorscale": [
             [
              0,
              "rgb(20,44,66)"
             ],
             [
              1,
              "rgb(90,179,244)"
             ]
            ],
            "type": "histogram2dcontour"
           }
          ],
          "mesh3d": [
           {
            "colorbar": {
             "outlinewidth": 0,
             "tickcolor": "rgb(237,237,237)",
             "ticklen": 6,
             "ticks": "inside"
            },
            "type": "mesh3d"
           }
          ],
          "parcoords": [
           {
            "line": {
             "colorbar": {
              "outlinewidth": 0,
              "tickcolor": "rgb(237,237,237)",
              "ticklen": 6,
              "ticks": "inside"
             }
            },
            "type": "parcoords"
           }
          ],
          "pie": [
           {
            "automargin": true,
            "type": "pie"
           }
          ],
          "scatter": [
           {
            "fillpattern": {
             "fillmode": "overlay",
             "size": 10,
             "solidity": 0.2
            },
            "type": "scatter"
           }
          ],
          "scatter3d": [
           {
            "line": {
             "colorbar": {
              "outlinewidth": 0,
              "tickcolor": "rgb(237,237,237)",
              "ticklen": 6,
              "ticks": "inside"
             }
            },
            "marker": {
             "colorbar": {
              "outlinewidth": 0,
              "tickcolor": "rgb(237,237,237)",
              "ticklen": 6,
              "ticks": "inside"
             }
            },
            "type": "scatter3d"
           }
          ],
          "scattercarpet": [
           {
            "marker": {
             "colorbar": {
              "outlinewidth": 0,
              "tickcolor": "rgb(237,237,237)",
              "ticklen": 6,
              "ticks": "inside"
             }
            },
            "type": "scattercarpet"
           }
          ],
          "scattergeo": [
           {
            "marker": {
             "colorbar": {
              "outlinewidth": 0,
              "tickcolor": "rgb(237,237,237)",
              "ticklen": 6,
              "ticks": "inside"
             }
            },
            "type": "scattergeo"
           }
          ],
          "scattergl": [
           {
            "marker": {
             "colorbar": {
              "outlinewidth": 0,
              "tickcolor": "rgb(237,237,237)",
              "ticklen": 6,
              "ticks": "inside"
             }
            },
            "type": "scattergl"
           }
          ],
          "scattermap": [
           {
            "marker": {
             "colorbar": {
              "outlinewidth": 0,
              "tickcolor": "rgb(237,237,237)",
              "ticklen": 6,
              "ticks": "inside"
             }
            },
            "type": "scattermap"
           }
          ],
          "scattermapbox": [
           {
            "marker": {
             "colorbar": {
              "outlinewidth": 0,
              "tickcolor": "rgb(237,237,237)",
              "ticklen": 6,
              "ticks": "inside"
             }
            },
            "type": "scattermapbox"
           }
          ],
          "scatterpolar": [
           {
            "marker": {
             "colorbar": {
              "outlinewidth": 0,
              "tickcolor": "rgb(237,237,237)",
              "ticklen": 6,
              "ticks": "inside"
             }
            },
            "type": "scatterpolar"
           }
          ],
          "scatterpolargl": [
           {
            "marker": {
             "colorbar": {
              "outlinewidth": 0,
              "tickcolor": "rgb(237,237,237)",
              "ticklen": 6,
              "ticks": "inside"
             }
            },
            "type": "scatterpolargl"
           }
          ],
          "scatterternary": [
           {
            "marker": {
             "colorbar": {
              "outlinewidth": 0,
              "tickcolor": "rgb(237,237,237)",
              "ticklen": 6,
              "ticks": "inside"
             }
            },
            "type": "scatterternary"
           }
          ],
          "surface": [
           {
            "colorbar": {
             "outlinewidth": 0,
             "tickcolor": "rgb(237,237,237)",
             "ticklen": 6,
             "ticks": "inside"
            },
            "colorscale": [
             [
              0,
              "rgb(20,44,66)"
             ],
             [
              1,
              "rgb(90,179,244)"
             ]
            ],
            "type": "surface"
           }
          ],
          "table": [
           {
            "cells": {
             "fill": {
              "color": "rgb(237,237,237)"
             },
             "line": {
              "color": "white"
             }
            },
            "header": {
             "fill": {
              "color": "rgb(217,217,217)"
             },
             "line": {
              "color": "white"
             }
            },
            "type": "table"
           }
          ]
         },
         "layout": {
          "annotationdefaults": {
           "arrowhead": 0,
           "arrowwidth": 1
          },
          "autotypenumbers": "strict",
          "coloraxis": {
           "colorbar": {
            "outlinewidth": 0,
            "tickcolor": "rgb(237,237,237)",
            "ticklen": 6,
            "ticks": "inside"
           }
          },
          "colorscale": {
           "sequential": [
            [
             0,
             "rgb(20,44,66)"
            ],
            [
             1,
             "rgb(90,179,244)"
            ]
           ],
           "sequentialminus": [
            [
             0,
             "rgb(20,44,66)"
            ],
            [
             1,
             "rgb(90,179,244)"
            ]
           ]
          },
          "colorway": [
           "#F8766D",
           "#A3A500",
           "#00BF7D",
           "#00B0F6",
           "#E76BF3"
          ],
          "font": {
           "color": "rgb(51,51,51)"
          },
          "geo": {
           "bgcolor": "white",
           "lakecolor": "white",
           "landcolor": "rgb(237,237,237)",
           "showlakes": true,
           "showland": true,
           "subunitcolor": "white"
          },
          "hoverlabel": {
           "align": "left"
          },
          "hovermode": "closest",
          "paper_bgcolor": "white",
          "plot_bgcolor": "rgb(237,237,237)",
          "polar": {
           "angularaxis": {
            "gridcolor": "white",
            "linecolor": "white",
            "showgrid": true,
            "tickcolor": "rgb(51,51,51)",
            "ticks": "outside"
           },
           "bgcolor": "rgb(237,237,237)",
           "radialaxis": {
            "gridcolor": "white",
            "linecolor": "white",
            "showgrid": true,
            "tickcolor": "rgb(51,51,51)",
            "ticks": "outside"
           }
          },
          "scene": {
           "xaxis": {
            "backgroundcolor": "rgb(237,237,237)",
            "gridcolor": "white",
            "gridwidth": 2,
            "linecolor": "white",
            "showbackground": true,
            "showgrid": true,
            "tickcolor": "rgb(51,51,51)",
            "ticks": "outside",
            "zerolinecolor": "white"
           },
           "yaxis": {
            "backgroundcolor": "rgb(237,237,237)",
            "gridcolor": "white",
            "gridwidth": 2,
            "linecolor": "white",
            "showbackground": true,
            "showgrid": true,
            "tickcolor": "rgb(51,51,51)",
            "ticks": "outside",
            "zerolinecolor": "white"
           },
           "zaxis": {
            "backgroundcolor": "rgb(237,237,237)",
            "gridcolor": "white",
            "gridwidth": 2,
            "linecolor": "white",
            "showbackground": true,
            "showgrid": true,
            "tickcolor": "rgb(51,51,51)",
            "ticks": "outside",
            "zerolinecolor": "white"
           }
          },
          "shapedefaults": {
           "fillcolor": "black",
           "line": {
            "width": 0
           },
           "opacity": 0.3
          },
          "ternary": {
           "aaxis": {
            "gridcolor": "white",
            "linecolor": "white",
            "showgrid": true,
            "tickcolor": "rgb(51,51,51)",
            "ticks": "outside"
           },
           "baxis": {
            "gridcolor": "white",
            "linecolor": "white",
            "showgrid": true,
            "tickcolor": "rgb(51,51,51)",
            "ticks": "outside"
           },
           "bgcolor": "rgb(237,237,237)",
           "caxis": {
            "gridcolor": "white",
            "linecolor": "white",
            "showgrid": true,
            "tickcolor": "rgb(51,51,51)",
            "ticks": "outside"
           }
          },
          "xaxis": {
           "automargin": true,
           "gridcolor": "white",
           "linecolor": "white",
           "showgrid": true,
           "tickcolor": "rgb(51,51,51)",
           "ticks": "outside",
           "title": {
            "standoff": 15
           },
           "zerolinecolor": "white"
          },
          "yaxis": {
           "automargin": true,
           "gridcolor": "white",
           "linecolor": "white",
           "showgrid": true,
           "tickcolor": "rgb(51,51,51)",
           "ticks": "outside",
           "title": {
            "standoff": 15
           },
           "zerolinecolor": "white"
          }
         }
        },
        "title": {
         "text": "Daily Return Nvidia"
        },
        "xaxis": {
         "anchor": "y",
         "domain": [
          0,
          1
         ],
         "title": {
          "text": "Date"
         }
        },
        "yaxis": {
         "anchor": "x",
         "domain": [
          0,
          1
         ],
         "title": {
          "text": "Return"
         }
        }
       }
      }
     },
     "metadata": {},
     "output_type": "display_data"
    }
   ],
   "source": [
    "fig = px.line(\n",
    "    nvidia, x = \"Date\", y =\"Return\", title= \"Daily Return Nvidia\", template=\"ggplot2\"\n",
    ")\n",
    "\n",
    "fig.show()"
   ]
  },
  {
   "cell_type": "markdown",
   "id": "1a31d8d3",
   "metadata": {},
   "source": [
    "### Кумулятивні дохідності за кожний період (день)"
   ]
  },
  {
   "cell_type": "markdown",
   "id": "0462d105",
   "metadata": {},
   "source": [
    "Кумулятивні дохідності (або накопичена дохідність) — це загальний приріст або спад вартості активу за певний період часу, враховуючи всі попередні зміни.\n",
    "\n",
    "1. Звичайна дохідність (наприклад, щоденна) показує зміну лише за один день.\n",
    "2. Кумулятивна дохідність показує, скільки в сумі набралося доходу або збитку з початку періоду."
   ]
  },
  {
   "cell_type": "markdown",
   "id": "0127949e",
   "metadata": {},
   "source": [
    "\n",
    "$$\n",
    "R_{\\text{cum}}(t) = \\left( \\prod_{i=1}^{t} (1 + r_i) \\right) - 1\n",
    "$$"
   ]
  },
  {
   "cell_type": "code",
   "execution_count": 94,
   "id": "7352ebe4",
   "metadata": {},
   "outputs": [
    {
     "data": {
      "text/html": [
       "<div>\n",
       "<style scoped>\n",
       "    .dataframe tbody tr th:only-of-type {\n",
       "        vertical-align: middle;\n",
       "    }\n",
       "\n",
       "    .dataframe tbody tr th {\n",
       "        vertical-align: top;\n",
       "    }\n",
       "\n",
       "    .dataframe thead th {\n",
       "        text-align: right;\n",
       "    }\n",
       "</style>\n",
       "<table border=\"1\" class=\"dataframe\">\n",
       "  <thead>\n",
       "    <tr style=\"text-align: right;\">\n",
       "      <th></th>\n",
       "      <th>Date</th>\n",
       "      <th>Open</th>\n",
       "      <th>High</th>\n",
       "      <th>Low</th>\n",
       "      <th>Close</th>\n",
       "      <th>Volume</th>\n",
       "      <th>Return</th>\n",
       "      <th>Comulative Return</th>\n",
       "    </tr>\n",
       "  </thead>\n",
       "  <tbody>\n",
       "    <tr>\n",
       "      <th>0</th>\n",
       "      <td>2024-09-04</td>\n",
       "      <td>504.73</td>\n",
       "      <td>515.22</td>\n",
       "      <td>502.74</td>\n",
       "      <td>511.38</td>\n",
       "      <td>8351014</td>\n",
       "      <td>NaN</td>\n",
       "      <td>NaN</td>\n",
       "    </tr>\n",
       "    <tr>\n",
       "      <th>1</th>\n",
       "      <td>2024-09-03</td>\n",
       "      <td>518.26</td>\n",
       "      <td>524.10</td>\n",
       "      <td>507.27</td>\n",
       "      <td>510.41</td>\n",
       "      <td>12486732</td>\n",
       "      <td>-0.001897</td>\n",
       "      <td>-0.001897</td>\n",
       "    </tr>\n",
       "    <tr>\n",
       "      <th>2</th>\n",
       "      <td>2024-08-30</td>\n",
       "      <td>519.97</td>\n",
       "      <td>522.15</td>\n",
       "      <td>513.84</td>\n",
       "      <td>519.93</td>\n",
       "      <td>9181918</td>\n",
       "      <td>0.018652</td>\n",
       "      <td>0.016719</td>\n",
       "    </tr>\n",
       "    <tr>\n",
       "      <th>3</th>\n",
       "      <td>2024-08-29</td>\n",
       "      <td>517.68</td>\n",
       "      <td>525.80</td>\n",
       "      <td>514.32</td>\n",
       "      <td>516.85</td>\n",
       "      <td>8335229</td>\n",
       "      <td>-0.005924</td>\n",
       "      <td>0.010697</td>\n",
       "    </tr>\n",
       "    <tr>\n",
       "      <th>4</th>\n",
       "      <td>2024-08-28</td>\n",
       "      <td>516.30</td>\n",
       "      <td>519.71</td>\n",
       "      <td>511.09</td>\n",
       "      <td>515.41</td>\n",
       "      <td>9120514</td>\n",
       "      <td>-0.002786</td>\n",
       "      <td>0.007881</td>\n",
       "    </tr>\n",
       "    <tr>\n",
       "      <th>5</th>\n",
       "      <td>2024-08-27</td>\n",
       "      <td>517.61</td>\n",
       "      <td>522.62</td>\n",
       "      <td>513.95</td>\n",
       "      <td>517.73</td>\n",
       "      <td>6296752</td>\n",
       "      <td>0.004501</td>\n",
       "      <td>0.012417</td>\n",
       "    </tr>\n",
       "    <tr>\n",
       "      <th>6</th>\n",
       "      <td>2024-08-26</td>\n",
       "      <td>526.20</td>\n",
       "      <td>526.60</td>\n",
       "      <td>513.59</td>\n",
       "      <td>519.74</td>\n",
       "      <td>9605716</td>\n",
       "      <td>0.003882</td>\n",
       "      <td>0.016348</td>\n",
       "    </tr>\n",
       "    <tr>\n",
       "      <th>7</th>\n",
       "      <td>2024-08-23</td>\n",
       "      <td>535.50</td>\n",
       "      <td>538.44</td>\n",
       "      <td>523.67</td>\n",
       "      <td>526.60</td>\n",
       "      <td>11354111</td>\n",
       "      <td>0.013199</td>\n",
       "      <td>0.029763</td>\n",
       "    </tr>\n",
       "    <tr>\n",
       "      <th>8</th>\n",
       "      <td>2024-08-22</td>\n",
       "      <td>535.58</td>\n",
       "      <td>542.79</td>\n",
       "      <td>527.19</td>\n",
       "      <td>530.52</td>\n",
       "      <td>15745838</td>\n",
       "      <td>0.007444</td>\n",
       "      <td>0.037428</td>\n",
       "    </tr>\n",
       "    <tr>\n",
       "      <th>9</th>\n",
       "      <td>2024-08-21</td>\n",
       "      <td>525.75</td>\n",
       "      <td>537.97</td>\n",
       "      <td>525.54</td>\n",
       "      <td>533.74</td>\n",
       "      <td>13453274</td>\n",
       "      <td>0.006070</td>\n",
       "      <td>0.043725</td>\n",
       "    </tr>\n",
       "  </tbody>\n",
       "</table>\n",
       "</div>"
      ],
      "text/plain": [
       "        Date    Open    High     Low   Close    Volume    Return  \\\n",
       "0 2024-09-04  504.73  515.22  502.74  511.38   8351014       NaN   \n",
       "1 2024-09-03  518.26  524.10  507.27  510.41  12486732 -0.001897   \n",
       "2 2024-08-30  519.97  522.15  513.84  519.93   9181918  0.018652   \n",
       "3 2024-08-29  517.68  525.80  514.32  516.85   8335229 -0.005924   \n",
       "4 2024-08-28  516.30  519.71  511.09  515.41   9120514 -0.002786   \n",
       "5 2024-08-27  517.61  522.62  513.95  517.73   6296752  0.004501   \n",
       "6 2024-08-26  526.20  526.60  513.59  519.74   9605716  0.003882   \n",
       "7 2024-08-23  535.50  538.44  523.67  526.60  11354111  0.013199   \n",
       "8 2024-08-22  535.58  542.79  527.19  530.52  15745838  0.007444   \n",
       "9 2024-08-21  525.75  537.97  525.54  533.74  13453274  0.006070   \n",
       "\n",
       "   Comulative Return  \n",
       "0                NaN  \n",
       "1          -0.001897  \n",
       "2           0.016719  \n",
       "3           0.010697  \n",
       "4           0.007881  \n",
       "5           0.012417  \n",
       "6           0.016348  \n",
       "7           0.029763  \n",
       "8           0.037428  \n",
       "9           0.043725  "
      ]
     },
     "execution_count": 94,
     "metadata": {},
     "output_type": "execute_result"
    }
   ],
   "source": [
    "meta[\"Comulative Return\"] = (1 + meta[\"Return\"]).cumprod() - 1\n",
    "meta.head(10)"
   ]
  },
  {
   "cell_type": "code",
   "execution_count": 96,
   "id": "1c154b92",
   "metadata": {},
   "outputs": [
    {
     "data": {
      "application/vnd.plotly.v1+json": {
       "config": {
        "plotlyServerURL": "https://plot.ly"
       },
       "data": [
        {
         "hovertemplate": "Date=%{x}<br>Comulative Return=%{y}<extra></extra>",
         "legendgroup": "",
         "line": {
          "color": "#F8766D",
          "dash": "solid"
         },
         "marker": {
          "symbol": "circle"
         },
         "mode": "lines",
         "name": "",
         "orientation": "v",
         "showlegend": false,
         "type": "scatter",
         "x": [
          "2024-09-04T00:00:00.000000000",
          "2024-09-03T00:00:00.000000000",
          "2024-08-30T00:00:00.000000000",
          "2024-08-29T00:00:00.000000000",
          "2024-08-28T00:00:00.000000000",
          "2024-08-27T00:00:00.000000000",
          "2024-08-26T00:00:00.000000000",
          "2024-08-23T00:00:00.000000000",
          "2024-08-22T00:00:00.000000000",
          "2024-08-21T00:00:00.000000000",
          "2024-08-20T00:00:00.000000000",
          "2024-08-19T00:00:00.000000000",
          "2024-08-16T00:00:00.000000000",
          "2024-08-15T00:00:00.000000000",
          "2024-08-14T00:00:00.000000000",
          "2024-08-13T00:00:00.000000000",
          "2024-08-12T00:00:00.000000000",
          "2024-08-09T00:00:00.000000000",
          "2024-08-08T00:00:00.000000000",
          "2024-08-07T00:00:00.000000000",
          "2024-08-06T00:00:00.000000000",
          "2024-08-05T00:00:00.000000000",
          "2024-08-02T00:00:00.000000000",
          "2024-08-01T00:00:00.000000000",
          "2024-07-31T00:00:00.000000000",
          "2024-07-30T00:00:00.000000000",
          "2024-07-29T00:00:00.000000000",
          "2024-07-26T00:00:00.000000000",
          "2024-07-25T00:00:00.000000000",
          "2024-07-24T00:00:00.000000000",
          "2024-07-23T00:00:00.000000000",
          "2024-07-22T00:00:00.000000000",
          "2024-07-19T00:00:00.000000000",
          "2024-07-18T00:00:00.000000000",
          "2024-07-17T00:00:00.000000000",
          "2024-07-16T00:00:00.000000000",
          "2024-07-15T00:00:00.000000000",
          "2024-07-12T00:00:00.000000000",
          "2024-07-11T00:00:00.000000000",
          "2024-07-10T00:00:00.000000000",
          "2024-07-09T00:00:00.000000000",
          "2024-07-08T00:00:00.000000000",
          "2024-07-05T00:00:00.000000000",
          "2024-07-03T00:00:00.000000000",
          "2024-07-02T00:00:00.000000000",
          "2024-07-01T00:00:00.000000000",
          "2024-06-28T00:00:00.000000000",
          "2024-06-27T00:00:00.000000000",
          "2024-06-26T00:00:00.000000000",
          "2024-06-25T00:00:00.000000000",
          "2024-06-24T00:00:00.000000000",
          "2024-06-21T00:00:00.000000000",
          "2024-06-20T00:00:00.000000000",
          "2024-06-18T00:00:00.000000000",
          "2024-06-17T00:00:00.000000000",
          "2024-06-14T00:00:00.000000000",
          "2024-06-13T00:00:00.000000000",
          "2024-06-12T00:00:00.000000000",
          "2024-06-11T00:00:00.000000000",
          "2024-06-10T00:00:00.000000000",
          "2024-06-07T00:00:00.000000000",
          "2024-06-06T00:00:00.000000000",
          "2024-06-05T00:00:00.000000000",
          "2024-06-04T00:00:00.000000000",
          "2024-06-03T00:00:00.000000000",
          "2024-05-31T00:00:00.000000000",
          "2024-05-30T00:00:00.000000000",
          "2024-05-29T00:00:00.000000000",
          "2024-05-28T00:00:00.000000000",
          "2024-05-24T00:00:00.000000000",
          "2024-05-23T00:00:00.000000000",
          "2024-05-22T00:00:00.000000000",
          "2024-05-21T00:00:00.000000000",
          "2024-05-20T00:00:00.000000000",
          "2024-05-17T00:00:00.000000000",
          "2024-05-16T00:00:00.000000000",
          "2024-05-15T00:00:00.000000000",
          "2024-05-14T00:00:00.000000000",
          "2024-05-13T00:00:00.000000000",
          "2024-05-10T00:00:00.000000000",
          "2024-05-09T00:00:00.000000000",
          "2024-05-08T00:00:00.000000000",
          "2024-05-07T00:00:00.000000000",
          "2024-05-06T00:00:00.000000000",
          "2024-05-03T00:00:00.000000000",
          "2024-05-02T00:00:00.000000000",
          "2024-05-01T00:00:00.000000000",
          "2024-04-30T00:00:00.000000000",
          "2024-04-29T00:00:00.000000000",
          "2024-04-26T00:00:00.000000000",
          "2024-04-25T00:00:00.000000000",
          "2024-04-24T00:00:00.000000000",
          "2024-04-23T00:00:00.000000000",
          "2024-04-22T00:00:00.000000000",
          "2024-04-19T00:00:00.000000000",
          "2024-04-18T00:00:00.000000000",
          "2024-04-17T00:00:00.000000000",
          "2024-04-16T00:00:00.000000000",
          "2024-04-15T00:00:00.000000000",
          "2024-04-12T00:00:00.000000000",
          "2024-04-11T00:00:00.000000000",
          "2024-04-10T00:00:00.000000000",
          "2024-04-09T00:00:00.000000000",
          "2024-04-08T00:00:00.000000000",
          "2024-04-05T00:00:00.000000000",
          "2024-04-04T00:00:00.000000000",
          "2024-04-03T00:00:00.000000000",
          "2024-04-02T00:00:00.000000000",
          "2024-04-01T00:00:00.000000000",
          "2024-03-28T00:00:00.000000000",
          "2024-03-27T00:00:00.000000000",
          "2024-03-26T00:00:00.000000000",
          "2024-03-25T00:00:00.000000000",
          "2024-03-22T00:00:00.000000000",
          "2024-03-21T00:00:00.000000000",
          "2024-03-20T00:00:00.000000000",
          "2024-03-19T00:00:00.000000000",
          "2024-03-18T00:00:00.000000000",
          "2024-03-15T00:00:00.000000000",
          "2024-03-14T00:00:00.000000000",
          "2024-03-13T00:00:00.000000000",
          "2024-03-12T00:00:00.000000000",
          "2024-03-11T00:00:00.000000000",
          "2024-03-08T00:00:00.000000000",
          "2024-03-07T00:00:00.000000000",
          "2024-03-06T00:00:00.000000000",
          "2024-03-05T00:00:00.000000000",
          "2024-03-04T00:00:00.000000000",
          "2024-03-01T00:00:00.000000000",
          "2024-02-29T00:00:00.000000000",
          "2024-02-28T00:00:00.000000000",
          "2024-02-27T00:00:00.000000000",
          "2024-02-26T00:00:00.000000000",
          "2024-02-23T00:00:00.000000000",
          "2024-02-22T00:00:00.000000000",
          "2024-02-21T00:00:00.000000000",
          "2024-02-20T00:00:00.000000000",
          "2024-02-16T00:00:00.000000000",
          "2024-02-15T00:00:00.000000000",
          "2024-02-14T00:00:00.000000000",
          "2024-02-13T00:00:00.000000000",
          "2024-02-12T00:00:00.000000000",
          "2024-02-09T00:00:00.000000000",
          "2024-02-08T00:00:00.000000000",
          "2024-02-07T00:00:00.000000000",
          "2024-02-06T00:00:00.000000000",
          "2024-02-05T00:00:00.000000000",
          "2024-02-02T00:00:00.000000000",
          "2024-02-01T00:00:00.000000000",
          "2024-01-31T00:00:00.000000000",
          "2024-01-30T00:00:00.000000000",
          "2024-01-29T00:00:00.000000000",
          "2024-01-26T00:00:00.000000000",
          "2024-01-25T00:00:00.000000000",
          "2024-01-24T00:00:00.000000000",
          "2024-01-23T00:00:00.000000000",
          "2024-01-22T00:00:00.000000000",
          "2024-01-19T00:00:00.000000000",
          "2024-01-18T00:00:00.000000000",
          "2024-01-17T00:00:00.000000000",
          "2024-01-16T00:00:00.000000000",
          "2024-01-12T00:00:00.000000000",
          "2024-01-11T00:00:00.000000000",
          "2024-01-10T00:00:00.000000000",
          "2024-01-09T00:00:00.000000000",
          "2024-01-08T00:00:00.000000000",
          "2024-01-05T00:00:00.000000000",
          "2024-01-04T00:00:00.000000000",
          "2024-01-03T00:00:00.000000000"
         ],
         "xaxis": "x",
         "y": {
          "bdata": "AAAAAAAA+H8ATs7C3xNfv8AmIk3oHpE/gK+YLhLohT+AUXonuSOAPwCUgJZIbok/gHuNbYK9kD/AJbt8FnqePwDo/NTHKaM/QDfbmRljpj/A3J2JL/SbPyD9DgcfhaA/gF3ajsRQnT9g/RckS4+oP8AtBneQA5w/gNcQLueOnz8AZGfqDLZ5P4AyX1y2GoQ/gGhtUH/UeL9Q4MsVX8envxAPUnxfn6K/EPaVPjV6sr/w/BckS4+ov+ARM3PO9J2/YFUkM4ztsr8A8FDsbb24v3BLwnJ6ere/2PyKhsJ7t794o6xF8Z69v0BODa80srm/YMHbo1ICqL9gjh6U9kypvyCAfA1d8rG/GKUtUdRqsr9oaJse71W5v+Cs9Mrx6qa/ICXDfc+MoL8g0tmEi7GbvwAAFos8gRS/gBIqVqLqpT8gyfInqj2hP6CIVKVfj6A/wDQM3QIiqz8AfH+C1i92vwCOfWMP33m/4P8ROlgUkL9AhFFyJgCRv4ARumikO4s/APAq5XdZSD8A1Llfhw9xv+C7TkgKnZu/sGsi0oTuob+AFoxY9AuWv4DzbVq4c5q/AGxwg7hjiL9AJiJN6B6Rv0BjvZz5PZK/AOhBac+Ugb/AdnkcZBGHvyA0HfvnPpW/gDbBXgg8pL8At+MojHGjvyCHDxFYJKK/SDanI/cUsr/wQD1aK9axv4A/zWwtJ7e/WACOufsKt7/wyAxju2SzvxjZvJLAnrC/mKkCtp14sb+gUlV2day3vwhpUxVurba/SAV9WdY/uL8I8znklSW2v4iTHlK2nrS/wBijHoz1s7+QigpD2KCvvwi80shmprS/gHhLTvSPtr8A9pU+NXqyv2AEvEUr3rK/8MEG/UhGtL/4h0OHenK2v8BALDxGube/2J7X4CeRvr+I/LKLX9nBv/zr6CBJeMK/PBfo07O3xL+gikNmWhvEv6QyF1M1csG/DAmRqvTrwb+wXRYGoLGjv8Bg//3HGaG/4DRAUyVwr7/Q113DpwywvwAz2Gbg05a/8OKa0nUIo7/AtY12n+mav8BrK++w+Jm/AK+bYUt3Zb9AcD9Az6STPwACNZKVRYo/ADHEFcInfT8AcXO28fKHP8AJtAIyHZw/gIMM3h6Vcr+ApgigkPOJvwB54QiprZ+/UF4wQbHYpb9gWb0gepqrv9DaNZ3qV6O/cHzsPJtPob/Axmj/mmeUvwBGT1JDPH2/AK+YLhLohb9ACy0NXNaOv3D5C9Tl9aC/0MqWi8o6oL9QGTnZQBOtv3DW7dWpXaW/ANcYL6Chob+Ae7DFv+6av5DJL7v4la2/AKR+d4Edjb8AkBiqA9Jgv8DDkCVYHKG/IJvLkML3pr+gKL6vTwmevwBeMEGx2JW/kBTo9NMOp7/gL8QVwietv0CZQWizIaq/INKuK5Vtr7/wzDLuMSWtv4AdgaCBDau/uBW6JmSNtr+InxNYA/K0v9CCx0kXKrS/QH0p0Omnrb+ASOqYNy+0v/gl5tUMvrq/aHG4Svldtr8oMadlN8O2v8g1fMoA0bW/yJ+g9YsFtr/ATeJVPm69v3Baj1IKGbu/CHikdVpVs79Yc3yy/aXNvyyKlIwHzs6/8IcyaZVVzL8IRJGzERjMv5igkisAz82/0ItP198Lzr+MIqFiJarOvxyDt0elBNC/Xmta2ZNx0L+oqFGkZDzQvybK/7SiJdG/krc/pEsd0r9mT2NhITrSvyg0JOAtWtG/ljFFIaXz0b+kgYmaVdrRv8Jkbq4yetO/QBUTTspS07+I0f41zyjUv6onBIHqwtS/CuXBmn8X1b8=",
          "dtype": "f8"
         },
         "yaxis": "y"
        }
       ],
       "layout": {
        "legend": {
         "tracegroupgap": 0
        },
        "template": {
         "data": {
          "bar": [
           {
            "error_x": {
             "color": "rgb(51,51,51)"
            },
            "error_y": {
             "color": "rgb(51,51,51)"
            },
            "marker": {
             "line": {
              "color": "rgb(237,237,237)",
              "width": 0.5
             },
             "pattern": {
              "fillmode": "overlay",
              "size": 10,
              "solidity": 0.2
             }
            },
            "type": "bar"
           }
          ],
          "barpolar": [
           {
            "marker": {
             "line": {
              "color": "rgb(237,237,237)",
              "width": 0.5
             },
             "pattern": {
              "fillmode": "overlay",
              "size": 10,
              "solidity": 0.2
             }
            },
            "type": "barpolar"
           }
          ],
          "carpet": [
           {
            "aaxis": {
             "endlinecolor": "rgb(51,51,51)",
             "gridcolor": "white",
             "linecolor": "white",
             "minorgridcolor": "white",
             "startlinecolor": "rgb(51,51,51)"
            },
            "baxis": {
             "endlinecolor": "rgb(51,51,51)",
             "gridcolor": "white",
             "linecolor": "white",
             "minorgridcolor": "white",
             "startlinecolor": "rgb(51,51,51)"
            },
            "type": "carpet"
           }
          ],
          "choropleth": [
           {
            "colorbar": {
             "outlinewidth": 0,
             "tickcolor": "rgb(237,237,237)",
             "ticklen": 6,
             "ticks": "inside"
            },
            "type": "choropleth"
           }
          ],
          "contour": [
           {
            "colorbar": {
             "outlinewidth": 0,
             "tickcolor": "rgb(237,237,237)",
             "ticklen": 6,
             "ticks": "inside"
            },
            "colorscale": [
             [
              0,
              "rgb(20,44,66)"
             ],
             [
              1,
              "rgb(90,179,244)"
             ]
            ],
            "type": "contour"
           }
          ],
          "contourcarpet": [
           {
            "colorbar": {
             "outlinewidth": 0,
             "tickcolor": "rgb(237,237,237)",
             "ticklen": 6,
             "ticks": "inside"
            },
            "type": "contourcarpet"
           }
          ],
          "heatmap": [
           {
            "colorbar": {
             "outlinewidth": 0,
             "tickcolor": "rgb(237,237,237)",
             "ticklen": 6,
             "ticks": "inside"
            },
            "colorscale": [
             [
              0,
              "rgb(20,44,66)"
             ],
             [
              1,
              "rgb(90,179,244)"
             ]
            ],
            "type": "heatmap"
           }
          ],
          "histogram": [
           {
            "marker": {
             "pattern": {
              "fillmode": "overlay",
              "size": 10,
              "solidity": 0.2
             }
            },
            "type": "histogram"
           }
          ],
          "histogram2d": [
           {
            "colorbar": {
             "outlinewidth": 0,
             "tickcolor": "rgb(237,237,237)",
             "ticklen": 6,
             "ticks": "inside"
            },
            "colorscale": [
             [
              0,
              "rgb(20,44,66)"
             ],
             [
              1,
              "rgb(90,179,244)"
             ]
            ],
            "type": "histogram2d"
           }
          ],
          "histogram2dcontour": [
           {
            "colorbar": {
             "outlinewidth": 0,
             "tickcolor": "rgb(237,237,237)",
             "ticklen": 6,
             "ticks": "inside"
            },
            "colorscale": [
             [
              0,
              "rgb(20,44,66)"
             ],
             [
              1,
              "rgb(90,179,244)"
             ]
            ],
            "type": "histogram2dcontour"
           }
          ],
          "mesh3d": [
           {
            "colorbar": {
             "outlinewidth": 0,
             "tickcolor": "rgb(237,237,237)",
             "ticklen": 6,
             "ticks": "inside"
            },
            "type": "mesh3d"
           }
          ],
          "parcoords": [
           {
            "line": {
             "colorbar": {
              "outlinewidth": 0,
              "tickcolor": "rgb(237,237,237)",
              "ticklen": 6,
              "ticks": "inside"
             }
            },
            "type": "parcoords"
           }
          ],
          "pie": [
           {
            "automargin": true,
            "type": "pie"
           }
          ],
          "scatter": [
           {
            "fillpattern": {
             "fillmode": "overlay",
             "size": 10,
             "solidity": 0.2
            },
            "type": "scatter"
           }
          ],
          "scatter3d": [
           {
            "line": {
             "colorbar": {
              "outlinewidth": 0,
              "tickcolor": "rgb(237,237,237)",
              "ticklen": 6,
              "ticks": "inside"
             }
            },
            "marker": {
             "colorbar": {
              "outlinewidth": 0,
              "tickcolor": "rgb(237,237,237)",
              "ticklen": 6,
              "ticks": "inside"
             }
            },
            "type": "scatter3d"
           }
          ],
          "scattercarpet": [
           {
            "marker": {
             "colorbar": {
              "outlinewidth": 0,
              "tickcolor": "rgb(237,237,237)",
              "ticklen": 6,
              "ticks": "inside"
             }
            },
            "type": "scattercarpet"
           }
          ],
          "scattergeo": [
           {
            "marker": {
             "colorbar": {
              "outlinewidth": 0,
              "tickcolor": "rgb(237,237,237)",
              "ticklen": 6,
              "ticks": "inside"
             }
            },
            "type": "scattergeo"
           }
          ],
          "scattergl": [
           {
            "marker": {
             "colorbar": {
              "outlinewidth": 0,
              "tickcolor": "rgb(237,237,237)",
              "ticklen": 6,
              "ticks": "inside"
             }
            },
            "type": "scattergl"
           }
          ],
          "scattermap": [
           {
            "marker": {
             "colorbar": {
              "outlinewidth": 0,
              "tickcolor": "rgb(237,237,237)",
              "ticklen": 6,
              "ticks": "inside"
             }
            },
            "type": "scattermap"
           }
          ],
          "scattermapbox": [
           {
            "marker": {
             "colorbar": {
              "outlinewidth": 0,
              "tickcolor": "rgb(237,237,237)",
              "ticklen": 6,
              "ticks": "inside"
             }
            },
            "type": "scattermapbox"
           }
          ],
          "scatterpolar": [
           {
            "marker": {
             "colorbar": {
              "outlinewidth": 0,
              "tickcolor": "rgb(237,237,237)",
              "ticklen": 6,
              "ticks": "inside"
             }
            },
            "type": "scatterpolar"
           }
          ],
          "scatterpolargl": [
           {
            "marker": {
             "colorbar": {
              "outlinewidth": 0,
              "tickcolor": "rgb(237,237,237)",
              "ticklen": 6,
              "ticks": "inside"
             }
            },
            "type": "scatterpolargl"
           }
          ],
          "scatterternary": [
           {
            "marker": {
             "colorbar": {
              "outlinewidth": 0,
              "tickcolor": "rgb(237,237,237)",
              "ticklen": 6,
              "ticks": "inside"
             }
            },
            "type": "scatterternary"
           }
          ],
          "surface": [
           {
            "colorbar": {
             "outlinewidth": 0,
             "tickcolor": "rgb(237,237,237)",
             "ticklen": 6,
             "ticks": "inside"
            },
            "colorscale": [
             [
              0,
              "rgb(20,44,66)"
             ],
             [
              1,
              "rgb(90,179,244)"
             ]
            ],
            "type": "surface"
           }
          ],
          "table": [
           {
            "cells": {
             "fill": {
              "color": "rgb(237,237,237)"
             },
             "line": {
              "color": "white"
             }
            },
            "header": {
             "fill": {
              "color": "rgb(217,217,217)"
             },
             "line": {
              "color": "white"
             }
            },
            "type": "table"
           }
          ]
         },
         "layout": {
          "annotationdefaults": {
           "arrowhead": 0,
           "arrowwidth": 1
          },
          "autotypenumbers": "strict",
          "coloraxis": {
           "colorbar": {
            "outlinewidth": 0,
            "tickcolor": "rgb(237,237,237)",
            "ticklen": 6,
            "ticks": "inside"
           }
          },
          "colorscale": {
           "sequential": [
            [
             0,
             "rgb(20,44,66)"
            ],
            [
             1,
             "rgb(90,179,244)"
            ]
           ],
           "sequentialminus": [
            [
             0,
             "rgb(20,44,66)"
            ],
            [
             1,
             "rgb(90,179,244)"
            ]
           ]
          },
          "colorway": [
           "#F8766D",
           "#A3A500",
           "#00BF7D",
           "#00B0F6",
           "#E76BF3"
          ],
          "font": {
           "color": "rgb(51,51,51)"
          },
          "geo": {
           "bgcolor": "white",
           "lakecolor": "white",
           "landcolor": "rgb(237,237,237)",
           "showlakes": true,
           "showland": true,
           "subunitcolor": "white"
          },
          "hoverlabel": {
           "align": "left"
          },
          "hovermode": "closest",
          "paper_bgcolor": "white",
          "plot_bgcolor": "rgb(237,237,237)",
          "polar": {
           "angularaxis": {
            "gridcolor": "white",
            "linecolor": "white",
            "showgrid": true,
            "tickcolor": "rgb(51,51,51)",
            "ticks": "outside"
           },
           "bgcolor": "rgb(237,237,237)",
           "radialaxis": {
            "gridcolor": "white",
            "linecolor": "white",
            "showgrid": true,
            "tickcolor": "rgb(51,51,51)",
            "ticks": "outside"
           }
          },
          "scene": {
           "xaxis": {
            "backgroundcolor": "rgb(237,237,237)",
            "gridcolor": "white",
            "gridwidth": 2,
            "linecolor": "white",
            "showbackground": true,
            "showgrid": true,
            "tickcolor": "rgb(51,51,51)",
            "ticks": "outside",
            "zerolinecolor": "white"
           },
           "yaxis": {
            "backgroundcolor": "rgb(237,237,237)",
            "gridcolor": "white",
            "gridwidth": 2,
            "linecolor": "white",
            "showbackground": true,
            "showgrid": true,
            "tickcolor": "rgb(51,51,51)",
            "ticks": "outside",
            "zerolinecolor": "white"
           },
           "zaxis": {
            "backgroundcolor": "rgb(237,237,237)",
            "gridcolor": "white",
            "gridwidth": 2,
            "linecolor": "white",
            "showbackground": true,
            "showgrid": true,
            "tickcolor": "rgb(51,51,51)",
            "ticks": "outside",
            "zerolinecolor": "white"
           }
          },
          "shapedefaults": {
           "fillcolor": "black",
           "line": {
            "width": 0
           },
           "opacity": 0.3
          },
          "ternary": {
           "aaxis": {
            "gridcolor": "white",
            "linecolor": "white",
            "showgrid": true,
            "tickcolor": "rgb(51,51,51)",
            "ticks": "outside"
           },
           "baxis": {
            "gridcolor": "white",
            "linecolor": "white",
            "showgrid": true,
            "tickcolor": "rgb(51,51,51)",
            "ticks": "outside"
           },
           "bgcolor": "rgb(237,237,237)",
           "caxis": {
            "gridcolor": "white",
            "linecolor": "white",
            "showgrid": true,
            "tickcolor": "rgb(51,51,51)",
            "ticks": "outside"
           }
          },
          "xaxis": {
           "automargin": true,
           "gridcolor": "white",
           "linecolor": "white",
           "showgrid": true,
           "tickcolor": "rgb(51,51,51)",
           "ticks": "outside",
           "title": {
            "standoff": 15
           },
           "zerolinecolor": "white"
          },
          "yaxis": {
           "automargin": true,
           "gridcolor": "white",
           "linecolor": "white",
           "showgrid": true,
           "tickcolor": "rgb(51,51,51)",
           "ticks": "outside",
           "title": {
            "standoff": 15
           },
           "zerolinecolor": "white"
          }
         }
        },
        "title": {
         "text": "Daily Comulative Return META"
        },
        "xaxis": {
         "anchor": "y",
         "domain": [
          0,
          1
         ],
         "title": {
          "text": "Date"
         }
        },
        "yaxis": {
         "anchor": "x",
         "domain": [
          0,
          1
         ],
         "title": {
          "text": "Comulative Return"
         }
        }
       }
      }
     },
     "metadata": {},
     "output_type": "display_data"
    }
   ],
   "source": [
    "fig = px.line(\n",
    "    meta, x = \"Date\", y =\"Comulative Return\", title= \"Daily Comulative Return META\", template=\"ggplot2\"\n",
    ")\n",
    "\n",
    "fig.show()"
   ]
  },
  {
   "cell_type": "code",
   "execution_count": 97,
   "id": "9396698b",
   "metadata": {},
   "outputs": [
    {
     "data": {
      "text/html": [
       "<div>\n",
       "<style scoped>\n",
       "    .dataframe tbody tr th:only-of-type {\n",
       "        vertical-align: middle;\n",
       "    }\n",
       "\n",
       "    .dataframe tbody tr th {\n",
       "        vertical-align: top;\n",
       "    }\n",
       "\n",
       "    .dataframe thead th {\n",
       "        text-align: right;\n",
       "    }\n",
       "</style>\n",
       "<table border=\"1\" class=\"dataframe\">\n",
       "  <thead>\n",
       "    <tr style=\"text-align: right;\">\n",
       "      <th></th>\n",
       "      <th>Date</th>\n",
       "      <th>Open</th>\n",
       "      <th>High</th>\n",
       "      <th>Low</th>\n",
       "      <th>Close</th>\n",
       "      <th>Volume</th>\n",
       "      <th>Return</th>\n",
       "      <th>Comulative Return</th>\n",
       "    </tr>\n",
       "  </thead>\n",
       "  <tbody>\n",
       "    <tr>\n",
       "      <th>0</th>\n",
       "      <td>2024-09-04</td>\n",
       "      <td>105.410004</td>\n",
       "      <td>113.269997</td>\n",
       "      <td>104.120003</td>\n",
       "      <td>106.209999</td>\n",
       "      <td>372470300</td>\n",
       "      <td>NaN</td>\n",
       "      <td>NaN</td>\n",
       "    </tr>\n",
       "    <tr>\n",
       "      <th>1</th>\n",
       "      <td>2024-09-03</td>\n",
       "      <td>116.010002</td>\n",
       "      <td>116.209999</td>\n",
       "      <td>107.290001</td>\n",
       "      <td>108.000000</td>\n",
       "      <td>477155100</td>\n",
       "      <td>0.016853</td>\n",
       "      <td>0.016853</td>\n",
       "    </tr>\n",
       "    <tr>\n",
       "      <th>2</th>\n",
       "      <td>2024-08-30</td>\n",
       "      <td>119.529999</td>\n",
       "      <td>121.750000</td>\n",
       "      <td>117.220001</td>\n",
       "      <td>119.370003</td>\n",
       "      <td>333751600</td>\n",
       "      <td>0.105278</td>\n",
       "      <td>0.123906</td>\n",
       "    </tr>\n",
       "    <tr>\n",
       "      <th>3</th>\n",
       "      <td>2024-08-29</td>\n",
       "      <td>121.360001</td>\n",
       "      <td>124.430000</td>\n",
       "      <td>116.709999</td>\n",
       "      <td>117.589996</td>\n",
       "      <td>453023300</td>\n",
       "      <td>-0.014912</td>\n",
       "      <td>0.107146</td>\n",
       "    </tr>\n",
       "    <tr>\n",
       "      <th>4</th>\n",
       "      <td>2024-08-28</td>\n",
       "      <td>128.119995</td>\n",
       "      <td>128.330002</td>\n",
       "      <td>122.639999</td>\n",
       "      <td>125.610001</td>\n",
       "      <td>448101100</td>\n",
       "      <td>0.068203</td>\n",
       "      <td>0.182657</td>\n",
       "    </tr>\n",
       "    <tr>\n",
       "      <th>5</th>\n",
       "      <td>2024-08-27</td>\n",
       "      <td>125.050003</td>\n",
       "      <td>129.199997</td>\n",
       "      <td>123.879997</td>\n",
       "      <td>128.300003</td>\n",
       "      <td>303134600</td>\n",
       "      <td>0.021416</td>\n",
       "      <td>0.207984</td>\n",
       "    </tr>\n",
       "    <tr>\n",
       "      <th>6</th>\n",
       "      <td>2024-08-26</td>\n",
       "      <td>129.570007</td>\n",
       "      <td>131.259995</td>\n",
       "      <td>124.370003</td>\n",
       "      <td>126.459999</td>\n",
       "      <td>331964700</td>\n",
       "      <td>-0.014341</td>\n",
       "      <td>0.190660</td>\n",
       "    </tr>\n",
       "    <tr>\n",
       "      <th>7</th>\n",
       "      <td>2024-08-23</td>\n",
       "      <td>125.860001</td>\n",
       "      <td>129.600006</td>\n",
       "      <td>125.220001</td>\n",
       "      <td>129.369995</td>\n",
       "      <td>323230300</td>\n",
       "      <td>0.023011</td>\n",
       "      <td>0.218059</td>\n",
       "    </tr>\n",
       "    <tr>\n",
       "      <th>8</th>\n",
       "      <td>2024-08-22</td>\n",
       "      <td>130.020004</td>\n",
       "      <td>130.750000</td>\n",
       "      <td>123.099998</td>\n",
       "      <td>123.739998</td>\n",
       "      <td>376189100</td>\n",
       "      <td>-0.043519</td>\n",
       "      <td>0.165050</td>\n",
       "    </tr>\n",
       "    <tr>\n",
       "      <th>9</th>\n",
       "      <td>2024-08-21</td>\n",
       "      <td>127.320000</td>\n",
       "      <td>129.350006</td>\n",
       "      <td>126.660004</td>\n",
       "      <td>128.500000</td>\n",
       "      <td>257883600</td>\n",
       "      <td>0.038468</td>\n",
       "      <td>0.209867</td>\n",
       "    </tr>\n",
       "  </tbody>\n",
       "</table>\n",
       "</div>"
      ],
      "text/plain": [
       "        Date        Open        High         Low       Close     Volume  \\\n",
       "0 2024-09-04  105.410004  113.269997  104.120003  106.209999  372470300   \n",
       "1 2024-09-03  116.010002  116.209999  107.290001  108.000000  477155100   \n",
       "2 2024-08-30  119.529999  121.750000  117.220001  119.370003  333751600   \n",
       "3 2024-08-29  121.360001  124.430000  116.709999  117.589996  453023300   \n",
       "4 2024-08-28  128.119995  128.330002  122.639999  125.610001  448101100   \n",
       "5 2024-08-27  125.050003  129.199997  123.879997  128.300003  303134600   \n",
       "6 2024-08-26  129.570007  131.259995  124.370003  126.459999  331964700   \n",
       "7 2024-08-23  125.860001  129.600006  125.220001  129.369995  323230300   \n",
       "8 2024-08-22  130.020004  130.750000  123.099998  123.739998  376189100   \n",
       "9 2024-08-21  127.320000  129.350006  126.660004  128.500000  257883600   \n",
       "\n",
       "     Return  Comulative Return  \n",
       "0       NaN                NaN  \n",
       "1  0.016853           0.016853  \n",
       "2  0.105278           0.123906  \n",
       "3 -0.014912           0.107146  \n",
       "4  0.068203           0.182657  \n",
       "5  0.021416           0.207984  \n",
       "6 -0.014341           0.190660  \n",
       "7  0.023011           0.218059  \n",
       "8 -0.043519           0.165050  \n",
       "9  0.038468           0.209867  "
      ]
     },
     "execution_count": 97,
     "metadata": {},
     "output_type": "execute_result"
    }
   ],
   "source": [
    "nvidia[\"Comulative Return\"] = (1 + nvidia[\"Return\"]).cumprod() - 1\n",
    "nvidia.head(10)"
   ]
  },
  {
   "cell_type": "code",
   "execution_count": 98,
   "id": "e4d8a42a",
   "metadata": {},
   "outputs": [
    {
     "data": {
      "application/vnd.plotly.v1+json": {
       "config": {
        "plotlyServerURL": "https://plot.ly"
       },
       "data": [
        {
         "hovertemplate": "Date=%{x}<br>Comulative Return=%{y}<extra></extra>",
         "legendgroup": "",
         "line": {
          "color": "#F8766D",
          "dash": "solid"
         },
         "marker": {
          "symbol": "circle"
         },
         "mode": "lines",
         "name": "",
         "orientation": "v",
         "showlegend": false,
         "type": "scatter",
         "x": [
          "2024-09-04T00:00:00.000000000",
          "2024-09-03T00:00:00.000000000",
          "2024-08-30T00:00:00.000000000",
          "2024-08-29T00:00:00.000000000",
          "2024-08-28T00:00:00.000000000",
          "2024-08-27T00:00:00.000000000",
          "2024-08-26T00:00:00.000000000",
          "2024-08-23T00:00:00.000000000",
          "2024-08-22T00:00:00.000000000",
          "2024-08-21T00:00:00.000000000",
          "2024-08-20T00:00:00.000000000",
          "2024-08-19T00:00:00.000000000",
          "2024-08-16T00:00:00.000000000",
          "2024-08-15T00:00:00.000000000",
          "2024-08-14T00:00:00.000000000",
          "2024-08-13T00:00:00.000000000",
          "2024-08-12T00:00:00.000000000",
          "2024-08-09T00:00:00.000000000",
          "2024-08-08T00:00:00.000000000",
          "2024-08-07T00:00:00.000000000",
          "2024-08-06T00:00:00.000000000",
          "2024-08-05T00:00:00.000000000",
          "2024-08-02T00:00:00.000000000",
          "2024-08-01T00:00:00.000000000",
          "2024-07-31T00:00:00.000000000",
          "2024-07-30T00:00:00.000000000",
          "2024-07-29T00:00:00.000000000",
          "2024-07-26T00:00:00.000000000",
          "2024-07-25T00:00:00.000000000",
          "2024-07-24T00:00:00.000000000",
          "2024-07-23T00:00:00.000000000",
          "2024-07-22T00:00:00.000000000",
          "2024-07-19T00:00:00.000000000",
          "2024-07-18T00:00:00.000000000",
          "2024-07-17T00:00:00.000000000",
          "2024-07-16T00:00:00.000000000",
          "2024-07-15T00:00:00.000000000",
          "2024-07-12T00:00:00.000000000",
          "2024-07-11T00:00:00.000000000",
          "2024-07-10T00:00:00.000000000",
          "2024-07-09T00:00:00.000000000",
          "2024-07-08T00:00:00.000000000",
          "2024-07-05T00:00:00.000000000",
          "2024-07-03T00:00:00.000000000",
          "2024-07-02T00:00:00.000000000",
          "2024-07-01T00:00:00.000000000",
          "2024-06-28T00:00:00.000000000",
          "2024-06-27T00:00:00.000000000",
          "2024-06-26T00:00:00.000000000",
          "2024-06-25T00:00:00.000000000",
          "2024-06-24T00:00:00.000000000",
          "2024-06-21T00:00:00.000000000",
          "2024-06-20T00:00:00.000000000",
          "2024-06-18T00:00:00.000000000",
          "2024-06-17T00:00:00.000000000",
          "2024-06-14T00:00:00.000000000",
          "2024-06-13T00:00:00.000000000",
          "2024-06-12T00:00:00.000000000",
          "2024-06-11T00:00:00.000000000",
          "2024-06-10T00:00:00.000000000",
          "2024-06-07T00:00:00.000000000",
          "2024-06-06T00:00:00.000000000",
          "2024-06-05T00:00:00.000000000",
          "2024-06-04T00:00:00.000000000",
          "2024-06-03T00:00:00.000000000",
          "2024-05-31T00:00:00.000000000",
          "2024-05-30T00:00:00.000000000",
          "2024-05-29T00:00:00.000000000",
          "2024-05-28T00:00:00.000000000",
          "2024-05-24T00:00:00.000000000",
          "2024-05-23T00:00:00.000000000",
          "2024-05-22T00:00:00.000000000",
          "2024-05-21T00:00:00.000000000",
          "2024-05-20T00:00:00.000000000",
          "2024-05-17T00:00:00.000000000",
          "2024-05-16T00:00:00.000000000",
          "2024-05-15T00:00:00.000000000",
          "2024-05-14T00:00:00.000000000",
          "2024-05-13T00:00:00.000000000",
          "2024-05-10T00:00:00.000000000",
          "2024-05-09T00:00:00.000000000",
          "2024-05-08T00:00:00.000000000",
          "2024-05-07T00:00:00.000000000",
          "2024-05-06T00:00:00.000000000",
          "2024-05-03T00:00:00.000000000",
          "2024-05-02T00:00:00.000000000",
          "2024-05-01T00:00:00.000000000",
          "2024-04-30T00:00:00.000000000",
          "2024-04-29T00:00:00.000000000",
          "2024-04-26T00:00:00.000000000",
          "2024-04-25T00:00:00.000000000",
          "2024-04-24T00:00:00.000000000",
          "2024-04-23T00:00:00.000000000",
          "2024-04-22T00:00:00.000000000",
          "2024-04-19T00:00:00.000000000",
          "2024-04-18T00:00:00.000000000",
          "2024-04-17T00:00:00.000000000",
          "2024-04-16T00:00:00.000000000",
          "2024-04-15T00:00:00.000000000",
          "2024-04-12T00:00:00.000000000",
          "2024-04-11T00:00:00.000000000",
          "2024-04-10T00:00:00.000000000",
          "2024-04-09T00:00:00.000000000",
          "2024-04-08T00:00:00.000000000",
          "2024-04-05T00:00:00.000000000",
          "2024-04-04T00:00:00.000000000",
          "2024-04-03T00:00:00.000000000",
          "2024-04-02T00:00:00.000000000",
          "2024-04-01T00:00:00.000000000",
          "2024-03-28T00:00:00.000000000",
          "2024-03-27T00:00:00.000000000",
          "2024-03-26T00:00:00.000000000",
          "2024-03-25T00:00:00.000000000",
          "2024-03-22T00:00:00.000000000",
          "2024-03-21T00:00:00.000000000",
          "2024-03-20T00:00:00.000000000",
          "2024-03-19T00:00:00.000000000",
          "2024-03-18T00:00:00.000000000",
          "2024-03-15T00:00:00.000000000",
          "2024-03-14T00:00:00.000000000",
          "2024-03-13T00:00:00.000000000",
          "2024-03-12T00:00:00.000000000",
          "2024-03-11T00:00:00.000000000",
          "2024-03-08T00:00:00.000000000",
          "2024-03-07T00:00:00.000000000",
          "2024-03-06T00:00:00.000000000",
          "2024-03-05T00:00:00.000000000",
          "2024-03-04T00:00:00.000000000",
          "2024-03-01T00:00:00.000000000",
          "2024-02-29T00:00:00.000000000",
          "2024-02-28T00:00:00.000000000",
          "2024-02-27T00:00:00.000000000",
          "2024-02-26T00:00:00.000000000",
          "2024-02-23T00:00:00.000000000",
          "2024-02-22T00:00:00.000000000",
          "2024-02-21T00:00:00.000000000",
          "2024-02-20T00:00:00.000000000",
          "2024-02-16T00:00:00.000000000",
          "2024-02-15T00:00:00.000000000",
          "2024-02-14T00:00:00.000000000",
          "2024-02-13T00:00:00.000000000",
          "2024-02-12T00:00:00.000000000",
          "2024-02-09T00:00:00.000000000",
          "2024-02-08T00:00:00.000000000",
          "2024-02-07T00:00:00.000000000",
          "2024-02-06T00:00:00.000000000",
          "2024-02-05T00:00:00.000000000",
          "2024-02-02T00:00:00.000000000",
          "2024-02-01T00:00:00.000000000",
          "2024-01-31T00:00:00.000000000",
          "2024-01-30T00:00:00.000000000",
          "2024-01-29T00:00:00.000000000",
          "2024-01-26T00:00:00.000000000",
          "2024-01-25T00:00:00.000000000",
          "2024-01-24T00:00:00.000000000",
          "2024-01-23T00:00:00.000000000",
          "2024-01-22T00:00:00.000000000",
          "2024-01-19T00:00:00.000000000",
          "2024-01-18T00:00:00.000000000",
          "2024-01-17T00:00:00.000000000",
          "2024-01-16T00:00:00.000000000",
          "2024-01-12T00:00:00.000000000",
          "2024-01-11T00:00:00.000000000",
          "2024-01-10T00:00:00.000000000",
          "2024-01-09T00:00:00.000000000",
          "2024-01-08T00:00:00.000000000",
          "2024-01-05T00:00:00.000000000",
          "2024-01-04T00:00:00.000000000",
          "2024-01-03T00:00:00.000000000"
         ],
         "xaxis": "x",
         "y": {
          "bdata": "AAAAAAAA+H9AE1RcBUKRPxB3Y29FuL8/oD2h2u5tuz8IWYgbTmHHPzAljho6n8o/cPgpIIxnyD/gjaaCV+nLPzikIsleIMU/mHdvIe7cyj/gh8h0R1vJPxBk0SO2q8w/+N2abIcjxj/IfH9s3xDEPyBlOm9JnLw/QLmQcznvtz+AYV/4ihebP8A1Re8KJ4y/AOqtEwvph78gQYvVZpixv8BmUtOa5ZK/cBnjvFLEq7+AL/BugHCEP0DHHiaA7Jw/IAjXLDgOuj+g6a0TC+mXv0CzI49d76k/kKJSHLyCsD8ATNvT4kKtP+BhmhUEYbM/mF3sH5K9wz+4UUHCquLEP+C9pcq6P7w/IHGKHcruwT/g3asqwGS8PxhPuRyySMg/aGdscWvKyj/4B3fBPMHLP0DbEseOick/ZEU0Z0ZL0T9QMC3GeFXOP1jQ2nxfgMo/kM1BGS6lxz+4ArYjDpnKP/iPx8ZA1sM/GFneviTNxT+4UUHCquLEP+Cg3R6AbcU/UOgmcAlVyD8YMCbQZPXHPxB1PR/Mrrw/uLIGH3yJyD844gN9W5zNP1wnXxShstE/oDTlgw/azT/gKaNxu+/OP9gkOHdjM8w/gPcWeM/ixj8YQYENQrfBP5BoJGrBxsI/CKRtNniwwT9gXko1aNLBP5C15GdLj8M/MECC53umuD9wTvwXzC+1P2AO6s9FgKA/IIdhEziupD8Q/Y0k0MO0P9CQfkOribI/AB5UQhj6Yz8AyyI5vT6Xv5D9lBrkI7u/oBWdpNsWur9gklR4yYy7v5iTtP5MjMC/eJvFYY+QvL+AOekcWOm7v8De/4XE5sG/dAAluQUOw7+k2ZBLw67Dvzi7DO6yC8W/NLdf7QIKw78Q+kW2M97CvwhrVmzj9MC/UKdjur3+xL/8cmFHqpPIv7zh9I0e7Mu/TJR7RC7fx78QnYxJIj3GvyA6oCDsQ8a/XNoFp01qzL9IZ8en+/nPvwAseFPJqsy/TAewAoUV0L9gRYkVWxXSvwjEIDA79cm/+F6713K5yr8IWMohpqbGv/ChntzlWsi/jC3m08e4xb9EbwcmE8vCv3yQgBKnGse/1LYFCoMiyb+AV8Kvpv3Gv+DiswOy78W/oFWYH4R4yL8AKu9awMjEv/QQ3vAwMsS/HKQbTCEZw7+s0evcSRvDv5SWURv+O8O/dOaddwBzwL9As2q8zQO7v5jdo7jAu7y/KBWFaWXOwb9MUM1AWhbDv7ywLgDaQsS/zMtwd8llxb8UFvQ8dCTGv9CTcA5xA8a/cNU4+Sd3wr9EDeD66zrBvzBEKGvuoMi/fGWUUsmDxr/QpvxYrlHAv2AtjWwzGsW/9AKzX1BmyL/EnrKZm0bJv9BjzWo218y/iOcLJyZU0L/qKcEIrDPRv/B20/CMk9C/9KJW1TtX0L/oi+rTp4HQv5rvubKxrNC/4r1Hhr1X179ShqbdTSbWv4jeewmwPtS/hrh6B7831L8iNp5xJ3jTv0Z5NgmBidS/hBMSDP521L8eyspju4jUv2DE+k8mCda/lFEUlH/C1b8QZKAN5OPWvxLsytrQONa/Hnu6JCEi2L/+cSOKbQXavzxoVIvR7Nq/Sje+w3Qs2r/+Xo5OH1zavz7q0wBVOdu/WnHBYO/e2r8E9HmKRQbbv/4C5hX369u/rN6znL8N3L82AiuF5Cbcv6ZcCmKmlt2/MPuXbj053r8wbewOfQbev9ywO35pCN+/TpavjiL33r9qjIco8j/fv7A3JNWZ+t+/+Jt/DLdB4L8mw29KIzXhv9t6/2TnieG/lsH5KP6q4b8=",
          "dtype": "f8"
         },
         "yaxis": "y"
        }
       ],
       "layout": {
        "legend": {
         "tracegroupgap": 0
        },
        "template": {
         "data": {
          "bar": [
           {
            "error_x": {
             "color": "rgb(51,51,51)"
            },
            "error_y": {
             "color": "rgb(51,51,51)"
            },
            "marker": {
             "line": {
              "color": "rgb(237,237,237)",
              "width": 0.5
             },
             "pattern": {
              "fillmode": "overlay",
              "size": 10,
              "solidity": 0.2
             }
            },
            "type": "bar"
           }
          ],
          "barpolar": [
           {
            "marker": {
             "line": {
              "color": "rgb(237,237,237)",
              "width": 0.5
             },
             "pattern": {
              "fillmode": "overlay",
              "size": 10,
              "solidity": 0.2
             }
            },
            "type": "barpolar"
           }
          ],
          "carpet": [
           {
            "aaxis": {
             "endlinecolor": "rgb(51,51,51)",
             "gridcolor": "white",
             "linecolor": "white",
             "minorgridcolor": "white",
             "startlinecolor": "rgb(51,51,51)"
            },
            "baxis": {
             "endlinecolor": "rgb(51,51,51)",
             "gridcolor": "white",
             "linecolor": "white",
             "minorgridcolor": "white",
             "startlinecolor": "rgb(51,51,51)"
            },
            "type": "carpet"
           }
          ],
          "choropleth": [
           {
            "colorbar": {
             "outlinewidth": 0,
             "tickcolor": "rgb(237,237,237)",
             "ticklen": 6,
             "ticks": "inside"
            },
            "type": "choropleth"
           }
          ],
          "contour": [
           {
            "colorbar": {
             "outlinewidth": 0,
             "tickcolor": "rgb(237,237,237)",
             "ticklen": 6,
             "ticks": "inside"
            },
            "colorscale": [
             [
              0,
              "rgb(20,44,66)"
             ],
             [
              1,
              "rgb(90,179,244)"
             ]
            ],
            "type": "contour"
           }
          ],
          "contourcarpet": [
           {
            "colorbar": {
             "outlinewidth": 0,
             "tickcolor": "rgb(237,237,237)",
             "ticklen": 6,
             "ticks": "inside"
            },
            "type": "contourcarpet"
           }
          ],
          "heatmap": [
           {
            "colorbar": {
             "outlinewidth": 0,
             "tickcolor": "rgb(237,237,237)",
             "ticklen": 6,
             "ticks": "inside"
            },
            "colorscale": [
             [
              0,
              "rgb(20,44,66)"
             ],
             [
              1,
              "rgb(90,179,244)"
             ]
            ],
            "type": "heatmap"
           }
          ],
          "histogram": [
           {
            "marker": {
             "pattern": {
              "fillmode": "overlay",
              "size": 10,
              "solidity": 0.2
             }
            },
            "type": "histogram"
           }
          ],
          "histogram2d": [
           {
            "colorbar": {
             "outlinewidth": 0,
             "tickcolor": "rgb(237,237,237)",
             "ticklen": 6,
             "ticks": "inside"
            },
            "colorscale": [
             [
              0,
              "rgb(20,44,66)"
             ],
             [
              1,
              "rgb(90,179,244)"
             ]
            ],
            "type": "histogram2d"
           }
          ],
          "histogram2dcontour": [
           {
            "colorbar": {
             "outlinewidth": 0,
             "tickcolor": "rgb(237,237,237)",
             "ticklen": 6,
             "ticks": "inside"
            },
            "colorscale": [
             [
              0,
              "rgb(20,44,66)"
             ],
             [
              1,
              "rgb(90,179,244)"
             ]
            ],
            "type": "histogram2dcontour"
           }
          ],
          "mesh3d": [
           {
            "colorbar": {
             "outlinewidth": 0,
             "tickcolor": "rgb(237,237,237)",
             "ticklen": 6,
             "ticks": "inside"
            },
            "type": "mesh3d"
           }
          ],
          "parcoords": [
           {
            "line": {
             "colorbar": {
              "outlinewidth": 0,
              "tickcolor": "rgb(237,237,237)",
              "ticklen": 6,
              "ticks": "inside"
             }
            },
            "type": "parcoords"
           }
          ],
          "pie": [
           {
            "automargin": true,
            "type": "pie"
           }
          ],
          "scatter": [
           {
            "fillpattern": {
             "fillmode": "overlay",
             "size": 10,
             "solidity": 0.2
            },
            "type": "scatter"
           }
          ],
          "scatter3d": [
           {
            "line": {
             "colorbar": {
              "outlinewidth": 0,
              "tickcolor": "rgb(237,237,237)",
              "ticklen": 6,
              "ticks": "inside"
             }
            },
            "marker": {
             "colorbar": {
              "outlinewidth": 0,
              "tickcolor": "rgb(237,237,237)",
              "ticklen": 6,
              "ticks": "inside"
             }
            },
            "type": "scatter3d"
           }
          ],
          "scattercarpet": [
           {
            "marker": {
             "colorbar": {
              "outlinewidth": 0,
              "tickcolor": "rgb(237,237,237)",
              "ticklen": 6,
              "ticks": "inside"
             }
            },
            "type": "scattercarpet"
           }
          ],
          "scattergeo": [
           {
            "marker": {
             "colorbar": {
              "outlinewidth": 0,
              "tickcolor": "rgb(237,237,237)",
              "ticklen": 6,
              "ticks": "inside"
             }
            },
            "type": "scattergeo"
           }
          ],
          "scattergl": [
           {
            "marker": {
             "colorbar": {
              "outlinewidth": 0,
              "tickcolor": "rgb(237,237,237)",
              "ticklen": 6,
              "ticks": "inside"
             }
            },
            "type": "scattergl"
           }
          ],
          "scattermap": [
           {
            "marker": {
             "colorbar": {
              "outlinewidth": 0,
              "tickcolor": "rgb(237,237,237)",
              "ticklen": 6,
              "ticks": "inside"
             }
            },
            "type": "scattermap"
           }
          ],
          "scattermapbox": [
           {
            "marker": {
             "colorbar": {
              "outlinewidth": 0,
              "tickcolor": "rgb(237,237,237)",
              "ticklen": 6,
              "ticks": "inside"
             }
            },
            "type": "scattermapbox"
           }
          ],
          "scatterpolar": [
           {
            "marker": {
             "colorbar": {
              "outlinewidth": 0,
              "tickcolor": "rgb(237,237,237)",
              "ticklen": 6,
              "ticks": "inside"
             }
            },
            "type": "scatterpolar"
           }
          ],
          "scatterpolargl": [
           {
            "marker": {
             "colorbar": {
              "outlinewidth": 0,
              "tickcolor": "rgb(237,237,237)",
              "ticklen": 6,
              "ticks": "inside"
             }
            },
            "type": "scatterpolargl"
           }
          ],
          "scatterternary": [
           {
            "marker": {
             "colorbar": {
              "outlinewidth": 0,
              "tickcolor": "rgb(237,237,237)",
              "ticklen": 6,
              "ticks": "inside"
             }
            },
            "type": "scatterternary"
           }
          ],
          "surface": [
           {
            "colorbar": {
             "outlinewidth": 0,
             "tickcolor": "rgb(237,237,237)",
             "ticklen": 6,
             "ticks": "inside"
            },
            "colorscale": [
             [
              0,
              "rgb(20,44,66)"
             ],
             [
              1,
              "rgb(90,179,244)"
             ]
            ],
            "type": "surface"
           }
          ],
          "table": [
           {
            "cells": {
             "fill": {
              "color": "rgb(237,237,237)"
             },
             "line": {
              "color": "white"
             }
            },
            "header": {
             "fill": {
              "color": "rgb(217,217,217)"
             },
             "line": {
              "color": "white"
             }
            },
            "type": "table"
           }
          ]
         },
         "layout": {
          "annotationdefaults": {
           "arrowhead": 0,
           "arrowwidth": 1
          },
          "autotypenumbers": "strict",
          "coloraxis": {
           "colorbar": {
            "outlinewidth": 0,
            "tickcolor": "rgb(237,237,237)",
            "ticklen": 6,
            "ticks": "inside"
           }
          },
          "colorscale": {
           "sequential": [
            [
             0,
             "rgb(20,44,66)"
            ],
            [
             1,
             "rgb(90,179,244)"
            ]
           ],
           "sequentialminus": [
            [
             0,
             "rgb(20,44,66)"
            ],
            [
             1,
             "rgb(90,179,244)"
            ]
           ]
          },
          "colorway": [
           "#F8766D",
           "#A3A500",
           "#00BF7D",
           "#00B0F6",
           "#E76BF3"
          ],
          "font": {
           "color": "rgb(51,51,51)"
          },
          "geo": {
           "bgcolor": "white",
           "lakecolor": "white",
           "landcolor": "rgb(237,237,237)",
           "showlakes": true,
           "showland": true,
           "subunitcolor": "white"
          },
          "hoverlabel": {
           "align": "left"
          },
          "hovermode": "closest",
          "paper_bgcolor": "white",
          "plot_bgcolor": "rgb(237,237,237)",
          "polar": {
           "angularaxis": {
            "gridcolor": "white",
            "linecolor": "white",
            "showgrid": true,
            "tickcolor": "rgb(51,51,51)",
            "ticks": "outside"
           },
           "bgcolor": "rgb(237,237,237)",
           "radialaxis": {
            "gridcolor": "white",
            "linecolor": "white",
            "showgrid": true,
            "tickcolor": "rgb(51,51,51)",
            "ticks": "outside"
           }
          },
          "scene": {
           "xaxis": {
            "backgroundcolor": "rgb(237,237,237)",
            "gridcolor": "white",
            "gridwidth": 2,
            "linecolor": "white",
            "showbackground": true,
            "showgrid": true,
            "tickcolor": "rgb(51,51,51)",
            "ticks": "outside",
            "zerolinecolor": "white"
           },
           "yaxis": {
            "backgroundcolor": "rgb(237,237,237)",
            "gridcolor": "white",
            "gridwidth": 2,
            "linecolor": "white",
            "showbackground": true,
            "showgrid": true,
            "tickcolor": "rgb(51,51,51)",
            "ticks": "outside",
            "zerolinecolor": "white"
           },
           "zaxis": {
            "backgroundcolor": "rgb(237,237,237)",
            "gridcolor": "white",
            "gridwidth": 2,
            "linecolor": "white",
            "showbackground": true,
            "showgrid": true,
            "tickcolor": "rgb(51,51,51)",
            "ticks": "outside",
            "zerolinecolor": "white"
           }
          },
          "shapedefaults": {
           "fillcolor": "black",
           "line": {
            "width": 0
           },
           "opacity": 0.3
          },
          "ternary": {
           "aaxis": {
            "gridcolor": "white",
            "linecolor": "white",
            "showgrid": true,
            "tickcolor": "rgb(51,51,51)",
            "ticks": "outside"
           },
           "baxis": {
            "gridcolor": "white",
            "linecolor": "white",
            "showgrid": true,
            "tickcolor": "rgb(51,51,51)",
            "ticks": "outside"
           },
           "bgcolor": "rgb(237,237,237)",
           "caxis": {
            "gridcolor": "white",
            "linecolor": "white",
            "showgrid": true,
            "tickcolor": "rgb(51,51,51)",
            "ticks": "outside"
           }
          },
          "xaxis": {
           "automargin": true,
           "gridcolor": "white",
           "linecolor": "white",
           "showgrid": true,
           "tickcolor": "rgb(51,51,51)",
           "ticks": "outside",
           "title": {
            "standoff": 15
           },
           "zerolinecolor": "white"
          },
          "yaxis": {
           "automargin": true,
           "gridcolor": "white",
           "linecolor": "white",
           "showgrid": true,
           "tickcolor": "rgb(51,51,51)",
           "ticks": "outside",
           "title": {
            "standoff": 15
           },
           "zerolinecolor": "white"
          }
         }
        },
        "title": {
         "text": "Daily Comulative Return Nvidia"
        },
        "xaxis": {
         "anchor": "y",
         "domain": [
          0,
          1
         ],
         "title": {
          "text": "Date"
         }
        },
        "yaxis": {
         "anchor": "x",
         "domain": [
          0,
          1
         ],
         "title": {
          "text": "Comulative Return"
         }
        }
       }
      }
     },
     "metadata": {},
     "output_type": "display_data"
    }
   ],
   "source": [
    "fig = px.line(\n",
    "    nvidia, x = \"Date\", y =\"Comulative Return\", title= \"Daily Comulative Return Nvidia\", template=\"ggplot2\"\n",
    ")\n",
    "\n",
    "fig.show()"
   ]
  },
  {
   "cell_type": "markdown",
   "id": "9e19e21e",
   "metadata": {},
   "source": [
    "Порівнюємо ризикованість інвестицій у ці цінні папери на основі стандартного відхилення дохідностей і коефіцієнту бета (для цього потрібно ще обчислити дохідності та інші необхідні показники для відповідного ринкового індексу), робимо висновки."
   ]
  },
  {
   "cell_type": "markdown",
   "id": "416f451f",
   "metadata": {},
   "source": [
    "### Стандартне відхилення дохідностей"
   ]
  },
  {
   "cell_type": "markdown",
   "id": "8e7927d7",
   "metadata": {},
   "source": [
    "Стандартне відхилення показує, наскільки сильно значення (наприклад, дохідність) коливаються навколо середнього. У контексті дохідностей акцій воно говорить про волатильність:\n",
    "\n",
    "1. Мале стандартне відхилення → ціна змінюється повільно й стабільно. Акція менш ризикована.\n",
    "2. Велике стандартне відхилення → ціна сильно коливається. Акція більш ризикована (але може мати і більший потенційний прибуток).\n",
    "\n",
    "Волатильність — це міра коливань ціни активу або ринку протягом певного часу. Висока волатильність означає, що ціна активу сильно коливається, тобто можуть бути великі зміни як у позитивному, так і в негативному напрямку. Низька волатильність означає, що ціни більш стабільні і змінюються поступово."
   ]
  },
  {
   "cell_type": "code",
   "execution_count": 99,
   "id": "9052de09",
   "metadata": {},
   "outputs": [
    {
     "data": {
      "text/plain": [
       "np.float64(0.036071939905547384)"
      ]
     },
     "execution_count": 99,
     "metadata": {},
     "output_type": "execute_result"
    }
   ],
   "source": [
    "nvidia_return_std = nvidia[\"Return\"].std()\n",
    "nvidia_return_std"
   ]
  },
  {
   "cell_type": "code",
   "execution_count": 100,
   "id": "10f16b93",
   "metadata": {},
   "outputs": [
    {
     "data": {
      "text/plain": [
       "np.float64(0.024611802997498124)"
      ]
     },
     "execution_count": 100,
     "metadata": {},
     "output_type": "execute_result"
    }
   ],
   "source": [
    "meta_return_std = meta[\"Return\"].std()\n",
    "meta_return_std"
   ]
  },
  {
   "cell_type": "markdown",
   "id": "7c4da858",
   "metadata": {},
   "source": [
    "### Коефіцієнт бета"
   ]
  },
  {
   "cell_type": "markdown",
   "id": "f353b43f",
   "metadata": {},
   "source": [
    "Коефіцієнт бета (β) — це показник, який вимірює рівень ризику акції або портфеля у порівнянні з ринком в цілому. Він допомагає зрозуміти, як сильно акція або портфель реагує на зміни на ринку.\n",
    "\n",
    "1. β = 1 — акція рухається в тому ж напрямку і з тією ж амплітудою, що і ринок. Наприклад, якщо ринок виріс на 1%, акція ймовірно виросте на 1%.\n",
    "\n",
    "2. β > 1 — акція є більш волатильною, ніж ринок. Наприклад, якщо β = 1.5, і ринок підвищився на 1%, акція може піднятися на 1.5%.\n",
    "\n",
    "3. β < 1 — акція менш волатильна, ніж ринок. Наприклад, якщо β = 0.5, і ринок виріс на 1%, акція виросте тільки на 0.5%.\n",
    "\n",
    "4. β < 0 — акція рухається протилежно до ринку. Це рідше, але можливе для певних активів, наприклад, під час економічних криз.\n",
    "\n",
    "$$ \\beta = \\frac{\\text{Cov}(r_{\\text{asset}}, r_{\\text{market}})}{\\text{Var}(r_{\\text{market}})}$$\n",
    "\n",
    "Коваріація — це статистичний показник, який вимірює, як дві змінні змінюються разом. Якщо дві змінні мають позитивну коваріацію, це означає, що коли одна змінна зростає, інша також має тенденцію до зростання (і навпаки). Якщо коваріація від'ємна, то одна змінна зростає, коли інша зменшується.\n",
    "\n",
    "Коваріація дозволяє зрозуміти, чи є зв'язок між двома змінними, але її значення не дає повної інформації про силу зв'язку — для цього часто використовують кореляцію.\n",
    "\n",
    "$$ \\text{Cov}(X, Y) = \\frac{1}{n-1} \\sum_{i=1}^{n} (x_i - \\overline{x})(y_i - \\overline{y}) $$\n",
    "\n",
    "У фінансовому аналізі коваріація важлива для вимірювання того, як ціни на акції (або інші активи) змінюються в порівнянні з ринком або іншими активами.\n"
   ]
  },
  {
   "cell_type": "code",
   "execution_count": 101,
   "id": "b3cd5df5",
   "metadata": {},
   "outputs": [],
   "source": [
    "import yfinance as yf"
   ]
  },
  {
   "cell_type": "code",
   "execution_count": 122,
   "id": "3adf7c1b",
   "metadata": {},
   "outputs": [
    {
     "name": "stderr",
     "output_type": "stream",
     "text": [
      "[*********************100%***********************]  1 of 1 completed\n"
     ]
    },
    {
     "data": {
      "text/html": [
       "<div>\n",
       "<style scoped>\n",
       "    .dataframe tbody tr th:only-of-type {\n",
       "        vertical-align: middle;\n",
       "    }\n",
       "\n",
       "    .dataframe tbody tr th {\n",
       "        vertical-align: top;\n",
       "    }\n",
       "\n",
       "    .dataframe thead tr th {\n",
       "        text-align: left;\n",
       "    }\n",
       "\n",
       "    .dataframe thead tr:last-of-type th {\n",
       "        text-align: right;\n",
       "    }\n",
       "</style>\n",
       "<table border=\"1\" class=\"dataframe\">\n",
       "  <thead>\n",
       "    <tr>\n",
       "      <th>Price</th>\n",
       "      <th>Close</th>\n",
       "      <th>High</th>\n",
       "      <th>Low</th>\n",
       "      <th>Open</th>\n",
       "      <th>Volume</th>\n",
       "    </tr>\n",
       "    <tr>\n",
       "      <th>Ticker</th>\n",
       "      <th>^GSPC</th>\n",
       "      <th>^GSPC</th>\n",
       "      <th>^GSPC</th>\n",
       "      <th>^GSPC</th>\n",
       "      <th>^GSPC</th>\n",
       "    </tr>\n",
       "    <tr>\n",
       "      <th>Date</th>\n",
       "      <th></th>\n",
       "      <th></th>\n",
       "      <th></th>\n",
       "      <th></th>\n",
       "      <th></th>\n",
       "    </tr>\n",
       "  </thead>\n",
       "  <tbody>\n",
       "    <tr>\n",
       "      <th>2024-09-04</th>\n",
       "      <td>5520.069824</td>\n",
       "      <td>5552.990234</td>\n",
       "      <td>5503.660156</td>\n",
       "      <td>5506.680176</td>\n",
       "      <td>3478140000</td>\n",
       "    </tr>\n",
       "    <tr>\n",
       "      <th>2024-09-03</th>\n",
       "      <td>5528.930176</td>\n",
       "      <td>5623.890137</td>\n",
       "      <td>5504.330078</td>\n",
       "      <td>5623.890137</td>\n",
       "      <td>3866350000</td>\n",
       "    </tr>\n",
       "    <tr>\n",
       "      <th>2024-08-30</th>\n",
       "      <td>5648.399902</td>\n",
       "      <td>5651.370117</td>\n",
       "      <td>5581.790039</td>\n",
       "      <td>5612.740234</td>\n",
       "      <td>4185850000</td>\n",
       "    </tr>\n",
       "    <tr>\n",
       "      <th>2024-08-29</th>\n",
       "      <td>5591.959961</td>\n",
       "      <td>5646.950195</td>\n",
       "      <td>5583.709961</td>\n",
       "      <td>5607.299805</td>\n",
       "      <td>3065640000</td>\n",
       "    </tr>\n",
       "    <tr>\n",
       "      <th>2024-08-28</th>\n",
       "      <td>5592.180176</td>\n",
       "      <td>5627.029785</td>\n",
       "      <td>5560.950195</td>\n",
       "      <td>5624.509766</td>\n",
       "      <td>3053450000</td>\n",
       "    </tr>\n",
       "    <tr>\n",
       "      <th>2024-08-27</th>\n",
       "      <td>5625.799805</td>\n",
       "      <td>5631.180176</td>\n",
       "      <td>5593.479980</td>\n",
       "      <td>5602.890137</td>\n",
       "      <td>2798990000</td>\n",
       "    </tr>\n",
       "    <tr>\n",
       "      <th>2024-08-26</th>\n",
       "      <td>5616.839844</td>\n",
       "      <td>5651.620117</td>\n",
       "      <td>5602.339844</td>\n",
       "      <td>5639.660156</td>\n",
       "      <td>2938570000</td>\n",
       "    </tr>\n",
       "    <tr>\n",
       "      <th>2024-08-23</th>\n",
       "      <td>5634.609863</td>\n",
       "      <td>5641.819824</td>\n",
       "      <td>5585.160156</td>\n",
       "      <td>5602.490234</td>\n",
       "      <td>3291940000</td>\n",
       "    </tr>\n",
       "    <tr>\n",
       "      <th>2024-08-22</th>\n",
       "      <td>5570.640137</td>\n",
       "      <td>5643.220215</td>\n",
       "      <td>5560.950195</td>\n",
       "      <td>5637.770020</td>\n",
       "      <td>2981530000</td>\n",
       "    </tr>\n",
       "    <tr>\n",
       "      <th>2024-08-21</th>\n",
       "      <td>5620.850098</td>\n",
       "      <td>5632.680176</td>\n",
       "      <td>5591.569824</td>\n",
       "      <td>5603.089844</td>\n",
       "      <td>3119670000</td>\n",
       "    </tr>\n",
       "  </tbody>\n",
       "</table>\n",
       "</div>"
      ],
      "text/plain": [
       "Price             Close         High          Low         Open      Volume\n",
       "Ticker            ^GSPC        ^GSPC        ^GSPC        ^GSPC       ^GSPC\n",
       "Date                                                                      \n",
       "2024-09-04  5520.069824  5552.990234  5503.660156  5506.680176  3478140000\n",
       "2024-09-03  5528.930176  5623.890137  5504.330078  5623.890137  3866350000\n",
       "2024-08-30  5648.399902  5651.370117  5581.790039  5612.740234  4185850000\n",
       "2024-08-29  5591.959961  5646.950195  5583.709961  5607.299805  3065640000\n",
       "2024-08-28  5592.180176  5627.029785  5560.950195  5624.509766  3053450000\n",
       "2024-08-27  5625.799805  5631.180176  5593.479980  5602.890137  2798990000\n",
       "2024-08-26  5616.839844  5651.620117  5602.339844  5639.660156  2938570000\n",
       "2024-08-23  5634.609863  5641.819824  5585.160156  5602.490234  3291940000\n",
       "2024-08-22  5570.640137  5643.220215  5560.950195  5637.770020  2981530000\n",
       "2024-08-21  5620.850098  5632.680176  5591.569824  5603.089844  3119670000"
      ]
     },
     "execution_count": 122,
     "metadata": {},
     "output_type": "execute_result"
    }
   ],
   "source": [
    "sp500 = yf.download('^GSPC', start='2024-01-03', end='2024-09-05').sort_index(ascending=False)\n",
    "sp500.head(10)"
   ]
  },
  {
   "cell_type": "code",
   "execution_count": 123,
   "id": "b0e925f0",
   "metadata": {},
   "outputs": [
    {
     "data": {
      "text/html": [
       "<div>\n",
       "<style scoped>\n",
       "    .dataframe tbody tr th:only-of-type {\n",
       "        vertical-align: middle;\n",
       "    }\n",
       "\n",
       "    .dataframe tbody tr th {\n",
       "        vertical-align: top;\n",
       "    }\n",
       "\n",
       "    .dataframe thead tr th {\n",
       "        text-align: left;\n",
       "    }\n",
       "\n",
       "    .dataframe thead tr:last-of-type th {\n",
       "        text-align: right;\n",
       "    }\n",
       "</style>\n",
       "<table border=\"1\" class=\"dataframe\">\n",
       "  <thead>\n",
       "    <tr>\n",
       "      <th>Price</th>\n",
       "      <th>Close</th>\n",
       "      <th>High</th>\n",
       "      <th>Low</th>\n",
       "      <th>Open</th>\n",
       "      <th>Volume</th>\n",
       "      <th>Return</th>\n",
       "    </tr>\n",
       "    <tr>\n",
       "      <th>Ticker</th>\n",
       "      <th>^GSPC</th>\n",
       "      <th>^GSPC</th>\n",
       "      <th>^GSPC</th>\n",
       "      <th>^GSPC</th>\n",
       "      <th>^GSPC</th>\n",
       "      <th></th>\n",
       "    </tr>\n",
       "    <tr>\n",
       "      <th>Date</th>\n",
       "      <th></th>\n",
       "      <th></th>\n",
       "      <th></th>\n",
       "      <th></th>\n",
       "      <th></th>\n",
       "      <th></th>\n",
       "    </tr>\n",
       "  </thead>\n",
       "  <tbody>\n",
       "    <tr>\n",
       "      <th>2024-09-04</th>\n",
       "      <td>5520.069824</td>\n",
       "      <td>5552.990234</td>\n",
       "      <td>5503.660156</td>\n",
       "      <td>5506.680176</td>\n",
       "      <td>3478140000</td>\n",
       "      <td>NaN</td>\n",
       "    </tr>\n",
       "    <tr>\n",
       "      <th>2024-09-03</th>\n",
       "      <td>5528.930176</td>\n",
       "      <td>5623.890137</td>\n",
       "      <td>5504.330078</td>\n",
       "      <td>5623.890137</td>\n",
       "      <td>3866350000</td>\n",
       "      <td>0.001605</td>\n",
       "    </tr>\n",
       "    <tr>\n",
       "      <th>2024-08-30</th>\n",
       "      <td>5648.399902</td>\n",
       "      <td>5651.370117</td>\n",
       "      <td>5581.790039</td>\n",
       "      <td>5612.740234</td>\n",
       "      <td>4185850000</td>\n",
       "      <td>0.021608</td>\n",
       "    </tr>\n",
       "    <tr>\n",
       "      <th>2024-08-29</th>\n",
       "      <td>5591.959961</td>\n",
       "      <td>5646.950195</td>\n",
       "      <td>5583.709961</td>\n",
       "      <td>5607.299805</td>\n",
       "      <td>3065640000</td>\n",
       "      <td>-0.009992</td>\n",
       "    </tr>\n",
       "    <tr>\n",
       "      <th>2024-08-28</th>\n",
       "      <td>5592.180176</td>\n",
       "      <td>5627.029785</td>\n",
       "      <td>5560.950195</td>\n",
       "      <td>5624.509766</td>\n",
       "      <td>3053450000</td>\n",
       "      <td>0.000039</td>\n",
       "    </tr>\n",
       "    <tr>\n",
       "      <th>2024-08-27</th>\n",
       "      <td>5625.799805</td>\n",
       "      <td>5631.180176</td>\n",
       "      <td>5593.479980</td>\n",
       "      <td>5602.890137</td>\n",
       "      <td>2798990000</td>\n",
       "      <td>0.006012</td>\n",
       "    </tr>\n",
       "    <tr>\n",
       "      <th>2024-08-26</th>\n",
       "      <td>5616.839844</td>\n",
       "      <td>5651.620117</td>\n",
       "      <td>5602.339844</td>\n",
       "      <td>5639.660156</td>\n",
       "      <td>2938570000</td>\n",
       "      <td>-0.001593</td>\n",
       "    </tr>\n",
       "    <tr>\n",
       "      <th>2024-08-23</th>\n",
       "      <td>5634.609863</td>\n",
       "      <td>5641.819824</td>\n",
       "      <td>5585.160156</td>\n",
       "      <td>5602.490234</td>\n",
       "      <td>3291940000</td>\n",
       "      <td>0.003164</td>\n",
       "    </tr>\n",
       "    <tr>\n",
       "      <th>2024-08-22</th>\n",
       "      <td>5570.640137</td>\n",
       "      <td>5643.220215</td>\n",
       "      <td>5560.950195</td>\n",
       "      <td>5637.770020</td>\n",
       "      <td>2981530000</td>\n",
       "      <td>-0.011353</td>\n",
       "    </tr>\n",
       "    <tr>\n",
       "      <th>2024-08-21</th>\n",
       "      <td>5620.850098</td>\n",
       "      <td>5632.680176</td>\n",
       "      <td>5591.569824</td>\n",
       "      <td>5603.089844</td>\n",
       "      <td>3119670000</td>\n",
       "      <td>0.009013</td>\n",
       "    </tr>\n",
       "  </tbody>\n",
       "</table>\n",
       "</div>"
      ],
      "text/plain": [
       "Price             Close         High          Low         Open      Volume  \\\n",
       "Ticker            ^GSPC        ^GSPC        ^GSPC        ^GSPC       ^GSPC   \n",
       "Date                                                                         \n",
       "2024-09-04  5520.069824  5552.990234  5503.660156  5506.680176  3478140000   \n",
       "2024-09-03  5528.930176  5623.890137  5504.330078  5623.890137  3866350000   \n",
       "2024-08-30  5648.399902  5651.370117  5581.790039  5612.740234  4185850000   \n",
       "2024-08-29  5591.959961  5646.950195  5583.709961  5607.299805  3065640000   \n",
       "2024-08-28  5592.180176  5627.029785  5560.950195  5624.509766  3053450000   \n",
       "2024-08-27  5625.799805  5631.180176  5593.479980  5602.890137  2798990000   \n",
       "2024-08-26  5616.839844  5651.620117  5602.339844  5639.660156  2938570000   \n",
       "2024-08-23  5634.609863  5641.819824  5585.160156  5602.490234  3291940000   \n",
       "2024-08-22  5570.640137  5643.220215  5560.950195  5637.770020  2981530000   \n",
       "2024-08-21  5620.850098  5632.680176  5591.569824  5603.089844  3119670000   \n",
       "\n",
       "Price         Return  \n",
       "Ticker                \n",
       "Date                  \n",
       "2024-09-04       NaN  \n",
       "2024-09-03  0.001605  \n",
       "2024-08-30  0.021608  \n",
       "2024-08-29 -0.009992  \n",
       "2024-08-28  0.000039  \n",
       "2024-08-27  0.006012  \n",
       "2024-08-26 -0.001593  \n",
       "2024-08-23  0.003164  \n",
       "2024-08-22 -0.011353  \n",
       "2024-08-21  0.009013  "
      ]
     },
     "execution_count": 123,
     "metadata": {},
     "output_type": "execute_result"
    }
   ],
   "source": [
    "sp500[\"Return\"] = sp500[\"Close\"].pct_change()\n",
    "sp500.head(10)"
   ]
  },
  {
   "cell_type": "markdown",
   "id": "fc283bdd",
   "metadata": {},
   "source": [
    "S&P 500 (скорочено від Standard & Poor's 500) — це фондовий індекс, який відстежує акції 500 найбільших публічних компаній США. Це один із найвідоміших індексів у світі й часто використовується як індикатор стану американської економіки або широкого ринку акцій."
   ]
  },
  {
   "cell_type": "code",
   "execution_count": 110,
   "id": "9b83812f",
   "metadata": {},
   "outputs": [
    {
     "data": {
      "text/html": [
       "<div>\n",
       "<style scoped>\n",
       "    .dataframe tbody tr th:only-of-type {\n",
       "        vertical-align: middle;\n",
       "    }\n",
       "\n",
       "    .dataframe tbody tr th {\n",
       "        vertical-align: top;\n",
       "    }\n",
       "\n",
       "    .dataframe thead th {\n",
       "        text-align: right;\n",
       "    }\n",
       "</style>\n",
       "<table border=\"1\" class=\"dataframe\">\n",
       "  <thead>\n",
       "    <tr style=\"text-align: right;\">\n",
       "      <th></th>\n",
       "      <th>Date</th>\n",
       "      <th>Open</th>\n",
       "      <th>High</th>\n",
       "      <th>Low</th>\n",
       "      <th>Close</th>\n",
       "      <th>Volume</th>\n",
       "      <th>Return</th>\n",
       "      <th>Comulative Return</th>\n",
       "    </tr>\n",
       "  </thead>\n",
       "  <tbody>\n",
       "    <tr>\n",
       "      <th>164</th>\n",
       "      <td>2024-01-09</td>\n",
       "      <td>354.73</td>\n",
       "      <td>358.95</td>\n",
       "      <td>353.69</td>\n",
       "      <td>355.75</td>\n",
       "      <td>13519180</td>\n",
       "      <td>-0.035202</td>\n",
       "      <td>-0.304333</td>\n",
       "    </tr>\n",
       "    <tr>\n",
       "      <th>165</th>\n",
       "      <td>2024-01-08</td>\n",
       "      <td>353.04</td>\n",
       "      <td>357.30</td>\n",
       "      <td>350.40</td>\n",
       "      <td>356.98</td>\n",
       "      <td>13939957</td>\n",
       "      <td>0.003457</td>\n",
       "      <td>-0.301928</td>\n",
       "    </tr>\n",
       "    <tr>\n",
       "      <th>166</th>\n",
       "      <td>2024-01-05</td>\n",
       "      <td>345.36</td>\n",
       "      <td>351.84</td>\n",
       "      <td>344.64</td>\n",
       "      <td>350.30</td>\n",
       "      <td>14078175</td>\n",
       "      <td>-0.018713</td>\n",
       "      <td>-0.314991</td>\n",
       "    </tr>\n",
       "    <tr>\n",
       "      <th>167</th>\n",
       "      <td>2024-01-04</td>\n",
       "      <td>342.88</td>\n",
       "      <td>346.52</td>\n",
       "      <td>341.79</td>\n",
       "      <td>345.49</td>\n",
       "      <td>12148768</td>\n",
       "      <td>-0.013731</td>\n",
       "      <td>-0.324397</td>\n",
       "    </tr>\n",
       "    <tr>\n",
       "      <th>168</th>\n",
       "      <td>2024-01-03</td>\n",
       "      <td>343.36</td>\n",
       "      <td>346.32</td>\n",
       "      <td>341.56</td>\n",
       "      <td>342.85</td>\n",
       "      <td>15513107</td>\n",
       "      <td>-0.007641</td>\n",
       "      <td>-0.329559</td>\n",
       "    </tr>\n",
       "  </tbody>\n",
       "</table>\n",
       "</div>"
      ],
      "text/plain": [
       "          Date    Open    High     Low   Close    Volume    Return  \\\n",
       "164 2024-01-09  354.73  358.95  353.69  355.75  13519180 -0.035202   \n",
       "165 2024-01-08  353.04  357.30  350.40  356.98  13939957  0.003457   \n",
       "166 2024-01-05  345.36  351.84  344.64  350.30  14078175 -0.018713   \n",
       "167 2024-01-04  342.88  346.52  341.79  345.49  12148768 -0.013731   \n",
       "168 2024-01-03  343.36  346.32  341.56  342.85  15513107 -0.007641   \n",
       "\n",
       "     Comulative Return  \n",
       "164          -0.304333  \n",
       "165          -0.301928  \n",
       "166          -0.314991  \n",
       "167          -0.324397  \n",
       "168          -0.329559  "
      ]
     },
     "execution_count": 110,
     "metadata": {},
     "output_type": "execute_result"
    }
   ],
   "source": [
    "meta.tail()"
   ]
  },
  {
   "cell_type": "code",
   "execution_count": 112,
   "id": "bbecd9bb",
   "metadata": {},
   "outputs": [
    {
     "data": {
      "text/html": [
       "<div>\n",
       "<style scoped>\n",
       "    .dataframe tbody tr th:only-of-type {\n",
       "        vertical-align: middle;\n",
       "    }\n",
       "\n",
       "    .dataframe tbody tr th {\n",
       "        vertical-align: top;\n",
       "    }\n",
       "\n",
       "    .dataframe thead th {\n",
       "        text-align: right;\n",
       "    }\n",
       "</style>\n",
       "<table border=\"1\" class=\"dataframe\">\n",
       "  <thead>\n",
       "    <tr style=\"text-align: right;\">\n",
       "      <th></th>\n",
       "      <th>Date</th>\n",
       "      <th>Open</th>\n",
       "      <th>High</th>\n",
       "      <th>Low</th>\n",
       "      <th>Close</th>\n",
       "      <th>Volume</th>\n",
       "      <th>Return</th>\n",
       "      <th>Comulative Return</th>\n",
       "    </tr>\n",
       "  </thead>\n",
       "  <tbody>\n",
       "    <tr>\n",
       "      <th>164</th>\n",
       "      <td>2024-01-09</td>\n",
       "      <td>52.401001</td>\n",
       "      <td>54.325001</td>\n",
       "      <td>51.689999</td>\n",
       "      <td>53.139999</td>\n",
       "      <td>773100000</td>\n",
       "      <td>-0.022263</td>\n",
       "      <td>-0.499670</td>\n",
       "    </tr>\n",
       "    <tr>\n",
       "      <th>165</th>\n",
       "      <td>2024-01-08</td>\n",
       "      <td>49.512001</td>\n",
       "      <td>52.275002</td>\n",
       "      <td>49.479000</td>\n",
       "      <td>52.252998</td>\n",
       "      <td>642510000</td>\n",
       "      <td>-0.016692</td>\n",
       "      <td>-0.508022</td>\n",
       "    </tr>\n",
       "    <tr>\n",
       "      <th>166</th>\n",
       "      <td>2024-01-05</td>\n",
       "      <td>48.462002</td>\n",
       "      <td>49.547001</td>\n",
       "      <td>48.306000</td>\n",
       "      <td>49.097000</td>\n",
       "      <td>415039000</td>\n",
       "      <td>-0.060398</td>\n",
       "      <td>-0.537737</td>\n",
       "    </tr>\n",
       "    <tr>\n",
       "      <th>167</th>\n",
       "      <td>2024-01-04</td>\n",
       "      <td>47.766998</td>\n",
       "      <td>48.500000</td>\n",
       "      <td>47.507999</td>\n",
       "      <td>47.998001</td>\n",
       "      <td>306535000</td>\n",
       "      <td>-0.022384</td>\n",
       "      <td>-0.548084</td>\n",
       "    </tr>\n",
       "    <tr>\n",
       "      <th>168</th>\n",
       "      <td>2024-01-03</td>\n",
       "      <td>47.485001</td>\n",
       "      <td>48.183998</td>\n",
       "      <td>47.320000</td>\n",
       "      <td>47.569000</td>\n",
       "      <td>320896000</td>\n",
       "      <td>-0.008938</td>\n",
       "      <td>-0.552123</td>\n",
       "    </tr>\n",
       "  </tbody>\n",
       "</table>\n",
       "</div>"
      ],
      "text/plain": [
       "          Date       Open       High        Low      Close     Volume  \\\n",
       "164 2024-01-09  52.401001  54.325001  51.689999  53.139999  773100000   \n",
       "165 2024-01-08  49.512001  52.275002  49.479000  52.252998  642510000   \n",
       "166 2024-01-05  48.462002  49.547001  48.306000  49.097000  415039000   \n",
       "167 2024-01-04  47.766998  48.500000  47.507999  47.998001  306535000   \n",
       "168 2024-01-03  47.485001  48.183998  47.320000  47.569000  320896000   \n",
       "\n",
       "       Return  Comulative Return  \n",
       "164 -0.022263          -0.499670  \n",
       "165 -0.016692          -0.508022  \n",
       "166 -0.060398          -0.537737  \n",
       "167 -0.022384          -0.548084  \n",
       "168 -0.008938          -0.552123  "
      ]
     },
     "execution_count": 112,
     "metadata": {},
     "output_type": "execute_result"
    }
   ],
   "source": [
    "nvidia.tail()\n"
   ]
  },
  {
   "cell_type": "code",
   "execution_count": 127,
   "id": "7ccd6d91",
   "metadata": {},
   "outputs": [
    {
     "name": "stdout",
     "output_type": "stream",
     "text": [
      "Beta для NVIDIA: 3.003553284642425\n"
     ]
    }
   ],
   "source": [
    "cov_matrix = np.cov(nvidia['Return'].dropna(), sp500['Return'].dropna())\n",
    "market_variance = np.var(sp500['Return'].dropna())\n",
    "\n",
    "beta_nvidia = cov_matrix[0, 1] / market_variance\n",
    "\n",
    "print(f\"Beta для NVIDIA: {beta_nvidia}\")"
   ]
  },
  {
   "cell_type": "code",
   "execution_count": 128,
   "id": "842dd6da",
   "metadata": {},
   "outputs": [
    {
     "name": "stdout",
     "output_type": "stream",
     "text": [
      "Beta для META: 1.6405637158928874\n"
     ]
    }
   ],
   "source": [
    "cov_matrix = np.cov(meta['Return'].dropna(), sp500['Return'].dropna())\n",
    "market_variance = np.var(sp500['Return'].dropna())\n",
    "\n",
    "beta_meta = cov_matrix[0, 1] / market_variance\n",
    "\n",
    "print(f\"Beta для META: {beta_meta}\")"
   ]
  },
  {
   "cell_type": "markdown",
   "id": "16dfed6e",
   "metadata": {},
   "source": [
    "### Висновки"
   ]
  },
  {
   "cell_type": "markdown",
   "id": "d058dc72",
   "metadata": {},
   "source": [
    "Аналіз проводився для акцій компаній META та Nvidia за період з 3 січня по 4 вересня 2024 року.\n",
    "\n",
    "1. Компанія Nvidia продемонструвала вищу кумулятивну дохідність, однак її стандартне відхилення та бета-коефіцієнт також є вищими порівняно з META. Це свідчить про підвищену ризикованість, але й вищий потенціал прибутковості.\n",
    "\n",
    "2. META, навпаки, є менш волатильною та менш чутливою до коливань ринку, що робить її більш стабільною інвестицією, хоч і з нижчим очікуваним прибутком."
   ]
  }
 ],
 "metadata": {
  "kernelspec": {
   "display_name": "Python 3",
   "language": "python",
   "name": "python3"
  },
  "language_info": {
   "codemirror_mode": {
    "name": "ipython",
    "version": 3
   },
   "file_extension": ".py",
   "mimetype": "text/x-python",
   "name": "python",
   "nbconvert_exporter": "python",
   "pygments_lexer": "ipython3",
   "version": "3.12.4"
  }
 },
 "nbformat": 4,
 "nbformat_minor": 5
}
