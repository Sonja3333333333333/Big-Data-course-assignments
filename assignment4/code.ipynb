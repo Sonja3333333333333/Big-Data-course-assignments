{
 "cells": [
  {
   "cell_type": "code",
   "execution_count": 16,
   "id": "c309fcf8",
   "metadata": {},
   "outputs": [],
   "source": [
    "import pandas as pd\n",
    "import numpy as np\n",
    "import plotly.express as px\n",
    "from sklearn.metrics.pairwise import cosine_similarity"
   ]
  },
  {
   "cell_type": "markdown",
   "id": "9f55c914",
   "metadata": {},
   "source": [
    "Використовуємо дані з файлу bda_dataset4_3.xlsx"
   ]
  },
  {
   "cell_type": "code",
   "execution_count": 3,
   "id": "511ee630",
   "metadata": {},
   "outputs": [
    {
     "data": {
      "text/html": [
       "<div>\n",
       "<style scoped>\n",
       "    .dataframe tbody tr th:only-of-type {\n",
       "        vertical-align: middle;\n",
       "    }\n",
       "\n",
       "    .dataframe tbody tr th {\n",
       "        vertical-align: top;\n",
       "    }\n",
       "\n",
       "    .dataframe thead th {\n",
       "        text-align: right;\n",
       "    }\n",
       "</style>\n",
       "<table border=\"1\" class=\"dataframe\">\n",
       "  <thead>\n",
       "    <tr style=\"text-align: right;\">\n",
       "      <th></th>\n",
       "      <th>anime_id</th>\n",
       "      <th>name</th>\n",
       "      <th>genre</th>\n",
       "      <th>type</th>\n",
       "      <th>episodes</th>\n",
       "      <th>rating</th>\n",
       "      <th>members</th>\n",
       "    </tr>\n",
       "  </thead>\n",
       "  <tbody>\n",
       "    <tr>\n",
       "      <th>0</th>\n",
       "      <td>32281</td>\n",
       "      <td>Kimi no Na wa.</td>\n",
       "      <td>Drama, Romance, School, Supernatural</td>\n",
       "      <td>Movie</td>\n",
       "      <td>1</td>\n",
       "      <td>9.37</td>\n",
       "      <td>200630</td>\n",
       "    </tr>\n",
       "    <tr>\n",
       "      <th>1</th>\n",
       "      <td>5114</td>\n",
       "      <td>Fullmetal Alchemist: Brotherhood</td>\n",
       "      <td>Action, Adventure, Drama, Fantasy, Magic, Mili...</td>\n",
       "      <td>TV</td>\n",
       "      <td>64</td>\n",
       "      <td>9.26</td>\n",
       "      <td>793665</td>\n",
       "    </tr>\n",
       "    <tr>\n",
       "      <th>2</th>\n",
       "      <td>28977</td>\n",
       "      <td>GintamaВ°</td>\n",
       "      <td>Action, Comedy, Historical, Parody, Samurai, S...</td>\n",
       "      <td>TV</td>\n",
       "      <td>51</td>\n",
       "      <td>9.25</td>\n",
       "      <td>114262</td>\n",
       "    </tr>\n",
       "    <tr>\n",
       "      <th>3</th>\n",
       "      <td>32935</td>\n",
       "      <td>Haikyuu!!: Karasuno Koukou VS Shiratorizawa Ga...</td>\n",
       "      <td>Comedy, Drama, School, Shounen, Sports</td>\n",
       "      <td>TV</td>\n",
       "      <td>10</td>\n",
       "      <td>9.15</td>\n",
       "      <td>93351</td>\n",
       "    </tr>\n",
       "    <tr>\n",
       "      <th>4</th>\n",
       "      <td>11061</td>\n",
       "      <td>Hunter x Hunter (2011)</td>\n",
       "      <td>Action, Adventure, Shounen, Super Power</td>\n",
       "      <td>TV</td>\n",
       "      <td>148</td>\n",
       "      <td>9.13</td>\n",
       "      <td>425855</td>\n",
       "    </tr>\n",
       "    <tr>\n",
       "      <th>5</th>\n",
       "      <td>820</td>\n",
       "      <td>Ginga Eiyuu Densetsu</td>\n",
       "      <td>Drama, Military, Sci-Fi, Space</td>\n",
       "      <td>OVA</td>\n",
       "      <td>110</td>\n",
       "      <td>9.11</td>\n",
       "      <td>80679</td>\n",
       "    </tr>\n",
       "    <tr>\n",
       "      <th>6</th>\n",
       "      <td>15335</td>\n",
       "      <td>Gintama Movie: Kanketsu-hen - Yorozuya yo Eien...</td>\n",
       "      <td>Action, Comedy, Historical, Parody, Samurai, S...</td>\n",
       "      <td>Movie</td>\n",
       "      <td>1</td>\n",
       "      <td>9.10</td>\n",
       "      <td>72534</td>\n",
       "    </tr>\n",
       "    <tr>\n",
       "      <th>7</th>\n",
       "      <td>4181</td>\n",
       "      <td>Clannad: After Story</td>\n",
       "      <td>Drama, Fantasy, Romance, Slice of Life, Supern...</td>\n",
       "      <td>TV</td>\n",
       "      <td>24</td>\n",
       "      <td>9.06</td>\n",
       "      <td>456749</td>\n",
       "    </tr>\n",
       "    <tr>\n",
       "      <th>8</th>\n",
       "      <td>28851</td>\n",
       "      <td>Koe no Katachi</td>\n",
       "      <td>Drama, School, Shounen</td>\n",
       "      <td>Movie</td>\n",
       "      <td>1</td>\n",
       "      <td>9.05</td>\n",
       "      <td>102733</td>\n",
       "    </tr>\n",
       "    <tr>\n",
       "      <th>9</th>\n",
       "      <td>918</td>\n",
       "      <td>Gintama</td>\n",
       "      <td>Action, Comedy, Historical, Parody, Samurai, S...</td>\n",
       "      <td>TV</td>\n",
       "      <td>201</td>\n",
       "      <td>9.04</td>\n",
       "      <td>336376</td>\n",
       "    </tr>\n",
       "  </tbody>\n",
       "</table>\n",
       "</div>"
      ],
      "text/plain": [
       "   anime_id                                               name  \\\n",
       "0     32281                                     Kimi no Na wa.   \n",
       "1      5114                   Fullmetal Alchemist: Brotherhood   \n",
       "2     28977                                          GintamaВ°   \n",
       "3     32935  Haikyuu!!: Karasuno Koukou VS Shiratorizawa Ga...   \n",
       "4     11061                             Hunter x Hunter (2011)   \n",
       "5       820                               Ginga Eiyuu Densetsu   \n",
       "6     15335  Gintama Movie: Kanketsu-hen - Yorozuya yo Eien...   \n",
       "7      4181                               Clannad: After Story   \n",
       "8     28851                                     Koe no Katachi   \n",
       "9       918                                            Gintama   \n",
       "\n",
       "                                               genre   type episodes  rating  \\\n",
       "0               Drama, Romance, School, Supernatural  Movie        1    9.37   \n",
       "1  Action, Adventure, Drama, Fantasy, Magic, Mili...     TV       64    9.26   \n",
       "2  Action, Comedy, Historical, Parody, Samurai, S...     TV       51    9.25   \n",
       "3             Comedy, Drama, School, Shounen, Sports     TV       10    9.15   \n",
       "4            Action, Adventure, Shounen, Super Power     TV      148    9.13   \n",
       "5                     Drama, Military, Sci-Fi, Space    OVA      110    9.11   \n",
       "6  Action, Comedy, Historical, Parody, Samurai, S...  Movie        1    9.10   \n",
       "7  Drama, Fantasy, Romance, Slice of Life, Supern...     TV       24    9.06   \n",
       "8                             Drama, School, Shounen  Movie        1    9.05   \n",
       "9  Action, Comedy, Historical, Parody, Samurai, S...     TV      201    9.04   \n",
       "\n",
       "   members  \n",
       "0   200630  \n",
       "1   793665  \n",
       "2   114262  \n",
       "3    93351  \n",
       "4   425855  \n",
       "5    80679  \n",
       "6    72534  \n",
       "7   456749  \n",
       "8   102733  \n",
       "9   336376  "
      ]
     },
     "execution_count": 3,
     "metadata": {},
     "output_type": "execute_result"
    }
   ],
   "source": [
    "data = pd.read_excel(\"bda_dataset4_3.xlsx\")\n",
    "data.head(10)"
   ]
  },
  {
   "cell_type": "markdown",
   "id": "640730fa",
   "metadata": {},
   "source": [
    "Виводимо гістограму з кількістю аніме у 10 найпопулярніших жанрах"
   ]
  },
  {
   "cell_type": "code",
   "execution_count": 7,
   "id": "571ec931",
   "metadata": {},
   "outputs": [
    {
     "data": {
      "text/plain": [
       "array(['Action', 'Adventure', 'Cars', 'Comedy', 'Dementia', 'Demons',\n",
       "       'Drama', 'Ecchi', 'Fantasy', 'Game', 'Harem', 'Hentai',\n",
       "       'Historical', 'Horror', 'Josei', 'Kids', 'Magic', 'Martial Arts',\n",
       "       'Mecha', 'Military', 'Music', 'Mystery', 'Parody', 'Police',\n",
       "       'Psychological', 'Romance', 'Samurai', 'School', 'Sci-Fi',\n",
       "       'Seinen', 'Shoujo', 'Shoujo Ai', 'Shounen', 'Shounen Ai',\n",
       "       'Slice of Life', 'Space', 'Sports', 'Super Power', 'Supernatural',\n",
       "       'Thriller', 'Vampire', 'Yaoi', 'Yuri'], dtype='<U13')"
      ]
     },
     "execution_count": 7,
     "metadata": {},
     "output_type": "execute_result"
    }
   ],
   "source": [
    "all_genres = []\n",
    "\n",
    "for row in data[\"genre\"]:\n",
    "    genres = row.split(\",\")\n",
    "    genres = [g.strip() for g in genres]\n",
    "    all_genres.extend(genres)\n",
    "\n",
    "unique_genres = np.unique(np.array(all_genres))\n",
    "unique_genres"
   ]
  },
  {
   "cell_type": "code",
   "execution_count": 8,
   "id": "5fbb7ac0",
   "metadata": {},
   "outputs": [
    {
     "data": {
      "text/html": [
       "<div>\n",
       "<style scoped>\n",
       "    .dataframe tbody tr th:only-of-type {\n",
       "        vertical-align: middle;\n",
       "    }\n",
       "\n",
       "    .dataframe tbody tr th {\n",
       "        vertical-align: top;\n",
       "    }\n",
       "\n",
       "    .dataframe thead th {\n",
       "        text-align: right;\n",
       "    }\n",
       "</style>\n",
       "<table border=\"1\" class=\"dataframe\">\n",
       "  <thead>\n",
       "    <tr style=\"text-align: right;\">\n",
       "      <th></th>\n",
       "      <th>genre</th>\n",
       "      <th>anime_list</th>\n",
       "    </tr>\n",
       "  </thead>\n",
       "  <tbody>\n",
       "    <tr>\n",
       "      <th>0</th>\n",
       "      <td>Action</td>\n",
       "      <td>[5114, 28977, 11061, 15335, 918, 2904, 1575, 4...</td>\n",
       "    </tr>\n",
       "    <tr>\n",
       "      <th>1</th>\n",
       "      <td>Adventure</td>\n",
       "      <td>[5114, 11061, 199, 24701, 1, 164, 21939, 457, ...</td>\n",
       "    </tr>\n",
       "    <tr>\n",
       "      <th>2</th>\n",
       "      <td>Cars</td>\n",
       "      <td>[6675, 22507, 18, 185, 15059, 186, 187, 19613,...</td>\n",
       "    </tr>\n",
       "    <tr>\n",
       "      <th>3</th>\n",
       "      <td>Comedy</td>\n",
       "      <td>[28977, 32935, 15335, 918, 28891, 263, 1, 3027...</td>\n",
       "    </tr>\n",
       "    <tr>\n",
       "      <th>4</th>\n",
       "      <td>Dementia</td>\n",
       "      <td>[32, 30, 437, 227, 339, 875, 22419, 441, 28149...</td>\n",
       "    </tr>\n",
       "    <tr>\n",
       "      <th>5</th>\n",
       "      <td>Demons</td>\n",
       "      <td>[30709, 2246, 392, 23317, 33, 6811, 22145, 121...</td>\n",
       "    </tr>\n",
       "    <tr>\n",
       "      <th>6</th>\n",
       "      <td>Drama</td>\n",
       "      <td>[32281, 5114, 32935, 820, 4181, 28851, 2904, 2...</td>\n",
       "    </tr>\n",
       "    <tr>\n",
       "      <th>7</th>\n",
       "      <td>Ecchi</td>\n",
       "      <td>[28171, 32282, 19815, 23755, 5781, 33286, 268,...</td>\n",
       "    </tr>\n",
       "    <tr>\n",
       "      <th>8</th>\n",
       "      <td>Fantasy</td>\n",
       "      <td>[5114, 4181, 24701, 12355, 164, 21939, 457, 32...</td>\n",
       "    </tr>\n",
       "    <tr>\n",
       "      <th>9</th>\n",
       "      <td>Game</td>\n",
       "      <td>[14397, 19815, 28223, 3002, 10800, 10271, 135,...</td>\n",
       "    </tr>\n",
       "    <tr>\n",
       "      <th>10</th>\n",
       "      <td>Harem</td>\n",
       "      <td>[853, 16706, 10080, 5781, 29095, 8525, 31711, ...</td>\n",
       "    </tr>\n",
       "    <tr>\n",
       "      <th>11</th>\n",
       "      <td>Hentai</td>\n",
       "      <td>[11879, 29575, 15843, 21097, 10779, 10380, 253...</td>\n",
       "    </tr>\n",
       "    <tr>\n",
       "      <th>12</th>\n",
       "      <td>Historical</td>\n",
       "      <td>[28977, 15335, 918, 24701, 44, 21939, 457, 289...</td>\n",
       "    </tr>\n",
       "    <tr>\n",
       "      <th>13</th>\n",
       "      <td>Horror</td>\n",
       "      <td>[19, 777, 22535, 13125, 2246, 33, 12115, 437, ...</td>\n",
       "    </tr>\n",
       "    <tr>\n",
       "      <th>14</th>\n",
       "      <td>Josei</td>\n",
       "      <td>[28735, 10162, 14397, 12531, 1698, 5690, 1142,...</td>\n",
       "    </tr>\n",
       "    <tr>\n",
       "      <th>15</th>\n",
       "      <td>Kids</td>\n",
       "      <td>[9204, 21469, 6586, 12917, 2150, 20159, 2828, ...</td>\n",
       "    </tr>\n",
       "    <tr>\n",
       "      <th>16</th>\n",
       "      <td>Magic</td>\n",
       "      <td>[5114, 9756, 18115, 11981, 11979, 28701, 22297...</td>\n",
       "    </tr>\n",
       "    <tr>\n",
       "      <th>17</th>\n",
       "      <td>Martial Arts</td>\n",
       "      <td>[44, 6594, 392, 9130, 813, 1559, 6171, 223, 28...</td>\n",
       "    </tr>\n",
       "    <tr>\n",
       "      <th>18</th>\n",
       "      <td>Mecha</td>\n",
       "      <td>[2904, 1575, 2001, 4565, 801, 3784, 467, 32, 1...</td>\n",
       "    </tr>\n",
       "    <tr>\n",
       "      <th>19</th>\n",
       "      <td>Military</td>\n",
       "      <td>[5114, 820, 2904, 1575, 777, 801, 17389, 18617...</td>\n",
       "    </tr>\n",
       "    <tr>\n",
       "      <th>20</th>\n",
       "      <td>Music</td>\n",
       "      <td>[23273, 877, 12531, 1698, 57, 5690, 34240, 961...</td>\n",
       "    </tr>\n",
       "    <tr>\n",
       "      <th>21</th>\n",
       "      <td>Mystery</td>\n",
       "      <td>[24701, 7311, 17074, 21939, 457, 28957, 31757,...</td>\n",
       "    </tr>\n",
       "    <tr>\n",
       "      <th>22</th>\n",
       "      <td>Parody</td>\n",
       "      <td>[28977, 15335, 918, 30276, 32366, 21899, 7472,...</td>\n",
       "    </tr>\n",
       "    <tr>\n",
       "      <th>23</th>\n",
       "      <td>Police</td>\n",
       "      <td>[19, 1535, 801, 13601, 467, 1365, 5460, 43, 32...</td>\n",
       "    </tr>\n",
       "    <tr>\n",
       "      <th>24</th>\n",
       "      <td>Psychological</td>\n",
       "      <td>[19, 1535, 22135, 31043, 7785, 31240, 22535, 9...</td>\n",
       "    </tr>\n",
       "    <tr>\n",
       "      <th>25</th>\n",
       "      <td>Romance</td>\n",
       "      <td>[32281, 4181, 23273, 44, 7311, 17074, 431, 123...</td>\n",
       "    </tr>\n",
       "    <tr>\n",
       "      <th>26</th>\n",
       "      <td>Samurai</td>\n",
       "      <td>[28977, 15335, 918, 44, 21899, 7472, 205, 45, ...</td>\n",
       "    </tr>\n",
       "    <tr>\n",
       "      <th>27</th>\n",
       "      <td>School</td>\n",
       "      <td>[32281, 32935, 28851, 28891, 23273, 1575, 7311...</td>\n",
       "    </tr>\n",
       "    <tr>\n",
       "      <th>28</th>\n",
       "      <td>Sci-Fi</td>\n",
       "      <td>[28977, 820, 15335, 918, 2904, 1575, 1, 30276,...</td>\n",
       "    </tr>\n",
       "    <tr>\n",
       "      <th>29</th>\n",
       "      <td>Seinen</td>\n",
       "      <td>[24701, 30276, 21939, 457, 28957, 19, 22135, 2...</td>\n",
       "    </tr>\n",
       "    <tr>\n",
       "      <th>30</th>\n",
       "      <td>Shoujo</td>\n",
       "      <td>[32983, 11665, 10379, 30709, 5300, 10408, 877,...</td>\n",
       "    </tr>\n",
       "    <tr>\n",
       "      <th>31</th>\n",
       "      <td>Shoujo Ai</td>\n",
       "      <td>[30279, 1729, 3750, 23225, 12403, 795, 444, 30...</td>\n",
       "    </tr>\n",
       "    <tr>\n",
       "      <th>32</th>\n",
       "      <td>Shounen</td>\n",
       "      <td>[5114, 28977, 32935, 11061, 15335, 28851, 918,...</td>\n",
       "    </tr>\n",
       "    <tr>\n",
       "      <th>33</th>\n",
       "      <td>Shounen Ai</td>\n",
       "      <td>[30346, 11123, 4814, 20371, 8063, 25649, 9926,...</td>\n",
       "    </tr>\n",
       "    <tr>\n",
       "      <th>34</th>\n",
       "      <td>Slice of Life</td>\n",
       "      <td>[4181, 24701, 12355, 21939, 457, 245, 32983, 2...</td>\n",
       "    </tr>\n",
       "    <tr>\n",
       "      <th>35</th>\n",
       "      <td>Space</td>\n",
       "      <td>[820, 1, 4565, 12431, 12029, 10937, 5, 6336, 3...</td>\n",
       "    </tr>\n",
       "    <tr>\n",
       "      <th>36</th>\n",
       "      <td>Sports</td>\n",
       "      <td>[32935, 28891, 263, 5258, 20583, 19647, 22135,...</td>\n",
       "    </tr>\n",
       "    <tr>\n",
       "      <th>37</th>\n",
       "      <td>Super Power</td>\n",
       "      <td>[11061, 2904, 1575, 30276, 4565, 21, 16498, 13...</td>\n",
       "    </tr>\n",
       "    <tr>\n",
       "      <th>38</th>\n",
       "      <td>Supernatural</td>\n",
       "      <td>[32281, 4181, 199, 24701, 30276, 7311, 17074, ...</td>\n",
       "    </tr>\n",
       "    <tr>\n",
       "      <th>39</th>\n",
       "      <td>Thriller</td>\n",
       "      <td>[11741, 19, 1535, 4282, 6114, 31240, 5205, 975...</td>\n",
       "    </tr>\n",
       "    <tr>\n",
       "      <th>40</th>\n",
       "      <td>Vampire</td>\n",
       "      <td>[17074, 31757, 777, 14719, 9260, 5081, 33286, ...</td>\n",
       "    </tr>\n",
       "    <tr>\n",
       "      <th>41</th>\n",
       "      <td>Yaoi</td>\n",
       "      <td>[2238, 8634, 10048, 719, 5774, 3210, 15291, 59...</td>\n",
       "    </tr>\n",
       "    <tr>\n",
       "      <th>42</th>\n",
       "      <td>Yuri</td>\n",
       "      <td>[7748, 28779, 21521, 4473, 4399, 6041, 12373, ...</td>\n",
       "    </tr>\n",
       "  </tbody>\n",
       "</table>\n",
       "</div>"
      ],
      "text/plain": [
       "            genre                                         anime_list\n",
       "0          Action  [5114, 28977, 11061, 15335, 918, 2904, 1575, 4...\n",
       "1       Adventure  [5114, 11061, 199, 24701, 1, 164, 21939, 457, ...\n",
       "2            Cars  [6675, 22507, 18, 185, 15059, 186, 187, 19613,...\n",
       "3          Comedy  [28977, 32935, 15335, 918, 28891, 263, 1, 3027...\n",
       "4        Dementia  [32, 30, 437, 227, 339, 875, 22419, 441, 28149...\n",
       "5          Demons  [30709, 2246, 392, 23317, 33, 6811, 22145, 121...\n",
       "6           Drama  [32281, 5114, 32935, 820, 4181, 28851, 2904, 2...\n",
       "7           Ecchi  [28171, 32282, 19815, 23755, 5781, 33286, 268,...\n",
       "8         Fantasy  [5114, 4181, 24701, 12355, 164, 21939, 457, 32...\n",
       "9            Game  [14397, 19815, 28223, 3002, 10800, 10271, 135,...\n",
       "10          Harem  [853, 16706, 10080, 5781, 29095, 8525, 31711, ...\n",
       "11         Hentai  [11879, 29575, 15843, 21097, 10779, 10380, 253...\n",
       "12     Historical  [28977, 15335, 918, 24701, 44, 21939, 457, 289...\n",
       "13         Horror  [19, 777, 22535, 13125, 2246, 33, 12115, 437, ...\n",
       "14          Josei  [28735, 10162, 14397, 12531, 1698, 5690, 1142,...\n",
       "15           Kids  [9204, 21469, 6586, 12917, 2150, 20159, 2828, ...\n",
       "16          Magic  [5114, 9756, 18115, 11981, 11979, 28701, 22297...\n",
       "17   Martial Arts  [44, 6594, 392, 9130, 813, 1559, 6171, 223, 28...\n",
       "18          Mecha  [2904, 1575, 2001, 4565, 801, 3784, 467, 32, 1...\n",
       "19       Military  [5114, 820, 2904, 1575, 777, 801, 17389, 18617...\n",
       "20          Music  [23273, 877, 12531, 1698, 57, 5690, 34240, 961...\n",
       "21        Mystery  [24701, 7311, 17074, 21939, 457, 28957, 31757,...\n",
       "22         Parody  [28977, 15335, 918, 30276, 32366, 21899, 7472,...\n",
       "23         Police  [19, 1535, 801, 13601, 467, 1365, 5460, 43, 32...\n",
       "24  Psychological  [19, 1535, 22135, 31043, 7785, 31240, 22535, 9...\n",
       "25        Romance  [32281, 4181, 23273, 44, 7311, 17074, 431, 123...\n",
       "26        Samurai  [28977, 15335, 918, 44, 21899, 7472, 205, 45, ...\n",
       "27         School  [32281, 32935, 28851, 28891, 23273, 1575, 7311...\n",
       "28         Sci-Fi  [28977, 820, 15335, 918, 2904, 1575, 1, 30276,...\n",
       "29         Seinen  [24701, 30276, 21939, 457, 28957, 19, 22135, 2...\n",
       "30         Shoujo  [32983, 11665, 10379, 30709, 5300, 10408, 877,...\n",
       "31      Shoujo Ai  [30279, 1729, 3750, 23225, 12403, 795, 444, 30...\n",
       "32        Shounen  [5114, 28977, 32935, 11061, 15335, 28851, 918,...\n",
       "33     Shounen Ai  [30346, 11123, 4814, 20371, 8063, 25649, 9926,...\n",
       "34  Slice of Life  [4181, 24701, 12355, 21939, 457, 245, 32983, 2...\n",
       "35          Space  [820, 1, 4565, 12431, 12029, 10937, 5, 6336, 3...\n",
       "36         Sports  [32935, 28891, 263, 5258, 20583, 19647, 22135,...\n",
       "37    Super Power  [11061, 2904, 1575, 30276, 4565, 21, 16498, 13...\n",
       "38   Supernatural  [32281, 4181, 199, 24701, 30276, 7311, 17074, ...\n",
       "39       Thriller  [11741, 19, 1535, 4282, 6114, 31240, 5205, 975...\n",
       "40        Vampire  [17074, 31757, 777, 14719, 9260, 5081, 33286, ...\n",
       "41           Yaoi  [2238, 8634, 10048, 719, 5774, 3210, 15291, 59...\n",
       "42           Yuri  [7748, 28779, 21521, 4473, 4399, 6041, 12373, ..."
      ]
     },
     "execution_count": 8,
     "metadata": {},
     "output_type": "execute_result"
    }
   ],
   "source": [
    "genres_data = [{'genre': genre, 'anime_list': []} for genre in unique_genres]\n",
    "\n",
    "genres_df = pd.DataFrame(genres_data)\n",
    "\n",
    "genres_df.set_index('genre', inplace=True)\n",
    "\n",
    "for idx, row in data.iterrows():\n",
    "    anime_id = row['anime_id']\n",
    "    anime_genres = [g.strip() for g in row['genre'].split(',')]\n",
    "\n",
    "    for genre in anime_genres:\n",
    "        if genre in genres_df.index:\n",
    "            genres_df.at[genre, 'anime_list'].append(anime_id)\n",
    "\n",
    "genres_df.reset_index(inplace=True)\n",
    "genres_df"
   ]
  },
  {
   "cell_type": "code",
   "execution_count": 12,
   "id": "6b577709",
   "metadata": {},
   "outputs": [
    {
     "data": {
      "text/html": [
       "<div>\n",
       "<style scoped>\n",
       "    .dataframe tbody tr th:only-of-type {\n",
       "        vertical-align: middle;\n",
       "    }\n",
       "\n",
       "    .dataframe tbody tr th {\n",
       "        vertical-align: top;\n",
       "    }\n",
       "\n",
       "    .dataframe thead th {\n",
       "        text-align: right;\n",
       "    }\n",
       "</style>\n",
       "<table border=\"1\" class=\"dataframe\">\n",
       "  <thead>\n",
       "    <tr style=\"text-align: right;\">\n",
       "      <th></th>\n",
       "      <th>genre</th>\n",
       "      <th>anime_list</th>\n",
       "      <th>anime_count</th>\n",
       "    </tr>\n",
       "  </thead>\n",
       "  <tbody>\n",
       "    <tr>\n",
       "      <th>0</th>\n",
       "      <td>Comedy</td>\n",
       "      <td>[28977, 32935, 15335, 918, 28891, 263, 1, 3027...</td>\n",
       "      <td>4510</td>\n",
       "    </tr>\n",
       "    <tr>\n",
       "      <th>1</th>\n",
       "      <td>Action</td>\n",
       "      <td>[5114, 28977, 11061, 15335, 918, 2904, 1575, 4...</td>\n",
       "      <td>2750</td>\n",
       "    </tr>\n",
       "    <tr>\n",
       "      <th>2</th>\n",
       "      <td>Adventure</td>\n",
       "      <td>[5114, 11061, 199, 24701, 1, 164, 21939, 457, ...</td>\n",
       "      <td>2276</td>\n",
       "    </tr>\n",
       "    <tr>\n",
       "      <th>3</th>\n",
       "      <td>Fantasy</td>\n",
       "      <td>[5114, 4181, 24701, 12355, 164, 21939, 457, 32...</td>\n",
       "      <td>2226</td>\n",
       "    </tr>\n",
       "    <tr>\n",
       "      <th>4</th>\n",
       "      <td>Sci-Fi</td>\n",
       "      <td>[28977, 820, 15335, 918, 2904, 1575, 1, 30276,...</td>\n",
       "      <td>2010</td>\n",
       "    </tr>\n",
       "    <tr>\n",
       "      <th>5</th>\n",
       "      <td>Drama</td>\n",
       "      <td>[32281, 5114, 32935, 820, 4181, 28851, 2904, 2...</td>\n",
       "      <td>1962</td>\n",
       "    </tr>\n",
       "    <tr>\n",
       "      <th>6</th>\n",
       "      <td>Shounen</td>\n",
       "      <td>[5114, 28977, 32935, 11061, 15335, 28851, 918,...</td>\n",
       "      <td>1668</td>\n",
       "    </tr>\n",
       "    <tr>\n",
       "      <th>7</th>\n",
       "      <td>Kids</td>\n",
       "      <td>[9204, 21469, 6586, 12917, 2150, 20159, 2828, ...</td>\n",
       "      <td>1555</td>\n",
       "    </tr>\n",
       "    <tr>\n",
       "      <th>8</th>\n",
       "      <td>Romance</td>\n",
       "      <td>[32281, 4181, 23273, 44, 7311, 17074, 431, 123...</td>\n",
       "      <td>1438</td>\n",
       "    </tr>\n",
       "    <tr>\n",
       "      <th>9</th>\n",
       "      <td>Slice of Life</td>\n",
       "      <td>[4181, 24701, 12355, 21939, 457, 245, 32983, 2...</td>\n",
       "      <td>1198</td>\n",
       "    </tr>\n",
       "    <tr>\n",
       "      <th>10</th>\n",
       "      <td>School</td>\n",
       "      <td>[32281, 32935, 28851, 28891, 23273, 1575, 7311...</td>\n",
       "      <td>1196</td>\n",
       "    </tr>\n",
       "    <tr>\n",
       "      <th>11</th>\n",
       "      <td>Hentai</td>\n",
       "      <td>[11879, 29575, 15843, 21097, 10779, 10380, 253...</td>\n",
       "      <td>1128</td>\n",
       "    </tr>\n",
       "    <tr>\n",
       "      <th>12</th>\n",
       "      <td>Supernatural</td>\n",
       "      <td>[32281, 4181, 199, 24701, 30276, 7311, 17074, ...</td>\n",
       "      <td>1010</td>\n",
       "    </tr>\n",
       "    <tr>\n",
       "      <th>13</th>\n",
       "      <td>Mecha</td>\n",
       "      <td>[2904, 1575, 2001, 4565, 801, 3784, 467, 32, 1...</td>\n",
       "      <td>918</td>\n",
       "    </tr>\n",
       "    <tr>\n",
       "      <th>14</th>\n",
       "      <td>Music</td>\n",
       "      <td>[23273, 877, 12531, 1698, 57, 5690, 34240, 961...</td>\n",
       "      <td>842</td>\n",
       "    </tr>\n",
       "    <tr>\n",
       "      <th>15</th>\n",
       "      <td>Historical</td>\n",
       "      <td>[28977, 15335, 918, 24701, 44, 21939, 457, 289...</td>\n",
       "      <td>795</td>\n",
       "    </tr>\n",
       "    <tr>\n",
       "      <th>16</th>\n",
       "      <td>Magic</td>\n",
       "      <td>[5114, 9756, 18115, 11981, 11979, 28701, 22297...</td>\n",
       "      <td>760</td>\n",
       "    </tr>\n",
       "    <tr>\n",
       "      <th>17</th>\n",
       "      <td>Ecchi</td>\n",
       "      <td>[28171, 32282, 19815, 23755, 5781, 33286, 268,...</td>\n",
       "      <td>612</td>\n",
       "    </tr>\n",
       "    <tr>\n",
       "      <th>18</th>\n",
       "      <td>Shoujo</td>\n",
       "      <td>[32983, 11665, 10379, 30709, 5300, 10408, 877,...</td>\n",
       "      <td>598</td>\n",
       "    </tr>\n",
       "    <tr>\n",
       "      <th>19</th>\n",
       "      <td>Seinen</td>\n",
       "      <td>[24701, 30276, 21939, 457, 28957, 19, 22135, 2...</td>\n",
       "      <td>538</td>\n",
       "    </tr>\n",
       "    <tr>\n",
       "      <th>20</th>\n",
       "      <td>Sports</td>\n",
       "      <td>[32935, 28891, 263, 5258, 20583, 19647, 22135,...</td>\n",
       "      <td>528</td>\n",
       "    </tr>\n",
       "    <tr>\n",
       "      <th>21</th>\n",
       "      <td>Mystery</td>\n",
       "      <td>[24701, 7311, 17074, 21939, 457, 28957, 31757,...</td>\n",
       "      <td>466</td>\n",
       "    </tr>\n",
       "    <tr>\n",
       "      <th>22</th>\n",
       "      <td>Super Power</td>\n",
       "      <td>[11061, 2904, 1575, 30276, 4565, 21, 16498, 13...</td>\n",
       "      <td>449</td>\n",
       "    </tr>\n",
       "    <tr>\n",
       "      <th>23</th>\n",
       "      <td>Military</td>\n",
       "      <td>[5114, 820, 2904, 1575, 777, 801, 17389, 18617...</td>\n",
       "      <td>415</td>\n",
       "    </tr>\n",
       "    <tr>\n",
       "      <th>24</th>\n",
       "      <td>Parody</td>\n",
       "      <td>[28977, 15335, 918, 30276, 32366, 21899, 7472,...</td>\n",
       "      <td>399</td>\n",
       "    </tr>\n",
       "    <tr>\n",
       "      <th>25</th>\n",
       "      <td>Space</td>\n",
       "      <td>[820, 1, 4565, 12431, 12029, 10937, 5, 6336, 3...</td>\n",
       "      <td>377</td>\n",
       "    </tr>\n",
       "    <tr>\n",
       "      <th>26</th>\n",
       "      <td>Horror</td>\n",
       "      <td>[19, 777, 22535, 13125, 2246, 33, 12115, 437, ...</td>\n",
       "      <td>362</td>\n",
       "    </tr>\n",
       "    <tr>\n",
       "      <th>27</th>\n",
       "      <td>Harem</td>\n",
       "      <td>[853, 16706, 10080, 5781, 29095, 8525, 31711, ...</td>\n",
       "      <td>311</td>\n",
       "    </tr>\n",
       "    <tr>\n",
       "      <th>28</th>\n",
       "      <td>Demons</td>\n",
       "      <td>[30709, 2246, 392, 23317, 33, 6811, 22145, 121...</td>\n",
       "      <td>292</td>\n",
       "    </tr>\n",
       "    <tr>\n",
       "      <th>29</th>\n",
       "      <td>Martial Arts</td>\n",
       "      <td>[44, 6594, 392, 9130, 813, 1559, 6171, 223, 28...</td>\n",
       "      <td>263</td>\n",
       "    </tr>\n",
       "    <tr>\n",
       "      <th>30</th>\n",
       "      <td>Dementia</td>\n",
       "      <td>[32, 30, 437, 227, 339, 875, 22419, 441, 28149...</td>\n",
       "      <td>236</td>\n",
       "    </tr>\n",
       "    <tr>\n",
       "      <th>31</th>\n",
       "      <td>Psychological</td>\n",
       "      <td>[19, 1535, 22135, 31043, 7785, 31240, 22535, 9...</td>\n",
       "      <td>221</td>\n",
       "    </tr>\n",
       "    <tr>\n",
       "      <th>32</th>\n",
       "      <td>Police</td>\n",
       "      <td>[19, 1535, 801, 13601, 467, 1365, 5460, 43, 32...</td>\n",
       "      <td>191</td>\n",
       "    </tr>\n",
       "    <tr>\n",
       "      <th>33</th>\n",
       "      <td>Game</td>\n",
       "      <td>[14397, 19815, 28223, 3002, 10800, 10271, 135,...</td>\n",
       "      <td>175</td>\n",
       "    </tr>\n",
       "    <tr>\n",
       "      <th>34</th>\n",
       "      <td>Samurai</td>\n",
       "      <td>[28977, 15335, 918, 44, 21899, 7472, 205, 45, ...</td>\n",
       "      <td>145</td>\n",
       "    </tr>\n",
       "    <tr>\n",
       "      <th>35</th>\n",
       "      <td>Vampire</td>\n",
       "      <td>[17074, 31757, 777, 14719, 9260, 5081, 33286, ...</td>\n",
       "      <td>101</td>\n",
       "    </tr>\n",
       "    <tr>\n",
       "      <th>36</th>\n",
       "      <td>Thriller</td>\n",
       "      <td>[11741, 19, 1535, 4282, 6114, 31240, 5205, 975...</td>\n",
       "      <td>82</td>\n",
       "    </tr>\n",
       "    <tr>\n",
       "      <th>37</th>\n",
       "      <td>Cars</td>\n",
       "      <td>[6675, 22507, 18, 185, 15059, 186, 187, 19613,...</td>\n",
       "      <td>66</td>\n",
       "    </tr>\n",
       "    <tr>\n",
       "      <th>38</th>\n",
       "      <td>Shounen Ai</td>\n",
       "      <td>[30346, 11123, 4814, 20371, 8063, 25649, 9926,...</td>\n",
       "      <td>63</td>\n",
       "    </tr>\n",
       "    <tr>\n",
       "      <th>39</th>\n",
       "      <td>Shoujo Ai</td>\n",
       "      <td>[30279, 1729, 3750, 23225, 12403, 795, 444, 30...</td>\n",
       "      <td>55</td>\n",
       "    </tr>\n",
       "    <tr>\n",
       "      <th>40</th>\n",
       "      <td>Josei</td>\n",
       "      <td>[28735, 10162, 14397, 12531, 1698, 5690, 1142,...</td>\n",
       "      <td>53</td>\n",
       "    </tr>\n",
       "    <tr>\n",
       "      <th>41</th>\n",
       "      <td>Yuri</td>\n",
       "      <td>[7748, 28779, 21521, 4473, 4399, 6041, 12373, ...</td>\n",
       "      <td>40</td>\n",
       "    </tr>\n",
       "    <tr>\n",
       "      <th>42</th>\n",
       "      <td>Yaoi</td>\n",
       "      <td>[2238, 8634, 10048, 719, 5774, 3210, 15291, 59...</td>\n",
       "      <td>38</td>\n",
       "    </tr>\n",
       "  </tbody>\n",
       "</table>\n",
       "</div>"
      ],
      "text/plain": [
       "            genre                                         anime_list  \\\n",
       "0          Comedy  [28977, 32935, 15335, 918, 28891, 263, 1, 3027...   \n",
       "1          Action  [5114, 28977, 11061, 15335, 918, 2904, 1575, 4...   \n",
       "2       Adventure  [5114, 11061, 199, 24701, 1, 164, 21939, 457, ...   \n",
       "3         Fantasy  [5114, 4181, 24701, 12355, 164, 21939, 457, 32...   \n",
       "4          Sci-Fi  [28977, 820, 15335, 918, 2904, 1575, 1, 30276,...   \n",
       "5           Drama  [32281, 5114, 32935, 820, 4181, 28851, 2904, 2...   \n",
       "6         Shounen  [5114, 28977, 32935, 11061, 15335, 28851, 918,...   \n",
       "7            Kids  [9204, 21469, 6586, 12917, 2150, 20159, 2828, ...   \n",
       "8         Romance  [32281, 4181, 23273, 44, 7311, 17074, 431, 123...   \n",
       "9   Slice of Life  [4181, 24701, 12355, 21939, 457, 245, 32983, 2...   \n",
       "10         School  [32281, 32935, 28851, 28891, 23273, 1575, 7311...   \n",
       "11         Hentai  [11879, 29575, 15843, 21097, 10779, 10380, 253...   \n",
       "12   Supernatural  [32281, 4181, 199, 24701, 30276, 7311, 17074, ...   \n",
       "13          Mecha  [2904, 1575, 2001, 4565, 801, 3784, 467, 32, 1...   \n",
       "14          Music  [23273, 877, 12531, 1698, 57, 5690, 34240, 961...   \n",
       "15     Historical  [28977, 15335, 918, 24701, 44, 21939, 457, 289...   \n",
       "16          Magic  [5114, 9756, 18115, 11981, 11979, 28701, 22297...   \n",
       "17          Ecchi  [28171, 32282, 19815, 23755, 5781, 33286, 268,...   \n",
       "18         Shoujo  [32983, 11665, 10379, 30709, 5300, 10408, 877,...   \n",
       "19         Seinen  [24701, 30276, 21939, 457, 28957, 19, 22135, 2...   \n",
       "20         Sports  [32935, 28891, 263, 5258, 20583, 19647, 22135,...   \n",
       "21        Mystery  [24701, 7311, 17074, 21939, 457, 28957, 31757,...   \n",
       "22    Super Power  [11061, 2904, 1575, 30276, 4565, 21, 16498, 13...   \n",
       "23       Military  [5114, 820, 2904, 1575, 777, 801, 17389, 18617...   \n",
       "24         Parody  [28977, 15335, 918, 30276, 32366, 21899, 7472,...   \n",
       "25          Space  [820, 1, 4565, 12431, 12029, 10937, 5, 6336, 3...   \n",
       "26         Horror  [19, 777, 22535, 13125, 2246, 33, 12115, 437, ...   \n",
       "27          Harem  [853, 16706, 10080, 5781, 29095, 8525, 31711, ...   \n",
       "28         Demons  [30709, 2246, 392, 23317, 33, 6811, 22145, 121...   \n",
       "29   Martial Arts  [44, 6594, 392, 9130, 813, 1559, 6171, 223, 28...   \n",
       "30       Dementia  [32, 30, 437, 227, 339, 875, 22419, 441, 28149...   \n",
       "31  Psychological  [19, 1535, 22135, 31043, 7785, 31240, 22535, 9...   \n",
       "32         Police  [19, 1535, 801, 13601, 467, 1365, 5460, 43, 32...   \n",
       "33           Game  [14397, 19815, 28223, 3002, 10800, 10271, 135,...   \n",
       "34        Samurai  [28977, 15335, 918, 44, 21899, 7472, 205, 45, ...   \n",
       "35        Vampire  [17074, 31757, 777, 14719, 9260, 5081, 33286, ...   \n",
       "36       Thriller  [11741, 19, 1535, 4282, 6114, 31240, 5205, 975...   \n",
       "37           Cars  [6675, 22507, 18, 185, 15059, 186, 187, 19613,...   \n",
       "38     Shounen Ai  [30346, 11123, 4814, 20371, 8063, 25649, 9926,...   \n",
       "39      Shoujo Ai  [30279, 1729, 3750, 23225, 12403, 795, 444, 30...   \n",
       "40          Josei  [28735, 10162, 14397, 12531, 1698, 5690, 1142,...   \n",
       "41           Yuri  [7748, 28779, 21521, 4473, 4399, 6041, 12373, ...   \n",
       "42           Yaoi  [2238, 8634, 10048, 719, 5774, 3210, 15291, 59...   \n",
       "\n",
       "    anime_count  \n",
       "0          4510  \n",
       "1          2750  \n",
       "2          2276  \n",
       "3          2226  \n",
       "4          2010  \n",
       "5          1962  \n",
       "6          1668  \n",
       "7          1555  \n",
       "8          1438  \n",
       "9          1198  \n",
       "10         1196  \n",
       "11         1128  \n",
       "12         1010  \n",
       "13          918  \n",
       "14          842  \n",
       "15          795  \n",
       "16          760  \n",
       "17          612  \n",
       "18          598  \n",
       "19          538  \n",
       "20          528  \n",
       "21          466  \n",
       "22          449  \n",
       "23          415  \n",
       "24          399  \n",
       "25          377  \n",
       "26          362  \n",
       "27          311  \n",
       "28          292  \n",
       "29          263  \n",
       "30          236  \n",
       "31          221  \n",
       "32          191  \n",
       "33          175  \n",
       "34          145  \n",
       "35          101  \n",
       "36           82  \n",
       "37           66  \n",
       "38           63  \n",
       "39           55  \n",
       "40           53  \n",
       "41           40  \n",
       "42           38  "
      ]
     },
     "execution_count": 12,
     "metadata": {},
     "output_type": "execute_result"
    }
   ],
   "source": [
    "genres_df[\"anime_count\"] = genres_df[\"anime_list\"].apply(len)\n",
    "genres_df = genres_df.sort_values(by=\"anime_count\", ascending=False).reset_index(drop=True)\n",
    "genres_df"
   ]
  },
  {
   "cell_type": "code",
   "execution_count": 15,
   "id": "659e91bf",
   "metadata": {},
   "outputs": [
    {
     "data": {
      "application/vnd.plotly.v1+json": {
       "config": {
        "plotlyServerURL": "https://plot.ly"
       },
       "data": [
        {
         "hovertemplate": "Genre=%{x}<br>Number of Anime=%{y}<extra></extra>",
         "legendgroup": "",
         "marker": {
          "color": "#F8766D",
          "pattern": {
           "shape": ""
          }
         },
         "name": "",
         "orientation": "v",
         "showlegend": false,
         "textposition": "auto",
         "type": "bar",
         "x": [
          "Comedy",
          "Action",
          "Adventure",
          "Fantasy",
          "Sci-Fi",
          "Drama",
          "Shounen",
          "Kids",
          "Romance",
          "Slice of Life"
         ],
         "xaxis": "x",
         "y": {
          "bdata": "nhG+CuQIsgjaB6oHhAYTBp4FrgQ=",
          "dtype": "i2"
         },
         "yaxis": "y"
        }
       ],
       "layout": {
        "barmode": "relative",
        "legend": {
         "tracegroupgap": 0
        },
        "template": {
         "data": {
          "bar": [
           {
            "error_x": {
             "color": "rgb(51,51,51)"
            },
            "error_y": {
             "color": "rgb(51,51,51)"
            },
            "marker": {
             "line": {
              "color": "rgb(237,237,237)",
              "width": 0.5
             },
             "pattern": {
              "fillmode": "overlay",
              "size": 10,
              "solidity": 0.2
             }
            },
            "type": "bar"
           }
          ],
          "barpolar": [
           {
            "marker": {
             "line": {
              "color": "rgb(237,237,237)",
              "width": 0.5
             },
             "pattern": {
              "fillmode": "overlay",
              "size": 10,
              "solidity": 0.2
             }
            },
            "type": "barpolar"
           }
          ],
          "carpet": [
           {
            "aaxis": {
             "endlinecolor": "rgb(51,51,51)",
             "gridcolor": "white",
             "linecolor": "white",
             "minorgridcolor": "white",
             "startlinecolor": "rgb(51,51,51)"
            },
            "baxis": {
             "endlinecolor": "rgb(51,51,51)",
             "gridcolor": "white",
             "linecolor": "white",
             "minorgridcolor": "white",
             "startlinecolor": "rgb(51,51,51)"
            },
            "type": "carpet"
           }
          ],
          "choropleth": [
           {
            "colorbar": {
             "outlinewidth": 0,
             "tickcolor": "rgb(237,237,237)",
             "ticklen": 6,
             "ticks": "inside"
            },
            "type": "choropleth"
           }
          ],
          "contour": [
           {
            "colorbar": {
             "outlinewidth": 0,
             "tickcolor": "rgb(237,237,237)",
             "ticklen": 6,
             "ticks": "inside"
            },
            "colorscale": [
             [
              0,
              "rgb(20,44,66)"
             ],
             [
              1,
              "rgb(90,179,244)"
             ]
            ],
            "type": "contour"
           }
          ],
          "contourcarpet": [
           {
            "colorbar": {
             "outlinewidth": 0,
             "tickcolor": "rgb(237,237,237)",
             "ticklen": 6,
             "ticks": "inside"
            },
            "type": "contourcarpet"
           }
          ],
          "heatmap": [
           {
            "colorbar": {
             "outlinewidth": 0,
             "tickcolor": "rgb(237,237,237)",
             "ticklen": 6,
             "ticks": "inside"
            },
            "colorscale": [
             [
              0,
              "rgb(20,44,66)"
             ],
             [
              1,
              "rgb(90,179,244)"
             ]
            ],
            "type": "heatmap"
           }
          ],
          "histogram": [
           {
            "marker": {
             "pattern": {
              "fillmode": "overlay",
              "size": 10,
              "solidity": 0.2
             }
            },
            "type": "histogram"
           }
          ],
          "histogram2d": [
           {
            "colorbar": {
             "outlinewidth": 0,
             "tickcolor": "rgb(237,237,237)",
             "ticklen": 6,
             "ticks": "inside"
            },
            "colorscale": [
             [
              0,
              "rgb(20,44,66)"
             ],
             [
              1,
              "rgb(90,179,244)"
             ]
            ],
            "type": "histogram2d"
           }
          ],
          "histogram2dcontour": [
           {
            "colorbar": {
             "outlinewidth": 0,
             "tickcolor": "rgb(237,237,237)",
             "ticklen": 6,
             "ticks": "inside"
            },
            "colorscale": [
             [
              0,
              "rgb(20,44,66)"
             ],
             [
              1,
              "rgb(90,179,244)"
             ]
            ],
            "type": "histogram2dcontour"
           }
          ],
          "mesh3d": [
           {
            "colorbar": {
             "outlinewidth": 0,
             "tickcolor": "rgb(237,237,237)",
             "ticklen": 6,
             "ticks": "inside"
            },
            "type": "mesh3d"
           }
          ],
          "parcoords": [
           {
            "line": {
             "colorbar": {
              "outlinewidth": 0,
              "tickcolor": "rgb(237,237,237)",
              "ticklen": 6,
              "ticks": "inside"
             }
            },
            "type": "parcoords"
           }
          ],
          "pie": [
           {
            "automargin": true,
            "type": "pie"
           }
          ],
          "scatter": [
           {
            "fillpattern": {
             "fillmode": "overlay",
             "size": 10,
             "solidity": 0.2
            },
            "type": "scatter"
           }
          ],
          "scatter3d": [
           {
            "line": {
             "colorbar": {
              "outlinewidth": 0,
              "tickcolor": "rgb(237,237,237)",
              "ticklen": 6,
              "ticks": "inside"
             }
            },
            "marker": {
             "colorbar": {
              "outlinewidth": 0,
              "tickcolor": "rgb(237,237,237)",
              "ticklen": 6,
              "ticks": "inside"
             }
            },
            "type": "scatter3d"
           }
          ],
          "scattercarpet": [
           {
            "marker": {
             "colorbar": {
              "outlinewidth": 0,
              "tickcolor": "rgb(237,237,237)",
              "ticklen": 6,
              "ticks": "inside"
             }
            },
            "type": "scattercarpet"
           }
          ],
          "scattergeo": [
           {
            "marker": {
             "colorbar": {
              "outlinewidth": 0,
              "tickcolor": "rgb(237,237,237)",
              "ticklen": 6,
              "ticks": "inside"
             }
            },
            "type": "scattergeo"
           }
          ],
          "scattergl": [
           {
            "marker": {
             "colorbar": {
              "outlinewidth": 0,
              "tickcolor": "rgb(237,237,237)",
              "ticklen": 6,
              "ticks": "inside"
             }
            },
            "type": "scattergl"
           }
          ],
          "scattermap": [
           {
            "marker": {
             "colorbar": {
              "outlinewidth": 0,
              "tickcolor": "rgb(237,237,237)",
              "ticklen": 6,
              "ticks": "inside"
             }
            },
            "type": "scattermap"
           }
          ],
          "scattermapbox": [
           {
            "marker": {
             "colorbar": {
              "outlinewidth": 0,
              "tickcolor": "rgb(237,237,237)",
              "ticklen": 6,
              "ticks": "inside"
             }
            },
            "type": "scattermapbox"
           }
          ],
          "scatterpolar": [
           {
            "marker": {
             "colorbar": {
              "outlinewidth": 0,
              "tickcolor": "rgb(237,237,237)",
              "ticklen": 6,
              "ticks": "inside"
             }
            },
            "type": "scatterpolar"
           }
          ],
          "scatterpolargl": [
           {
            "marker": {
             "colorbar": {
              "outlinewidth": 0,
              "tickcolor": "rgb(237,237,237)",
              "ticklen": 6,
              "ticks": "inside"
             }
            },
            "type": "scatterpolargl"
           }
          ],
          "scatterternary": [
           {
            "marker": {
             "colorbar": {
              "outlinewidth": 0,
              "tickcolor": "rgb(237,237,237)",
              "ticklen": 6,
              "ticks": "inside"
             }
            },
            "type": "scatterternary"
           }
          ],
          "surface": [
           {
            "colorbar": {
             "outlinewidth": 0,
             "tickcolor": "rgb(237,237,237)",
             "ticklen": 6,
             "ticks": "inside"
            },
            "colorscale": [
             [
              0,
              "rgb(20,44,66)"
             ],
             [
              1,
              "rgb(90,179,244)"
             ]
            ],
            "type": "surface"
           }
          ],
          "table": [
           {
            "cells": {
             "fill": {
              "color": "rgb(237,237,237)"
             },
             "line": {
              "color": "white"
             }
            },
            "header": {
             "fill": {
              "color": "rgb(217,217,217)"
             },
             "line": {
              "color": "white"
             }
            },
            "type": "table"
           }
          ]
         },
         "layout": {
          "annotationdefaults": {
           "arrowhead": 0,
           "arrowwidth": 1
          },
          "autotypenumbers": "strict",
          "coloraxis": {
           "colorbar": {
            "outlinewidth": 0,
            "tickcolor": "rgb(237,237,237)",
            "ticklen": 6,
            "ticks": "inside"
           }
          },
          "colorscale": {
           "sequential": [
            [
             0,
             "rgb(20,44,66)"
            ],
            [
             1,
             "rgb(90,179,244)"
            ]
           ],
           "sequentialminus": [
            [
             0,
             "rgb(20,44,66)"
            ],
            [
             1,
             "rgb(90,179,244)"
            ]
           ]
          },
          "colorway": [
           "#F8766D",
           "#A3A500",
           "#00BF7D",
           "#00B0F6",
           "#E76BF3"
          ],
          "font": {
           "color": "rgb(51,51,51)"
          },
          "geo": {
           "bgcolor": "white",
           "lakecolor": "white",
           "landcolor": "rgb(237,237,237)",
           "showlakes": true,
           "showland": true,
           "subunitcolor": "white"
          },
          "hoverlabel": {
           "align": "left"
          },
          "hovermode": "closest",
          "paper_bgcolor": "white",
          "plot_bgcolor": "rgb(237,237,237)",
          "polar": {
           "angularaxis": {
            "gridcolor": "white",
            "linecolor": "white",
            "showgrid": true,
            "tickcolor": "rgb(51,51,51)",
            "ticks": "outside"
           },
           "bgcolor": "rgb(237,237,237)",
           "radialaxis": {
            "gridcolor": "white",
            "linecolor": "white",
            "showgrid": true,
            "tickcolor": "rgb(51,51,51)",
            "ticks": "outside"
           }
          },
          "scene": {
           "xaxis": {
            "backgroundcolor": "rgb(237,237,237)",
            "gridcolor": "white",
            "gridwidth": 2,
            "linecolor": "white",
            "showbackground": true,
            "showgrid": true,
            "tickcolor": "rgb(51,51,51)",
            "ticks": "outside",
            "zerolinecolor": "white"
           },
           "yaxis": {
            "backgroundcolor": "rgb(237,237,237)",
            "gridcolor": "white",
            "gridwidth": 2,
            "linecolor": "white",
            "showbackground": true,
            "showgrid": true,
            "tickcolor": "rgb(51,51,51)",
            "ticks": "outside",
            "zerolinecolor": "white"
           },
           "zaxis": {
            "backgroundcolor": "rgb(237,237,237)",
            "gridcolor": "white",
            "gridwidth": 2,
            "linecolor": "white",
            "showbackground": true,
            "showgrid": true,
            "tickcolor": "rgb(51,51,51)",
            "ticks": "outside",
            "zerolinecolor": "white"
           }
          },
          "shapedefaults": {
           "fillcolor": "black",
           "line": {
            "width": 0
           },
           "opacity": 0.3
          },
          "ternary": {
           "aaxis": {
            "gridcolor": "white",
            "linecolor": "white",
            "showgrid": true,
            "tickcolor": "rgb(51,51,51)",
            "ticks": "outside"
           },
           "baxis": {
            "gridcolor": "white",
            "linecolor": "white",
            "showgrid": true,
            "tickcolor": "rgb(51,51,51)",
            "ticks": "outside"
           },
           "bgcolor": "rgb(237,237,237)",
           "caxis": {
            "gridcolor": "white",
            "linecolor": "white",
            "showgrid": true,
            "tickcolor": "rgb(51,51,51)",
            "ticks": "outside"
           }
          },
          "xaxis": {
           "automargin": true,
           "gridcolor": "white",
           "linecolor": "white",
           "showgrid": true,
           "tickcolor": "rgb(51,51,51)",
           "ticks": "outside",
           "title": {
            "standoff": 15
           },
           "zerolinecolor": "white"
          },
          "yaxis": {
           "automargin": true,
           "gridcolor": "white",
           "linecolor": "white",
           "showgrid": true,
           "tickcolor": "rgb(51,51,51)",
           "ticks": "outside",
           "title": {
            "standoff": 15
           },
           "zerolinecolor": "white"
          }
         }
        },
        "title": {
         "text": "Number of Anime in 10 Most Popular Genres"
        },
        "xaxis": {
         "anchor": "y",
         "domain": [
          0,
          1
         ],
         "title": {
          "text": "Genre"
         }
        },
        "yaxis": {
         "anchor": "x",
         "domain": [
          0,
          1
         ],
         "title": {
          "text": "Number of Anime"
         }
        }
       }
      }
     },
     "metadata": {},
     "output_type": "display_data"
    }
   ],
   "source": [
    "fig = px.bar(\n",
    "    genres_df.head(10),\n",
    "    x = \"genre\",\n",
    "    y = \"anime_count\",\n",
    "    title = \"Number of Anime in 10 Most Popular Genres\",\n",
    "    labels={\"genre\": \"Genre\", \"anime_count\":\"Number of Anime\"},\n",
    "    template=\"ggplot2\"\n",
    ")\n",
    "\n",
    "fig.show()"
   ]
  },
  {
   "cell_type": "markdown",
   "id": "4a39d1fb",
   "metadata": {},
   "source": [
    "Обчислюємо косинуси подібності між усіма аніме"
   ]
  },
  {
   "cell_type": "markdown",
   "id": "c68e576b",
   "metadata": {},
   "source": [
    "1. Створити one-hot матрицю жанрів:\n",
    "\n",
    "    Рядки — аніме;\n",
    "\n",
    "    Стовпці — жанри;\n",
    "\n",
    "    1 — якщо аніме має цей жанр, 0 — інакше.\n",
    "\n",
    "2. Обчислити косинусну подібність між векторами кожного аніме.\n",
    "\n"
   ]
  },
  {
   "cell_type": "code",
   "execution_count": null,
   "id": "461782a1",
   "metadata": {},
   "outputs": [
    {
     "data": {
      "text/html": [
       "<div>\n",
       "<style scoped>\n",
       "    .dataframe tbody tr th:only-of-type {\n",
       "        vertical-align: middle;\n",
       "    }\n",
       "\n",
       "    .dataframe tbody tr th {\n",
       "        vertical-align: top;\n",
       "    }\n",
       "\n",
       "    .dataframe thead th {\n",
       "        text-align: right;\n",
       "    }\n",
       "</style>\n",
       "<table border=\"1\" class=\"dataframe\">\n",
       "  <thead>\n",
       "    <tr style=\"text-align: right;\">\n",
       "      <th></th>\n",
       "      <th>anime_id</th>\n",
       "      <th>Action</th>\n",
       "      <th>Adventure</th>\n",
       "      <th>Cars</th>\n",
       "      <th>Comedy</th>\n",
       "      <th>Dementia</th>\n",
       "      <th>Demons</th>\n",
       "      <th>Drama</th>\n",
       "      <th>Ecchi</th>\n",
       "      <th>Fantasy</th>\n",
       "      <th>...</th>\n",
       "      <th>Shounen Ai</th>\n",
       "      <th>Slice of Life</th>\n",
       "      <th>Space</th>\n",
       "      <th>Sports</th>\n",
       "      <th>Super Power</th>\n",
       "      <th>Supernatural</th>\n",
       "      <th>Thriller</th>\n",
       "      <th>Vampire</th>\n",
       "      <th>Yaoi</th>\n",
       "      <th>Yuri</th>\n",
       "    </tr>\n",
       "  </thead>\n",
       "  <tbody>\n",
       "    <tr>\n",
       "      <th>0</th>\n",
       "      <td>32281</td>\n",
       "      <td>0</td>\n",
       "      <td>0</td>\n",
       "      <td>0</td>\n",
       "      <td>0</td>\n",
       "      <td>0</td>\n",
       "      <td>0</td>\n",
       "      <td>1</td>\n",
       "      <td>0</td>\n",
       "      <td>0</td>\n",
       "      <td>...</td>\n",
       "      <td>0</td>\n",
       "      <td>0</td>\n",
       "      <td>0</td>\n",
       "      <td>0</td>\n",
       "      <td>0</td>\n",
       "      <td>1</td>\n",
       "      <td>0</td>\n",
       "      <td>0</td>\n",
       "      <td>0</td>\n",
       "      <td>0</td>\n",
       "    </tr>\n",
       "    <tr>\n",
       "      <th>1</th>\n",
       "      <td>5114</td>\n",
       "      <td>1</td>\n",
       "      <td>1</td>\n",
       "      <td>0</td>\n",
       "      <td>0</td>\n",
       "      <td>0</td>\n",
       "      <td>0</td>\n",
       "      <td>1</td>\n",
       "      <td>0</td>\n",
       "      <td>1</td>\n",
       "      <td>...</td>\n",
       "      <td>0</td>\n",
       "      <td>0</td>\n",
       "      <td>0</td>\n",
       "      <td>0</td>\n",
       "      <td>0</td>\n",
       "      <td>0</td>\n",
       "      <td>0</td>\n",
       "      <td>0</td>\n",
       "      <td>0</td>\n",
       "      <td>0</td>\n",
       "    </tr>\n",
       "    <tr>\n",
       "      <th>2</th>\n",
       "      <td>28977</td>\n",
       "      <td>1</td>\n",
       "      <td>0</td>\n",
       "      <td>0</td>\n",
       "      <td>1</td>\n",
       "      <td>0</td>\n",
       "      <td>0</td>\n",
       "      <td>0</td>\n",
       "      <td>0</td>\n",
       "      <td>0</td>\n",
       "      <td>...</td>\n",
       "      <td>0</td>\n",
       "      <td>0</td>\n",
       "      <td>0</td>\n",
       "      <td>0</td>\n",
       "      <td>0</td>\n",
       "      <td>0</td>\n",
       "      <td>0</td>\n",
       "      <td>0</td>\n",
       "      <td>0</td>\n",
       "      <td>0</td>\n",
       "    </tr>\n",
       "    <tr>\n",
       "      <th>3</th>\n",
       "      <td>32935</td>\n",
       "      <td>0</td>\n",
       "      <td>0</td>\n",
       "      <td>0</td>\n",
       "      <td>1</td>\n",
       "      <td>0</td>\n",
       "      <td>0</td>\n",
       "      <td>1</td>\n",
       "      <td>0</td>\n",
       "      <td>0</td>\n",
       "      <td>...</td>\n",
       "      <td>0</td>\n",
       "      <td>0</td>\n",
       "      <td>0</td>\n",
       "      <td>1</td>\n",
       "      <td>0</td>\n",
       "      <td>0</td>\n",
       "      <td>0</td>\n",
       "      <td>0</td>\n",
       "      <td>0</td>\n",
       "      <td>0</td>\n",
       "    </tr>\n",
       "    <tr>\n",
       "      <th>4</th>\n",
       "      <td>11061</td>\n",
       "      <td>1</td>\n",
       "      <td>1</td>\n",
       "      <td>0</td>\n",
       "      <td>0</td>\n",
       "      <td>0</td>\n",
       "      <td>0</td>\n",
       "      <td>0</td>\n",
       "      <td>0</td>\n",
       "      <td>0</td>\n",
       "      <td>...</td>\n",
       "      <td>0</td>\n",
       "      <td>0</td>\n",
       "      <td>0</td>\n",
       "      <td>0</td>\n",
       "      <td>1</td>\n",
       "      <td>0</td>\n",
       "      <td>0</td>\n",
       "      <td>0</td>\n",
       "      <td>0</td>\n",
       "      <td>0</td>\n",
       "    </tr>\n",
       "    <tr>\n",
       "      <th>...</th>\n",
       "      <td>...</td>\n",
       "      <td>...</td>\n",
       "      <td>...</td>\n",
       "      <td>...</td>\n",
       "      <td>...</td>\n",
       "      <td>...</td>\n",
       "      <td>...</td>\n",
       "      <td>...</td>\n",
       "      <td>...</td>\n",
       "      <td>...</td>\n",
       "      <td>...</td>\n",
       "      <td>...</td>\n",
       "      <td>...</td>\n",
       "      <td>...</td>\n",
       "      <td>...</td>\n",
       "      <td>...</td>\n",
       "      <td>...</td>\n",
       "      <td>...</td>\n",
       "      <td>...</td>\n",
       "      <td>...</td>\n",
       "      <td>...</td>\n",
       "    </tr>\n",
       "    <tr>\n",
       "      <th>11900</th>\n",
       "      <td>9316</td>\n",
       "      <td>0</td>\n",
       "      <td>0</td>\n",
       "      <td>0</td>\n",
       "      <td>0</td>\n",
       "      <td>0</td>\n",
       "      <td>0</td>\n",
       "      <td>0</td>\n",
       "      <td>0</td>\n",
       "      <td>0</td>\n",
       "      <td>...</td>\n",
       "      <td>0</td>\n",
       "      <td>0</td>\n",
       "      <td>0</td>\n",
       "      <td>0</td>\n",
       "      <td>0</td>\n",
       "      <td>0</td>\n",
       "      <td>0</td>\n",
       "      <td>0</td>\n",
       "      <td>0</td>\n",
       "      <td>0</td>\n",
       "    </tr>\n",
       "    <tr>\n",
       "      <th>11901</th>\n",
       "      <td>5543</td>\n",
       "      <td>0</td>\n",
       "      <td>0</td>\n",
       "      <td>0</td>\n",
       "      <td>0</td>\n",
       "      <td>0</td>\n",
       "      <td>0</td>\n",
       "      <td>0</td>\n",
       "      <td>0</td>\n",
       "      <td>0</td>\n",
       "      <td>...</td>\n",
       "      <td>0</td>\n",
       "      <td>0</td>\n",
       "      <td>0</td>\n",
       "      <td>0</td>\n",
       "      <td>0</td>\n",
       "      <td>0</td>\n",
       "      <td>0</td>\n",
       "      <td>0</td>\n",
       "      <td>0</td>\n",
       "      <td>0</td>\n",
       "    </tr>\n",
       "    <tr>\n",
       "      <th>11902</th>\n",
       "      <td>5621</td>\n",
       "      <td>0</td>\n",
       "      <td>0</td>\n",
       "      <td>0</td>\n",
       "      <td>0</td>\n",
       "      <td>0</td>\n",
       "      <td>0</td>\n",
       "      <td>0</td>\n",
       "      <td>0</td>\n",
       "      <td>0</td>\n",
       "      <td>...</td>\n",
       "      <td>0</td>\n",
       "      <td>0</td>\n",
       "      <td>0</td>\n",
       "      <td>0</td>\n",
       "      <td>0</td>\n",
       "      <td>0</td>\n",
       "      <td>0</td>\n",
       "      <td>0</td>\n",
       "      <td>0</td>\n",
       "      <td>0</td>\n",
       "    </tr>\n",
       "    <tr>\n",
       "      <th>11903</th>\n",
       "      <td>6133</td>\n",
       "      <td>0</td>\n",
       "      <td>0</td>\n",
       "      <td>0</td>\n",
       "      <td>0</td>\n",
       "      <td>0</td>\n",
       "      <td>0</td>\n",
       "      <td>0</td>\n",
       "      <td>0</td>\n",
       "      <td>0</td>\n",
       "      <td>...</td>\n",
       "      <td>0</td>\n",
       "      <td>0</td>\n",
       "      <td>0</td>\n",
       "      <td>0</td>\n",
       "      <td>0</td>\n",
       "      <td>0</td>\n",
       "      <td>0</td>\n",
       "      <td>0</td>\n",
       "      <td>0</td>\n",
       "      <td>0</td>\n",
       "    </tr>\n",
       "    <tr>\n",
       "      <th>11904</th>\n",
       "      <td>26081</td>\n",
       "      <td>0</td>\n",
       "      <td>0</td>\n",
       "      <td>0</td>\n",
       "      <td>0</td>\n",
       "      <td>0</td>\n",
       "      <td>0</td>\n",
       "      <td>0</td>\n",
       "      <td>0</td>\n",
       "      <td>0</td>\n",
       "      <td>...</td>\n",
       "      <td>0</td>\n",
       "      <td>0</td>\n",
       "      <td>0</td>\n",
       "      <td>0</td>\n",
       "      <td>0</td>\n",
       "      <td>0</td>\n",
       "      <td>0</td>\n",
       "      <td>0</td>\n",
       "      <td>0</td>\n",
       "      <td>0</td>\n",
       "    </tr>\n",
       "  </tbody>\n",
       "</table>\n",
       "<p>11905 rows × 44 columns</p>\n",
       "</div>"
      ],
      "text/plain": [
       "       anime_id  Action  Adventure  Cars  Comedy  Dementia  Demons  Drama  \\\n",
       "0         32281       0          0     0       0         0       0      1   \n",
       "1          5114       1          1     0       0         0       0      1   \n",
       "2         28977       1          0     0       1         0       0      0   \n",
       "3         32935       0          0     0       1         0       0      1   \n",
       "4         11061       1          1     0       0         0       0      0   \n",
       "...         ...     ...        ...   ...     ...       ...     ...    ...   \n",
       "11900      9316       0          0     0       0         0       0      0   \n",
       "11901      5543       0          0     0       0         0       0      0   \n",
       "11902      5621       0          0     0       0         0       0      0   \n",
       "11903      6133       0          0     0       0         0       0      0   \n",
       "11904     26081       0          0     0       0         0       0      0   \n",
       "\n",
       "       Ecchi  Fantasy  ...  Shounen Ai  Slice of Life  Space  Sports  \\\n",
       "0          0        0  ...           0              0      0       0   \n",
       "1          0        1  ...           0              0      0       0   \n",
       "2          0        0  ...           0              0      0       0   \n",
       "3          0        0  ...           0              0      0       1   \n",
       "4          0        0  ...           0              0      0       0   \n",
       "...      ...      ...  ...         ...            ...    ...     ...   \n",
       "11900      0        0  ...           0              0      0       0   \n",
       "11901      0        0  ...           0              0      0       0   \n",
       "11902      0        0  ...           0              0      0       0   \n",
       "11903      0        0  ...           0              0      0       0   \n",
       "11904      0        0  ...           0              0      0       0   \n",
       "\n",
       "       Super Power  Supernatural  Thriller  Vampire  Yaoi  Yuri  \n",
       "0                0             1         0        0     0     0  \n",
       "1                0             0         0        0     0     0  \n",
       "2                0             0         0        0     0     0  \n",
       "3                0             0         0        0     0     0  \n",
       "4                1             0         0        0     0     0  \n",
       "...            ...           ...       ...      ...   ...   ...  \n",
       "11900            0             0         0        0     0     0  \n",
       "11901            0             0         0        0     0     0  \n",
       "11902            0             0         0        0     0     0  \n",
       "11903            0             0         0        0     0     0  \n",
       "11904            0             0         0        0     0     0  \n",
       "\n",
       "[11905 rows x 44 columns]"
      ]
     },
     "execution_count": 18,
     "metadata": {},
     "output_type": "execute_result"
    }
   ],
   "source": [
    "anime_features = data[[\"anime_id\", \"genre\"]].copy()\n",
    "\n",
    "for genre in unique_genres:\n",
    "        anime_features[genre] = data[\"genre\"].apply(lambda x: int(genre in x))\n",
    "\n",
    "anime_features.drop(columns='genre', inplace=True)\n",
    "\n",
    "genre_matrix = anime_features.drop(columns='anime_id').values\n",
    "\n",
    "anime_features\n"
   ]
  },
  {
   "cell_type": "code",
   "execution_count": 19,
   "id": "2fa9f482",
   "metadata": {},
   "outputs": [
    {
     "data": {
      "text/plain": [
       "array([[1.        , 0.18898224, 0.        , ..., 0.        , 0.        ,\n",
       "        0.        ],\n",
       "       [0.18898224, 1.        , 0.28571429, ..., 0.        , 0.        ,\n",
       "        0.        ],\n",
       "       [0.        , 0.28571429, 1.        , ..., 0.        , 0.        ,\n",
       "        0.        ],\n",
       "       ...,\n",
       "       [0.        , 0.        , 0.        , ..., 1.        , 1.        ,\n",
       "        1.        ],\n",
       "       [0.        , 0.        , 0.        , ..., 1.        , 1.        ,\n",
       "        1.        ],\n",
       "       [0.        , 0.        , 0.        , ..., 1.        , 1.        ,\n",
       "        1.        ]])"
      ]
     },
     "execution_count": 19,
     "metadata": {},
     "output_type": "execute_result"
    }
   ],
   "source": [
    "similarity_matrix = cosine_similarity(genre_matrix)\n",
    "similarity_matrix"
   ]
  },
  {
   "cell_type": "code",
   "execution_count": 22,
   "id": "164a730f",
   "metadata": {},
   "outputs": [],
   "source": [
    "def get_top_10_similar(anime_id):\n",
    "    idx = data.index[data['anime_id'] == anime_id][0]\n",
    "\n",
    "    sim_scores = similarity_matrix[idx]\n",
    "\n",
    "    similar_indices = sim_scores.argsort()[::-1]\n",
    "    similar_indices = [i for i in similar_indices if i != idx][:10]\n",
    "\n",
    "    top_scores = sim_scores[similar_indices]\n",
    "\n",
    "    result = data.iloc[similar_indices][['anime_id', 'name', 'genre']].copy()\n",
    "    result['similarity'] = top_scores\n",
    "\n",
    "    return result.reset_index(drop=True)"
   ]
  },
  {
   "cell_type": "code",
   "execution_count": 23,
   "id": "2ba1323b",
   "metadata": {},
   "outputs": [
    {
     "data": {
      "text/html": [
       "<div>\n",
       "<style scoped>\n",
       "    .dataframe tbody tr th:only-of-type {\n",
       "        vertical-align: middle;\n",
       "    }\n",
       "\n",
       "    .dataframe tbody tr th {\n",
       "        vertical-align: top;\n",
       "    }\n",
       "\n",
       "    .dataframe thead th {\n",
       "        text-align: right;\n",
       "    }\n",
       "</style>\n",
       "<table border=\"1\" class=\"dataframe\">\n",
       "  <thead>\n",
       "    <tr style=\"text-align: right;\">\n",
       "      <th></th>\n",
       "      <th>anime_id</th>\n",
       "      <th>name</th>\n",
       "      <th>genre</th>\n",
       "      <th>similarity</th>\n",
       "    </tr>\n",
       "  </thead>\n",
       "  <tbody>\n",
       "    <tr>\n",
       "      <th>0</th>\n",
       "      <td>401</td>\n",
       "      <td>Rurouni Kenshin: Meiji Kenkaku Romantan - Seis...</td>\n",
       "      <td>Drama, Historical, Romance, Samurai, Shounen</td>\n",
       "      <td>0.800000</td>\n",
       "    </tr>\n",
       "    <tr>\n",
       "      <th>1</th>\n",
       "      <td>3744</td>\n",
       "      <td>Crayon Shin-chan Movie 10: Arashi wo Yobu Appa...</td>\n",
       "      <td>Drama, Historical, Kids, Romance, Samurai</td>\n",
       "      <td>0.800000</td>\n",
       "    </tr>\n",
       "    <tr>\n",
       "      <th>2</th>\n",
       "      <td>4723</td>\n",
       "      <td>Seishun Anime Zenshuu</td>\n",
       "      <td>Drama, Historical, Romance</td>\n",
       "      <td>0.774597</td>\n",
       "    </tr>\n",
       "    <tr>\n",
       "      <th>3</th>\n",
       "      <td>3488</td>\n",
       "      <td>Genji Monogatari</td>\n",
       "      <td>Drama, Historical, Romance</td>\n",
       "      <td>0.774597</td>\n",
       "    </tr>\n",
       "    <tr>\n",
       "      <th>4</th>\n",
       "      <td>5155</td>\n",
       "      <td>Genji Monogatari Sennenki</td>\n",
       "      <td>Drama, Historical, Romance</td>\n",
       "      <td>0.774597</td>\n",
       "    </tr>\n",
       "    <tr>\n",
       "      <th>5</th>\n",
       "      <td>730</td>\n",
       "      <td>Houkago no Shokuinshitsu</td>\n",
       "      <td>Drama, Romance, Yaoi</td>\n",
       "      <td>0.774597</td>\n",
       "    </tr>\n",
       "    <tr>\n",
       "      <th>6</th>\n",
       "      <td>16662</td>\n",
       "      <td>Kaze Tachinu</td>\n",
       "      <td>Drama, Historical, Romance</td>\n",
       "      <td>0.774597</td>\n",
       "    </tr>\n",
       "    <tr>\n",
       "      <th>7</th>\n",
       "      <td>2148</td>\n",
       "      <td>Okane ga Nai</td>\n",
       "      <td>Drama, Romance, Yaoi</td>\n",
       "      <td>0.774597</td>\n",
       "    </tr>\n",
       "    <tr>\n",
       "      <th>8</th>\n",
       "      <td>734</td>\n",
       "      <td>Kizuna: Koi no kara Sawagi</td>\n",
       "      <td>Drama, Romance, Yaoi</td>\n",
       "      <td>0.774597</td>\n",
       "    </tr>\n",
       "    <tr>\n",
       "      <th>9</th>\n",
       "      <td>29653</td>\n",
       "      <td>Futari Zamurai Homare no Kawakiri</td>\n",
       "      <td>Drama, Historical, Samurai</td>\n",
       "      <td>0.774597</td>\n",
       "    </tr>\n",
       "  </tbody>\n",
       "</table>\n",
       "</div>"
      ],
      "text/plain": [
       "   anime_id                                               name  \\\n",
       "0       401  Rurouni Kenshin: Meiji Kenkaku Romantan - Seis...   \n",
       "1      3744  Crayon Shin-chan Movie 10: Arashi wo Yobu Appa...   \n",
       "2      4723                              Seishun Anime Zenshuu   \n",
       "3      3488                                   Genji Monogatari   \n",
       "4      5155                          Genji Monogatari Sennenki   \n",
       "5       730                           Houkago no Shokuinshitsu   \n",
       "6     16662                                       Kaze Tachinu   \n",
       "7      2148                                       Okane ga Nai   \n",
       "8       734                         Kizuna: Koi no kara Sawagi   \n",
       "9     29653                  Futari Zamurai Homare no Kawakiri   \n",
       "\n",
       "                                          genre  similarity  \n",
       "0  Drama, Historical, Romance, Samurai, Shounen    0.800000  \n",
       "1     Drama, Historical, Kids, Romance, Samurai    0.800000  \n",
       "2                    Drama, Historical, Romance    0.774597  \n",
       "3                    Drama, Historical, Romance    0.774597  \n",
       "4                    Drama, Historical, Romance    0.774597  \n",
       "5                          Drama, Romance, Yaoi    0.774597  \n",
       "6                    Drama, Historical, Romance    0.774597  \n",
       "7                          Drama, Romance, Yaoi    0.774597  \n",
       "8                          Drama, Romance, Yaoi    0.774597  \n",
       "9                    Drama, Historical, Samurai    0.774597  "
      ]
     },
     "execution_count": 23,
     "metadata": {},
     "output_type": "execute_result"
    }
   ],
   "source": [
    "get_top_10_similar(2238)"
   ]
  }
 ],
 "metadata": {
  "kernelspec": {
   "display_name": "Python 3",
   "language": "python",
   "name": "python3"
  },
  "language_info": {
   "codemirror_mode": {
    "name": "ipython",
    "version": 3
   },
   "file_extension": ".py",
   "mimetype": "text/x-python",
   "name": "python",
   "nbconvert_exporter": "python",
   "pygments_lexer": "ipython3",
   "version": "3.12.4"
  }
 },
 "nbformat": 4,
 "nbformat_minor": 5
}
